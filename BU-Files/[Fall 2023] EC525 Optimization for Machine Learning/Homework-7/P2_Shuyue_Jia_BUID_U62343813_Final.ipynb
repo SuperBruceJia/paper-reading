{
  "cells": [
    {
      "cell_type": "markdown",
      "metadata": {
        "id": "Zp_nCL_eeFqv"
      },
      "source": [
        "**IMPORTANT:** You should run this using a GPU! In Colab, go to the \"runtime\" menu, choose \"change runtime type\", and select \"GPU\" from the hardware accelerator dropdown menu. Otherwise, this might take much longer.\n",
        "\n",
        "There are **5** places you need to write code in this notebook, for questions **1**, **2a** and **2b**, **3a** and **3b**. All parts are with 10 points, for a total of 50 points.\n",
        "\n",
        "To turn in this homework: download as .ipynb (File -> download as .ipynb). Make the filename YOURNAME_PA2.ipynb and send via email attachment to opt4mlclass+fall2023@gmail.com. with your name and PA2 in the subject line.\n",
        "\n",
        "Be aware: this assignment may require up to 2 hours of computation even when everything is implemented correctly.\n",
        "\n",
        "Please read the comments and explanation code carefully. In particular, you may want to study the provided implementation of SGD to get an idea of how the pytorch optimizer class works."
      ]
    },
    {
      "cell_type": "code",
      "execution_count": 1,
      "metadata": {
        "id": "tohFb7lQUdI7",
        "colab": {
          "base_uri": "https://localhost:8080/"
        },
        "outputId": "3d5efc68-3eb7-4240-90bb-c9466e796b73"
      },
      "outputs": [
        {
          "output_type": "stream",
          "name": "stdout",
          "text": [
            "Cloning into 'PA2'...\n",
            "remote: Enumerating objects: 16, done.\u001b[K\n",
            "remote: Counting objects: 100% (16/16), done.\u001b[K\n",
            "remote: Compressing objects: 100% (16/16), done.\u001b[K\n",
            "remote: Total 16 (delta 6), reused 2 (delta 0), pack-reused 0\u001b[K\n",
            "Receiving objects: 100% (16/16), 19.56 KiB | 6.52 MiB/s, done.\n",
            "Resolving deltas: 100% (6/6), done.\n",
            "--2023-11-07 21:15:09--  https://raw.githubusercontent.com/amephraim/nlp/master/texts/J.%20K.%20Rowling%20-%20Harry%20Potter%201%20-%20Sorcerer's%20Stone.txt\n",
            "Resolving raw.githubusercontent.com (raw.githubusercontent.com)... 185.199.108.133, 185.199.109.133, 185.199.110.133, ...\n",
            "Connecting to raw.githubusercontent.com (raw.githubusercontent.com)|185.199.108.133|:443... connected.\n",
            "HTTP request sent, awaiting response... 200 OK\n",
            "Length: 439742 (429K) [text/plain]\n",
            "Saving to: ‘J. K. Rowling - Harry Potter 1 - Sorcerer's Stone.txt’\n",
            "\n",
            "J. K. Rowling - Har 100%[===================>] 429.44K  --.-KB/s    in 0.03s   \n",
            "\n",
            "2023-11-07 21:15:10 (12.0 MB/s) - ‘J. K. Rowling - Harry Potter 1 - Sorcerer's Stone.txt’ saved [439742/439742]\n",
            "\n",
            "--2023-11-07 21:15:10--  https://raw.githubusercontent.com/amephraim/nlp/master/texts/J.%20K.%20Rowling%20-%20Harry%20Potter%202%20-%20The%20Chamber%20Of%20Secrets.txt\n",
            "Resolving raw.githubusercontent.com (raw.githubusercontent.com)... 185.199.108.133, 185.199.109.133, 185.199.110.133, ...\n",
            "Connecting to raw.githubusercontent.com (raw.githubusercontent.com)|185.199.108.133|:443... connected.\n",
            "HTTP request sent, awaiting response... 200 OK\n",
            "Length: 492130 (481K) [text/plain]\n",
            "Saving to: ‘J. K. Rowling - Harry Potter 2 - The Chamber Of Secrets.txt’\n",
            "\n",
            "J. K. Rowling - Har 100%[===================>] 480.60K  --.-KB/s    in 0.04s   \n",
            "\n",
            "2023-11-07 21:15:10 (13.1 MB/s) - ‘J. K. Rowling - Harry Potter 2 - The Chamber Of Secrets.txt’ saved [492130/492130]\n",
            "\n",
            "--2023-11-07 21:15:10--  https://raw.githubusercontent.com/amephraim/nlp/master/texts/J.%20K.%20Rowling%20-%20Harry%20Potter%203%20-%20Prisoner%20of%20Azkaban.txt\n",
            "Resolving raw.githubusercontent.com (raw.githubusercontent.com)... 185.199.108.133, 185.199.109.133, 185.199.110.133, ...\n",
            "Connecting to raw.githubusercontent.com (raw.githubusercontent.com)|185.199.108.133|:443... connected.\n",
            "HTTP request sent, awaiting response... 200 OK\n",
            "Length: 611601 (597K) [text/plain]\n",
            "Saving to: ‘J. K. Rowling - Harry Potter 3 - Prisoner of Azkaban.txt’\n",
            "\n",
            "J. K. Rowling - Har 100%[===================>] 597.27K  --.-KB/s    in 0.03s   \n",
            "\n",
            "2023-11-07 21:15:10 (17.5 MB/s) - ‘J. K. Rowling - Harry Potter 3 - Prisoner of Azkaban.txt’ saved [611601/611601]\n",
            "\n",
            "--2023-11-07 21:15:10--  https://raw.githubusercontent.com/amephraim/nlp/master/texts/J.%20K.%20Rowling%20-%20Harry%20Potter%204%20-%20The%20Goblet%20of%20Fire.txt\n",
            "Resolving raw.githubusercontent.com (raw.githubusercontent.com)... 185.199.109.133, 185.199.108.133, 185.199.110.133, ...\n",
            "Connecting to raw.githubusercontent.com (raw.githubusercontent.com)|185.199.109.133|:443... connected.\n",
            "HTTP request sent, awaiting response... 200 OK\n",
            "Length: 1109179 (1.1M) [text/plain]\n",
            "Saving to: ‘J. K. Rowling - Harry Potter 4 - The Goblet of Fire.txt’\n",
            "\n",
            "J. K. Rowling - Har 100%[===================>]   1.06M  --.-KB/s    in 0.04s   \n",
            "\n",
            "2023-11-07 21:15:11 (26.1 MB/s) - ‘J. K. Rowling - Harry Potter 4 - The Goblet of Fire.txt’ saved [1109179/1109179]\n",
            "\n"
          ]
        }
      ],
      "source": [
        "# Clone attention modeling and training code needed for question 3\n",
        "!git clone https://github.com/optmlclass/PA2_fall2023.git PA2\n",
        "\n",
        "# get harry potter data (also for question 3)\n",
        "# !wget https://raw.githubusercontent.com/karpathy/char-rnn/master/data/tinyshakespeare/input.txt\n",
        "!wget \"https://raw.githubusercontent.com/amephraim/nlp/master/texts/J.%20K.%20Rowling%20-%20Harry%20Potter%201%20-%20Sorcerer's%20Stone.txt\"\n",
        "!wget \"https://raw.githubusercontent.com/amephraim/nlp/master/texts/J.%20K.%20Rowling%20-%20Harry%20Potter%202%20-%20The%20Chamber%20Of%20Secrets.txt\"\n",
        "!wget \"https://raw.githubusercontent.com/amephraim/nlp/master/texts/J.%20K.%20Rowling%20-%20Harry%20Potter%203%20-%20Prisoner%20of%20Azkaban.txt\"\n",
        "!wget \"https://raw.githubusercontent.com/amephraim/nlp/master/texts/J.%20K.%20Rowling%20-%20Harry%20Potter%204%20-%20The%20Goblet%20of%20Fire.txt\""
      ]
    },
    {
      "cell_type": "code",
      "execution_count": 2,
      "metadata": {
        "id": "eV3jEpEcUqOa"
      },
      "outputs": [],
      "source": [
        "import torch, torchvision\n",
        "import torchvision.transforms as transforms\n",
        "from torch.optim import Optimizer\n",
        "import numpy as np\n",
        "from tqdm import tqdm\n",
        "from matplotlib import pyplot as plt\n",
        "from collections.abc import Iterable\n",
        "\n",
        "# set up logging\n",
        "import logging\n",
        "logging.basicConfig(\n",
        "        format=\"%(asctime)s - %(levelname)s - %(name)s -   %(message)s\",\n",
        "        datefmt=\"%m/%d/%Y %H:%M:%S\",\n",
        "        level=logging.INFO,\n",
        ")\n",
        "\n",
        "# make deterministic\n",
        "from PA2.sequenceutils import set_seed\n",
        "set_seed(42)\n",
        "\n",
        "# imports for attention model\n",
        "# more imports\n",
        "from PA2.attentionmodel import GPT, GPTConfig\n",
        "from PA2.sequenceutils import sample, CharDataset\n",
        "from PA2.attentiontrainer import Trainer, TrainerConfig"
      ]
    },
    {
      "cell_type": "code",
      "execution_count": 3,
      "metadata": {
        "id": "jprhL760UwwY"
      },
      "outputs": [],
      "source": [
        "# Basic SGD implementation for reference.\n",
        "# for base class, see https://github.com/pytorch/pytorch/blob/master/torch/optim/optimizer.py\n",
        "# for official pytorch SGD implementation, see https://github.com/pytorch/pytorch/blob/master/torch/optim/sgd.py\n",
        "\n",
        "class SGD(Optimizer):\n",
        "  def __init__(self, params, lr=1.0):\n",
        "    super(SGD, self).__init__(params, {'lr': lr})\n",
        "\n",
        "    # The params argument can be a list of pytorch variables, or\n",
        "    # a list of dicts. If it is a list of dicts, each dict should have\n",
        "    # a key 'params' that is a list of pytorch variables,\n",
        "    # and optionally another key 'lr' that specifies the learning rate\n",
        "    # for those variables. If 'lr' is not provided, the default value\n",
        "    # is the single value provided as an argument after params to this\n",
        "    # constructor.\n",
        "    # If params is just a list of pytorch variables, it is the same\n",
        "    # as if params were actually a list containing a single dictionary\n",
        "    # whose 'params' key value is the list of variables.\n",
        "    # See examples in following code blocks for use of params.\n",
        "\n",
        "    # Set up an iteration counter.\n",
        "    # self.state[p] is a python dict for each parameter p\n",
        "    # that can be used to store various state useful in the optimization\n",
        "    # algorithm. In this case, we simply store the iteration count, although\n",
        "    # it is not used in this simple algorithm.\n",
        "    for group in self.param_groups:\n",
        "      for p in group['params']:\n",
        "        state = self.state[p]\n",
        "        state['step'] = 0\n",
        "\n",
        "\n",
        "  @torch.no_grad()\n",
        "  def step(self, closure=None):\n",
        "    loss = None\n",
        "    if closure is not None:\n",
        "      with torch.enable_grad():\n",
        "        loss = closure()\n",
        "\n",
        "    for group in self.param_groups:\n",
        "      lr = group['lr']\n",
        "\n",
        "      # it is common practice to call the model parameters p in code.\n",
        "      # in class we follow more closely analytical conventions, in which the\n",
        "      # parameters are often called w for weights.\n",
        "      for p in group['params']:\n",
        "        if p.grad is None:\n",
        "          continue\n",
        "\n",
        "        # Update the iteration counter (again, this is not actually used in this algorithm)\n",
        "        state = self.state[p]\n",
        "        step = state['step']\n",
        "        step += 1\n",
        "\n",
        "        # Perform the SGD update. p.grad holds the gradient of the loss\n",
        "        # with respect to p.\n",
        "        p -= lr * p.grad"
      ]
    },
    {
      "cell_type": "code",
      "execution_count": 4,
      "metadata": {
        "id": "B7GJhIPkXICX",
        "colab": {
          "base_uri": "https://localhost:8080/",
          "height": 454
        },
        "outputId": "ac1a3377-3fd1-4e16-d9ee-e82fa25ef94c"
      },
      "outputs": [
        {
          "output_type": "display_data",
          "data": {
            "text/plain": [
              "<Figure size 640x480 with 1 Axes>"
            ],
            "image/png": "[encoded data removed]"
          },
          "metadata": {}
        }
      ],
      "source": [
        "# Simple linear regression problem\n",
        "dimension = 10\n",
        "num_iter = 10000\n",
        "\n",
        "mean = torch.zeros(dimension)\n",
        "std = torch.ones(dimension)\n",
        "\n",
        "def loss_func(w_hat, b_hat, w_true, b_true):\n",
        "  # simple linear regression problem, although\n",
        "  # slightly non-standard loss. See pytorch docs\n",
        "  # for description of loss function.\n",
        "\n",
        "  # features\n",
        "  x = torch.normal(mean, std)\n",
        "\n",
        "  # true label is a linear function of features plus noise.\n",
        "  noise = np.random.normal(0.0, 0.01)\n",
        "  y_true = torch.dot(x, w_true) + b_true + noise\n",
        "\n",
        "  y_hat = torch.dot(x, w_hat) + b_hat\n",
        "\n",
        "  loss = torch.nn.SmoothL1Loss()\n",
        "  return loss(y_hat, y_true)\n",
        "\n",
        "\n",
        "# Set \"true\" parameter value to be a random normal vector with covariance 10*I\n",
        "w_true = 10*torch.normal(mean, std)\n",
        "\n",
        "# make true bias term quite large so that it is better\n",
        "# to have a high learning rate for the bias. This makes\n",
        "# it advantageous to use the params as a dict in the\n",
        "# following cell.\n",
        "b_true = torch.normal(torch.zeros(1), torch.ones(1))\n",
        "\n",
        "\n",
        "# declare variables that will actually be trained.\n",
        "# \"requires_grad\" tells pytorch that it may have to compute\n",
        "# gradients with respect to these variables so that it initialize the\n",
        "# relevant autograd data structures.\n",
        "w = torch.zeros(dimension, requires_grad=True)\n",
        "b = torch.zeros(1, requires_grad=True)\n",
        "\n",
        "optimizer = SGD([w, b], 0.010)\n",
        "\n",
        "losses = []\n",
        "\n",
        "for t in range(num_iter):\n",
        "\n",
        "  # \"zero_grad\" resets all variable.grad values to 0 and resets all\n",
        "  # intermediate data that might have been saved for a backwards pass.\n",
        "  # This is useful when variables need to be reused for many backward passes.\n",
        "  # Note that your PA1 autograd implementation did not need to have this\n",
        "  # functionality because the SGD you implemented just created  new\n",
        "  # variables every iteration.\n",
        "  optimizer.zero_grad()\n",
        "\n",
        "  # Compute the loss function - this is the forward pass\n",
        "  loss = loss_func(w, b, w_true, b_true)\n",
        "\n",
        "  # loss.backward has essentially the same functionality as the .backward\n",
        "  # function you implemented in PA1.\n",
        "  loss.backward()\n",
        "\n",
        "  optimizer.step()\n",
        "\n",
        "  losses.append(loss.item())\n",
        "\n",
        "plt.plot(losses)\n",
        "plt.ylabel('loss')\n",
        "plt.xlabel('iteration')\n",
        "plt.xscale('log')\n",
        "plt.yscale('log')\n",
        "plt.show()"
      ]
    },
    {
      "cell_type": "code",
      "execution_count": 5,
      "metadata": {
        "id": "Fo8zvSzpbxgJ",
        "colab": {
          "base_uri": "https://localhost:8080/",
          "height": 454
        },
        "outputId": "5661acaf-93e1-451b-fd06-eefe673a3dd9"
      },
      "outputs": [
        {
          "output_type": "display_data",
          "data": {
            "text/plain": [
              "<Figure size 640x480 with 1 Axes>"
            ],
            "image/png": "[encoded data removed]"
          },
          "metadata": {}
        }
      ],
      "source": [
        "w = torch.zeros(dimension, requires_grad=True)\n",
        "b = torch.zeros(1, requires_grad=True)\n",
        "param_groups = [{'params': [w], 'lr': 0.1}, {'params': [b], 'lr': 0.01}]\n",
        "optimizer = SGD(param_groups, 0.10)\n",
        "\n",
        "losses = []\n",
        "for t in range(num_iter):\n",
        "  optimizer.zero_grad()\n",
        "  loss = loss_func(w, b, w_true, b_true)\n",
        "  loss.backward()\n",
        "  optimizer.step()\n",
        "\n",
        "  losses.append(loss.item())\n",
        "\n",
        "plt.plot(losses)\n",
        "plt.ylabel('loss')\n",
        "plt.xlabel('iteration')\n",
        "plt.xscale('log')\n",
        "plt.yscale('log')\n",
        "plt.show()"
      ]
    },
    {
      "cell_type": "markdown",
      "metadata": {
        "id": "IgaaUrMPXCt5"
      },
      "source": [
        "Remarks\n",
        "\n",
        "1. WHat are these \"`p`\" values representing?\n",
        "\n",
        "In class, we frequently consider a single parameter $w$ to describe the model we are training, so that $w$ would represent all the weights in a neural network for example. However, in practice usually models are specified in a more modular manner. For example, we could have a linear model with a bias as:\n",
        "$$\n",
        "\\hat y = \\langle A, x\\rangle + B\n",
        "$$\n",
        "where $A\\in \\mathbb{R}^d$ is a weight vector and $B\\in\\mathbb{R}$ is a bias. For theoretical analyses, we might consider this model as parametrized by a single vector $w\\in \\mathbb{R}^{d+1}$, but when programming it is far simpler to have separate variables for $A$ and $B$. Just as in your previous programming assignment, the `A.grad` and `B.grad` variables will then be populated with  the partial derivatives of the overall loss with respect to $A$ and $B$. Thus, to implement a gradient based optimizer, we need to loop over all variables that were involved in specifying the model. `p` is the variable used to step through this loop, so in the linear model with bias example, `p` would take on both `A` and `B` as values.\n",
        "\n",
        "2. What does `@torch.no_grad` do?\n",
        "\n",
        "This tells pytorch not to record gradient operations for anything that happens inside the function, so it will not be able to compute derivatives of these operations. However, this is important to enable because some operations (like performing an update) inherently should not be differentiated, and pytorch will thrown an error if you do not explicitly tell it that you do not want to differentiate through this operation.\n",
        "\n",
        "3. Why do we need `torch.enable_grad` when using the closure?\n",
        "\n",
        "Computing the closure (closure is essentially a fancy name for \"function\") is an alternative to providing the gradient to the optimization step. Instead, the loss $\\ell(w_t, z_t)$ is computed by the closure. However, the closure might need to compute some derivatives, so we turn on `torch.enable_grad`.\n",
        "\n",
        "## PART 1: Per-Variable AdaGrad\n",
        "\n",
        "#Question 1\n",
        "\n",
        "1. Fill out the class below to implement a version of SGD that sets the \"adaptive\" learning rate on a per-pytorch variable basis:\n",
        "$$\n",
        "\\eta_t[p] = \\frac{lr}{\\sqrt{G_t[p]}}\n",
        "$$\n",
        "$lr$ (for \"learning rate\") is provided as input to the algorithm, $t$ is the current iteration count, and\n",
        "$$\n",
        "G_t[p] = \\sum_{i=1}^t \\|\\nabla \\ell(w_i, z_i)[p]\\|^2\n",
        "$$\n",
        "where here $p$ indicates a pytorch variable object (which could be a high-dimensional vector), and $\\nabla \\ell(w_t, z_t)[p]$ indicates the partial derivative with respect to $p$ (i.e. the coordinates of the gradient corresponding to $p$).\n",
        "If you are familiar with the AdaGrad update, note that this is NOT the same because AdaGrad uses a *per-coordinate* learning rate, while we use a *per-variable* learning rate. For very large models in which memory is at a premium, this kind of change can reduce the memory required by the optimizer while still preserving some of the adaptive properties of AdaGrad.\n",
        "\n",
        "Read the `__init__` method carefully as it has changed slightly from the original `SGD` class above.\n",
        "\n"
      ]
    },
    {
      "cell_type": "code",
      "execution_count": 18,
      "metadata": {
        "id": "1BZwfQwgf-i7"
      },
      "outputs": [],
      "source": [
        "class SGD_adaptive(Optimizer):\n",
        "  def __init__(self, params, lr=1.0):\n",
        "      super(SGD_adaptive, self).__init__(params, {'lr': lr})\n",
        "\n",
        "      # Iterate through parameter groups within a model optimizer (e.g., SGD, Adam).\n",
        "      for group in self.param_groups:\n",
        "          # Within each parameter group, iterate through individual parameters.\n",
        "          for p in group['params']:\n",
        "              # Access the state information associated with the current parameter 'p'.\n",
        "              state = self.state[p]\n",
        "\n",
        "              # Initialize the 'step' and 'gt' (gradient term) to 0 for this parameter.\n",
        "              state['step'] = 0\n",
        "              state['gt'] = 0\n",
        "\n",
        "  @torch.no_grad()\n",
        "  def step(self, closure=None):\n",
        "    loss = None\n",
        "    if closure is not None:\n",
        "      with torch.enable_grad():\n",
        "        loss = closure()\n",
        "\n",
        "    for group in self.param_groups:\n",
        "        lr = group['lr']  # Get the learning rate for the current parameter group\n",
        "        for p in group['params']:\n",
        "            if p.grad is None:\n",
        "                continue  # Skip parameters without gradients\n",
        "\n",
        "            # Get or create a state dictionary for the parameter p\n",
        "            state = self.state[p]\n",
        "\n",
        "            # Increment the optimization step count\n",
        "            state['step'] += 1\n",
        "\n",
        "            # Calculate the square of the gradients and accumulate it in the state\n",
        "            state['gt'] += torch.sum(p.grad ** 2)\n",
        "\n",
        "            # Calculate the update for the parameter\n",
        "            step_size = lr / torch.sqrt(state['gt'])  # Calculate the step size\n",
        "            update = step_size * p.grad  # Calculate the update based on the step size and gradient\n",
        "            p.data -= update  # Update the parameter tensor's data"
      ]
    },
    {
      "cell_type": "code",
      "execution_count": 19,
      "metadata": {
        "id": "AVFwzCFUcewz",
        "colab": {
          "base_uri": "https://localhost:8080/",
          "height": 454
        },
        "outputId": "33fb9631-ecbb-4636-ec9f-eb00d1b81520"
      },
      "outputs": [
        {
          "output_type": "display_data",
          "data": {
            "text/plain": [
              "<Figure size 640x480 with 1 Axes>"
            ],
            "image/png": "[encoded data removed]"
          },
          "metadata": {}
        }
      ],
      "source": [
        "w = torch.zeros(dimension, requires_grad=True)\n",
        "b = torch.zeros(1, requires_grad=True)\n",
        "optimizer = SGD_adaptive([w, b], 1.0)\n",
        "losses = []\n",
        "for t in range(num_iter):\n",
        "  optimizer.zero_grad()\n",
        "  loss = loss_func(w, b, w_true, b_true)\n",
        "  loss.backward()\n",
        "  optimizer.step()\n",
        "\n",
        "  losses.append(loss.item())\n",
        "\n",
        "plt.plot(losses)\n",
        "plt.ylabel('loss')\n",
        "plt.xlabel('iteration')\n",
        "plt.xscale('log')\n",
        "plt.yscale('log')\n",
        "plt.show()"
      ]
    },
    {
      "cell_type": "markdown",
      "metadata": {
        "id": "owhhpRSrSCJr"
      },
      "source": [
        "See https://pytorch.org/tutorials/beginner/blitz/cifar10_tutorial.html#sphx-glr-beginner-blitz-cifar10-tutorial-py for some similar example of how to set up the process below, from which much of this was copied."
      ]
    },
    {
      "cell_type": "code",
      "execution_count": 20,
      "metadata": {
        "id": "JM_sfJdXgkUq",
        "colab": {
          "base_uri": "https://localhost:8080/"
        },
        "outputId": "66df6841-b38d-4664-d2cb-c48d1e018ce0"
      },
      "outputs": [
        {
          "output_type": "stream",
          "name": "stdout",
          "text": [
            "Files already downloaded and verified\n"
          ]
        }
      ],
      "source": [
        "## These commands create two pytorch \"DataLoader\" objects, one for training\n",
        "# data and one for testing data.\n",
        "# A DataLoader object is essentially a list of training/testing examples with\n",
        "# some extra code attached by pytorch that can send the data to GPUs.\n",
        "\n",
        "# The following three commands produce a torchvision dataset object for both\n",
        "# training and testing data on the CIFAR10 dataset, which is a dataset of images.\n",
        "# these objects are like lists of vectors (the \"transform\" specifies a function\n",
        "# that converts images to vectors).\n",
        "transform = transforms.Compose(\n",
        "    [transforms.ToTensor(),\n",
        "     transforms.Normalize((0.5, 0.5, 0.5), (0.5, 0.5, 0.5))])\n",
        "CIFAR_train = torchvision.datasets.CIFAR10(root='CIFAR10/', train=True, download=True, transform=transform)\n",
        "CIFAR_test = torchvision.datasets.CIFAR10(root='CIFAR10/', train=False, transform=transform)\n",
        "\n",
        "\n",
        "# The next two lines produce the actual DataLoaders. The batch_size argument sets\n",
        "# the batch size, so that the DataLoader will appear like a list [a,b,c...] where\n",
        "# each entry of the list is a batch of batch_size examples.\n",
        "# Setting shuffle=True makes it so that when you start iterating over the examples\n",
        "# in the DataLoader, it will first shuffle the order of the list.\n",
        "trainloader = torch.utils.data.DataLoader(CIFAR_train, batch_size=16,\n",
        "                                          shuffle=True)\n",
        "testloader = torch.utils.data.DataLoader(CIFAR_test, batch_size=256,\n",
        "                                          shuffle=True)"
      ]
    },
    {
      "cell_type": "code",
      "execution_count": 21,
      "metadata": {
        "id": "IcoCaPmQhBra",
        "colab": {
          "base_uri": "https://localhost:8080/"
        },
        "outputId": "9a5f589e-c7e1-46e3-dd72-26ccabc8ba93"
      },
      "outputs": [
        {
          "output_type": "stream",
          "name": "stdout",
          "text": [
            "cuda:0\n"
          ]
        }
      ],
      "source": [
        "device = torch.device(\"cuda:0\" if torch.cuda.is_available() else \"cpu\")\n",
        "\n",
        "# Assuming that we are on a CUDA machine, this should print a CUDA device:\n",
        "print(device)\n"
      ]
    },
    {
      "cell_type": "code",
      "execution_count": 22,
      "metadata": {
        "id": "UQsA0rWgQrUn"
      },
      "outputs": [],
      "source": [
        "## Please read the function signatures and doc string for \"train_resnet\" function.\n",
        "# You do not need to otherwise understand how it works to do this homework. ##\n",
        "\n",
        "def adjust_learning_rate(optimizer, lr):\n",
        "    for param_group in optimizer.param_groups:\n",
        "        param_group['lr'] = lr\n",
        "\n",
        "def train_resnet(optimizer, train_loader, device, lrs, wd=0.01, model=None):\n",
        "  '''\n",
        "  Trains a resnet model on CIFAR10 data.\n",
        "\n",
        "  args:\n",
        "    optimizer: optimizer class that will be instantiated inside this function.\n",
        "    train_loader: pytorch DataLoader object that provides the training examples.\n",
        "    device: pytorch device to use (e.g. a GPU).\n",
        "    lrs: list of learning rates. The length of the list is the number of epochs\n",
        "      to train for. At the start of the ith epoch, the 'lr' parameter of the\n",
        "      optimizer will be set to lrs[i].\n",
        "    wd: l2 regularization constant.\n",
        "    model: can provide a preset pytorch model to train from a checkpoint. If\n",
        "      None, will instantiate a fresh resnet18 model.\n",
        "\n",
        "  returns:\n",
        "    the trained pytorch model object.\n",
        "  '''\n",
        "\n",
        "  if model is None:\n",
        "    model = torchvision.models.resnet18(pretrained=False)\n",
        "  model.to(device)\n",
        "\n",
        "\n",
        "  # define \\ell as the cross-entropy function.\n",
        "  # this function as implemented in pytorch actually combines both the softmax\n",
        "  # and the cross entropy function into one. As a result, it is\n",
        "  # is non-negative, smooth, Lipschitz, and convex in its argument, which\n",
        "  # are the predicted scores for various classes output by some model.\n",
        "  # Note that this does NOT necessarily imply that it has these properties\n",
        "  # with respect to the parameters of the model.\n",
        "  cross_entropy_loss = torch.nn.CrossEntropyLoss()\n",
        "\n",
        "  optimizer = SGD_adaptive(model.parameters(), lrs[0])\n",
        "\n",
        "  num_epochs = len(lrs)\n",
        "\n",
        "  average_loss = 0.0\n",
        "\n",
        "  for epoch, lr in enumerate(lrs):#range(num_epochs):\n",
        "    # iterate over training set. One full pass over the training set is called\n",
        "    # an \"epoch\".\n",
        "    # i is index of example, data is the example (e.g. z_i).\n",
        "    # because shuffle=True when defining the trainloader,\n",
        "    # the training set is shuffled after every complete pass.\n",
        "\n",
        "    adjust_learning_rate(optimizer, lr)\n",
        "\n",
        "    pbar = tqdm(enumerate(train_loader), total=len(train_loader))\n",
        "\n",
        "    for it, data in pbar:\n",
        "      # unpack the example data: inputs is a batch of images,\n",
        "      # labels is a batch of labels.\n",
        "      inputs, labels = data\n",
        "      inputs = inputs.to(device)\n",
        "      labels = labels.to(device)\n",
        "\n",
        "      # pytorch will keep details from old gradients around in case you are going\n",
        "      # to differentiate something else. We therefore need to delete this old\n",
        "      # data before computing the loss so that we only have the gradient\n",
        "      # for this iteration.\n",
        "      optimizer.zero_grad()\n",
        "\n",
        "      predicted_labels = model.forward(inputs)\n",
        "      loss = cross_entropy_loss(predicted_labels, labels)\n",
        "\n",
        "      weight_decay = wd * 0.5 * sum([torch.linalg.norm(p)**2 for p in model.parameters()])\n",
        "\n",
        "      regularized_loss = loss + weight_decay\n",
        "\n",
        "      # tell pytorch to compute some gradients\n",
        "      regularized_loss.backward()\n",
        "\n",
        "      optimizer.step()\n",
        "      average_loss += (loss.item() - average_loss)/(it+1)\n",
        "\n",
        "      pbar.set_description(f\"epoch {epoch + 1} iter {it + 1}: train loss {average_loss:.5f}.\")\n",
        "\n",
        "    average_loss = 0.0\n",
        "\n",
        "  print('\\nFinished Training')\n",
        "\n",
        "  return model\n"
      ]
    },
    {
      "cell_type": "code",
      "execution_count": 23,
      "metadata": {
        "id": "6ZEClnnmfy7f",
        "colab": {
          "base_uri": "https://localhost:8080/"
        },
        "outputId": "8c3fc7bb-2ae1-4d43-8689-e1056fae290e"
      },
      "outputs": [
        {
          "output_type": "stream",
          "name": "stderr",
          "text": [
            "epoch 1 iter 3125: train loss 1.84677.: 100%|██████████| 3125/3125 [01:44<00:00, 29.84it/s]\n",
            "epoch 2 iter 3125: train loss 1.58440.: 100%|██████████| 3125/3125 [01:43<00:00, 30.18it/s]\n",
            "epoch 3 iter 3125: train loss 1.51041.: 100%|██████████| 3125/3125 [01:48<00:00, 28.79it/s]"
          ]
        },
        {
          "output_type": "stream",
          "name": "stdout",
          "text": [
            "\n",
            "Finished Training\n"
          ]
        },
        {
          "output_type": "stream",
          "name": "stderr",
          "text": [
            "\n"
          ]
        }
      ],
      "source": [
        "## Train the model for 3 epochs using a learning rate of 0.1 in each epoch.\n",
        "## If this fails, you probably have a significant bug in your SGD code.\n",
        "## Each epoch should take < 5 minutes, for a total of at most 15 minutes.\n",
        "trained_model = train_resnet(SGD_adaptive, trainloader, device, lrs=[0.1, 0.1, 0.1])"
      ]
    },
    {
      "cell_type": "code",
      "execution_count": 24,
      "metadata": {
        "id": "rbHMj8JOm52O"
      },
      "outputs": [],
      "source": [
        "# These functions take input a trained model and return either the train or test accuracy.\n",
        "def get_train_accuracy(trained_model):\n",
        "  correct = 0\n",
        "  total = 0\n",
        "  with torch.no_grad():\n",
        "    trainloader = torch.utils.data.DataLoader(CIFAR_train, batch_size=256, num_workers=2)\n",
        "    for data in trainloader:\n",
        "      images, labels = data\n",
        "      images = images.to(device)\n",
        "      labels = labels.to(device)\n",
        "      outputs = trained_model(images)\n",
        "      _, predicted = torch.max(outputs.data, 1)\n",
        "      total += labels.size(0)\n",
        "      correct += (predicted == labels).sum().item()\n",
        "  return 100 * correct / total\n",
        "\n",
        "def get_test_accuracy(trained_model):\n",
        "  correct = 0\n",
        "  total = 0\n",
        "  with torch.no_grad():\n",
        "    testloader = torch.utils.data.DataLoader(CIFAR_test, batch_size=256, num_workers=2)\n",
        "    for data in testloader:\n",
        "      images, labels = data\n",
        "      images = images.to(device)\n",
        "      labels = labels.to(device)\n",
        "      outputs = trained_model(images)\n",
        "      _, predicted = torch.max(outputs.data, 1)\n",
        "      total += labels.size(0)\n",
        "      correct += (predicted == labels).sum().item()\n",
        "  return 100 * correct / total"
      ]
    },
    {
      "cell_type": "code",
      "execution_count": 25,
      "metadata": {
        "id": "lFBWPlufSliV",
        "colab": {
          "base_uri": "https://localhost:8080/"
        },
        "outputId": "ffd2101b-93df-4d14-a4df-58c768b8d376"
      },
      "outputs": [
        {
          "output_type": "stream",
          "name": "stdout",
          "text": [
            "test accuracy percentage:  49.87\n"
          ]
        }
      ],
      "source": [
        "## Print the test accuracy. The test accuracy should be ~50% because the learning\n",
        "## rate of 0.1 used earlier is not a good learning rate.\n",
        "test_accuracy = get_test_accuracy(trained_model)\n",
        "print(\"test accuracy percentage: \", test_accuracy)"
      ]
    },
    {
      "cell_type": "markdown",
      "metadata": {
        "id": "kj4DLWC1CIyG"
      },
      "source": [
        "#Question 2a\n",
        "\n",
        "Write a function that returns a DataLoader object (like the `trainloader` variable) for the training set that uses the provided argument as a batch size."
      ]
    },
    {
      "cell_type": "code",
      "execution_count": 26,
      "metadata": {
        "id": "hjSH4rPceb5J"
      },
      "outputs": [],
      "source": [
        "# Import the necessary PyTorch library for data loading\n",
        "import torch.utils.data as data\n",
        "\n",
        "def get_trainloader(batch_size):\n",
        "    # Create a data loader for the CIFAR_train dataset\n",
        "    # - `CIFAR_train` should be a PyTorch dataset containing training data\n",
        "    # - `batch_size` specifies the number of data samples in each batch\n",
        "    # - `shuffle=True` indicates that the data should be shuffled randomly during each epoch\n",
        "    trainloader = data.DataLoader(CIFAR_train,\n",
        "                                  batch_size=batch_size,\n",
        "                                  shuffle=True)\n",
        "\n",
        "    return trainloader\n"
      ]
    },
    {
      "cell_type": "markdown",
      "metadata": {
        "id": "_ccDYE29-WJ7"
      },
      "source": [
        "#Question 2b\n",
        "\n",
        "Now, for each batch size in `[16, 64, 256]`, populate the dictionary `trained_models` with a model trained using that batch size for three epochs using `train_resnet`, the `SGD_adaptive` algorithm. Then run the next cell, which will print the train and test accuracies. **Tune the learning rate schedules to get the best test performance at batch size 16. You should get close to or better than 70%.**"
      ]
    },
    {
      "cell_type": "code",
      "execution_count": 35,
      "metadata": {
        "id": "aMG7M0pyYY8M",
        "colab": {
          "base_uri": "https://localhost:8080/"
        },
        "outputId": "f5ff378d-55e1-4ee4-f031-5f08279cb3a6"
      },
      "outputs": [
        {
          "output_type": "stream",
          "name": "stderr",
          "text": [
            "epoch 1 iter 3125: train loss 1.55237.: 100%|██████████| 3125/3125 [01:46<00:00, 29.46it/s]\n",
            "epoch 2 iter 3125: train loss 1.14741.: 100%|██████████| 3125/3125 [01:44<00:00, 29.98it/s]\n",
            "epoch 3 iter 3125: train loss 0.92192.: 100%|██████████| 3125/3125 [01:42<00:00, 30.42it/s]\n"
          ]
        },
        {
          "output_type": "stream",
          "name": "stdout",
          "text": [
            "\n",
            "Finished Training\n"
          ]
        },
        {
          "output_type": "stream",
          "name": "stderr",
          "text": [
            "epoch 1 iter 782: train loss 1.52290.: 100%|██████████| 782/782 [00:36<00:00, 21.68it/s]\n",
            "epoch 2 iter 782: train loss 1.10044.: 100%|██████████| 782/782 [00:36<00:00, 21.58it/s]\n",
            "epoch 3 iter 782: train loss 0.85960.: 100%|██████████| 782/782 [00:36<00:00, 21.58it/s]\n"
          ]
        },
        {
          "output_type": "stream",
          "name": "stdout",
          "text": [
            "\n",
            "Finished Training\n"
          ]
        },
        {
          "output_type": "stream",
          "name": "stderr",
          "text": [
            "epoch 1 iter 196: train loss 1.65934.: 100%|██████████| 196/196 [00:22<00:00,  8.55it/s]\n",
            "epoch 2 iter 196: train loss 1.16080.: 100%|██████████| 196/196 [00:22<00:00,  8.60it/s]\n",
            "epoch 3 iter 196: train loss 0.89869.: 100%|██████████| 196/196 [00:22<00:00,  8.63it/s]"
          ]
        },
        {
          "output_type": "stream",
          "name": "stdout",
          "text": [
            "\n",
            "Finished Training\n"
          ]
        },
        {
          "output_type": "stream",
          "name": "stderr",
          "text": [
            "\n"
          ]
        }
      ],
      "source": [
        "## With batch size 16, each epoch should take < 5 minutes (for a total of 15 minutes).\n",
        "## With batch size 64, < 2 minutes.\n",
        "## With batch size 256 < 1 minute.\n",
        "batch_size_list = [16, 64, 256]\n",
        "trained_models = {16: None, 64: None, 256: None}\n",
        "for batch_size in batch_size_list:\n",
        "    lrs = [1.25, 1, 0.5]\n",
        "\n",
        "    trainloader = get_trainloader(batch_size)\n",
        "    trained_model = train_resnet(SGD_adaptive, trainloader, device, lrs=lrs)\n",
        "    trained_models[batch_size] = trained_model\n"
      ]
    },
    {
      "cell_type": "code",
      "execution_count": 36,
      "metadata": {
        "id": "sRcHDkyi-lUT",
        "colab": {
          "base_uri": "https://localhost:8080/"
        },
        "outputId": "b684e9dd-ec12-45db-ad86-8e7ac899c274"
      },
      "outputs": [
        {
          "output_type": "stream",
          "name": "stdout",
          "text": [
            "[batch size 16] train accuracy: 75 , test accuracy: 70\n",
            "[batch size 64] train accuracy: 72 , test accuracy: 67\n",
            "[batch size 256] train accuracy: 70 , test accuracy: 66\n"
          ]
        }
      ],
      "source": [
        "for batch_size in batch_size_list:\n",
        "  test_accuracy = get_test_accuracy(trained_models[batch_size])\n",
        "  train_accuracy = get_train_accuracy(trained_models[batch_size])\n",
        "  print(\"[batch size %d] train accuracy: %d , test accuracy: %d\" % (batch_size, train_accuracy, test_accuracy))"
      ]
    },
    {
      "cell_type": "markdown",
      "metadata": {
        "id": "c7-22PKTRal_"
      },
      "source": [
        "## PART 2: AdamW and Norm-scaling\n",
        "\n",
        "The next part of this homework assignment investigates implementing some variants of Adam. We will be testing your optimizers on a simplified implementation of [GPT](https://github.com/openai/gpt-3) based on the [minGPT](https://github.com/karpathy/minGPT) repository by Andrej Karpathy. This is a model that takes as input a sequence of 128 characters from a text file and attempts to predict the next character. This can be used to generate novel text by starting with a seed text string, and then repeatedly using the model to generate another character.\n",
        "\n",
        "\n",
        "# Tips\n",
        "\n",
        "* You may decrease the number of training epochs while debugging, but please set it back to 20 and run again before submission.\n",
        "\n",
        "* Study the provided AdaGrad implementation closely, it introduces a few pytorch functions that may be useful. You should check the documentation for these functions to see what they do.\n",
        "\n",
        "* You may occasionally need to restart the runtime (runtime->restart runtime). Sometimes the GPUs don't release memory properly, and sometimes the progress bars get a little messed up."
      ]
    },
    {
      "cell_type": "markdown",
      "metadata": {
        "id": "wkPmrmHQPdtO"
      },
      "source": [
        "# QUESTION 3a\n",
        "\n",
        "Implement the [AdamW](https://openreview.net/pdf?id=Bkg6RiCqY7) update *without* using the debiasing terms. AdamW performs the following (per-coordinate) update:\n",
        "\n",
        "$$\n",
        "w_{t+1} = w_t - \\eta_t\\left(\\frac{\\hat m_t}{\\sqrt{\\hat v_t} +\\epsilon} + \\lambda w_t\\right)\n",
        "$$\n",
        "where $\\hat m_t$ and $\\hat v_t$ are generated the same way as in the standard [Adam](https://openreview.net/pdf?id=Bkg6RiCqY7) update, and $\\lambda$ is an extra \"weight decay\" parameter provided to the optimizer and $\\eta_t$ is the learning rate parameter provided to the optimizer by the user.\n",
        "\n",
        "Ordinarily, \"weight decay\" is another word for L2 regularization. That is, the loss is modified to:\n",
        "$$\n",
        "\\mathcal{L}(w) + \\frac{\\lambda}{2}\\|w\\|^2\n",
        "$$\n",
        "This means that we could implement weight decay by changing the gradient to $\\nabla \\mathcal{L}(w) + \\lambda w$. The idea behind AdamW is that the weight-decay term is in some sense \"well-understood\" and should not be included in the $v_t$ and $A_t$ statistics that are being used to understand the more mysterious loss surface $\\mathcal{L}(w)$. See the linked paper for more details and full pseudocode.\n",
        "\n",
        "In your implementation, you should use the raw $m_t$ and $v_t$ values without applying the ``debiasing'' scheme involving dividing by $1-\\beta^{t+1}$ discussed in the papers.\n",
        "\n",
        "# QUESTION 3b\n",
        "\n",
        "Upgrade your debias-free AdamW implementation to use the `use_norm_scaling` argument of the `__init__` method. When this argument is `True`, you should scale the learning rate by the norm of the weights *for the given pytorch variable*. That is, for each variable $p$ you will replace the learning rate $\\eta_t$ at time $t$ with $\\|p\\|\\eta_t$ in the update:\n",
        "$$\n",
        "w_{t+1}[i] = w_t[i] - \\|w_t\\|_2\\eta_t\\left(\\frac{m_t[i]}{\\sqrt{v_t[i]} +\\epsilon} + \\lambda w_t[i]\\right)\n",
        "$$\n",
        "When the `use_norm_scaling` argument is false, simply perform the update from question 1a.\n",
        "\n",
        "This learning rate heuristic is inspired by a similar proposal for use with normalized updates in the [LARS](https://arxiv.org/abs/1708.03888) optimizer."
      ]
    },
    {
      "cell_type": "code",
      "execution_count": 37,
      "metadata": {
        "id": "3TAFPkUfSS70"
      },
      "outputs": [],
      "source": [
        "\n",
        "class AdamW_bias(Optimizer):\n",
        "  def __init__(self, params, lr=1.0, betas=(0.9,0.999), use_norm_scaling=False):\n",
        "    super(AdamW_bias, self).__init__(params, {'lr': lr, 'beta1': betas[0], 'beta2': betas[1], 'weight_decay': 0.0})\n",
        "\n",
        "\n",
        "    epsilon = 1e-8\n",
        "\n",
        "    self.use_norm_scaling = use_norm_scaling\n",
        "\n",
        "    # Iterate over parameter groups within the optimizer\n",
        "    for group in self.param_groups:\n",
        "        # Iterate over parameters within the current parameter group\n",
        "        for p in group['params']:\n",
        "            # Get the state dictionary associated with the parameter 'p'\n",
        "            state = self.state[p]\n",
        "\n",
        "            # Initialize the 'step' (iteration step) to 0 for this parameter\n",
        "            state['step'] = 0\n",
        "\n",
        "            # Initialize the 'm' (first moment) to 0 for this parameter\n",
        "            state['m'] = 0\n",
        "\n",
        "            # Initialize the 'v' (second moment) to 0 for this parameter\n",
        "            state['v'] = 0\n",
        "\n",
        "  @torch.no_grad()\n",
        "  def step(self, closure=None):\n",
        "    # in this class, and also usually in practice, closure will always be None.\n",
        "    loss = None\n",
        "    epsilon = 1e-8\n",
        "    if closure is not None:\n",
        "      with torch.enable_grad():\n",
        "        loss = closure()\n",
        "\n",
        "    for group in self.param_groups:\n",
        "        # Retrieve learning rate from the current parameter group\n",
        "        lr = group['lr']\n",
        "\n",
        "        # Retrieve beta1 and beta2 values from the current parameter group\n",
        "        beta1 = group['beta1']\n",
        "        beta2 = group['beta2']\n",
        "\n",
        "        # Retrieve weight decay from the current parameter group\n",
        "        weight_decay = group['weight_decay']\n",
        "\n",
        "        # Iterate over the parameters in the current parameter group\n",
        "        for p in group['params']:\n",
        "            # Skip parameters with no gradients\n",
        "            if p.grad is None:\n",
        "                continue\n",
        "\n",
        "            # Retrieve the state information associated with the parameter\n",
        "            state = self.state[p]\n",
        "\n",
        "            # Update the optimization step count for this parameter\n",
        "            state['step'] += 1\n",
        "\n",
        "            # Retrieve the gradient of the parameter\n",
        "            g = p.grad\n",
        "\n",
        "            # Update the first moment estimate (m) using exponential moving average\n",
        "            state['m'] = beta1 * state['m'] + (1 - beta1) * g\n",
        "\n",
        "            # Update the second moment estimate (v) using exponential moving average\n",
        "            state['v'] = beta2 * state['v'] + (1 - beta2) * g ** 2\n",
        "\n",
        "            # Calculate the parameter update\n",
        "\n",
        "            # The line below calculates the update for the parameter 'p'.\n",
        "            # It uses a combination of the first moment 'state['m']' and second moment 'state['v']',\n",
        "            # applies the learning rate 'lr', and includes weight decay regularization.\n",
        "            # The `torch.sqrt(state['v'])` and `epsilon` are used for numerical stability.\n",
        "            # The `torch.linalg.norm(p)` part is used as a scaling factor if 'self.use_norm_scaling' is True.\n",
        "            # Otherwise, it's just 1.\n",
        "\n",
        "            # Parameter update using Adam optimizer\n",
        "            p -= (torch.linalg.norm(p) if self.use_norm_scaling else 1) * lr * (state['m'] / (torch.sqrt(state['v']) + epsilon) + weight_decay * p)"
      ]
    },
    {
      "cell_type": "code",
      "execution_count": 38,
      "metadata": {
        "id": "EXc_WnyVSOmI",
        "colab": {
          "base_uri": "https://localhost:8080/"
        },
        "outputId": "c4c584df-b912-4e3b-fc0e-22f7b053d87b"
      },
      "outputs": [
        {
          "output_type": "stream",
          "name": "stdout",
          "text": [
            "data has 2652652 characters, 91 unique.\n"
          ]
        }
      ],
      "source": [
        "# the \"block size\" is the number of characters the model takes as input.\n",
        "# in this case, it can look at up to 128 characters when predicting the next\n",
        "# character.\n",
        "block_size = 128 # spatial extent of the model for its context\n",
        "\n",
        "# For our training set, we will use the text of the first four Harry Potter books.\n",
        "text = open(\"J. K. Rowling - Harry Potter 1 - Sorcerer's Stone.txt\", 'rb').read()\n",
        "text += open('J. K. Rowling - Harry Potter 2 - The Chamber Of Secrets.txt', 'rb').read()\n",
        "text += open('J. K. Rowling - Harry Potter 3 - Prisoner of Azkaban.txt', 'rb').read()\n",
        "text += open('J. K. Rowling - Harry Potter 4 - The Goblet of Fire.txt', 'rb').read()\n",
        "\n",
        "# text = open('input.txt', 'r').read() # don't worry we won't run out of file handles\n",
        "train_dataset = CharDataset(text, block_size) # one line of poem is roughly 50 characters"
      ]
    },
    {
      "cell_type": "code",
      "execution_count": 39,
      "metadata": {
        "id": "EFTg91uRPthh"
      },
      "outputs": [],
      "source": [
        "# generate the configuration for the model. These parameters specify\n",
        "# the neural network architecture we will be using. It is not necessary\n",
        "# to understand this model architecture.\n",
        "mconf = GPTConfig(train_dataset.vocab_size, train_dataset.block_size, n_layer=8, n_head=8, n_embd=128)"
      ]
    },
    {
      "cell_type": "code",
      "execution_count": 40,
      "metadata": {
        "id": "iLKHtyUsPuEl"
      },
      "outputs": [],
      "source": [
        "# generate training configurations for each of the optimizers. We will be testing\n",
        "# adam (official pytorch implementation)\n",
        "# adamw (official pytorch implementation)\n",
        "# your optimizer both with and without the norm_scaling flag set.\n",
        "def adamw_bias_factory(params, lr, betas):\n",
        "  return AdamW_bias(params, lr, betas)\n",
        "\n",
        "def adamw_bias_norm_scaling_factory(params, lr, betas):\n",
        "  return AdamW_bias(params, lr, betas, use_norm_scaling=True)\n",
        "\n",
        "optimizers = {\n",
        "    'adam': torch.optim.Adam,\n",
        "    'adamw': torch.optim.AdamW,\n",
        "    'adamw_bias': adamw_bias_factory,\n",
        "    'adamw_bias_norm_scaling': adamw_bias_norm_scaling_factory\n",
        "  }\n",
        "\n",
        "training_configs = {}\n",
        "\n",
        "for name, opt in optimizers.items():\n",
        "# construct a training config: this sets the learning rate, batch size, number\n",
        "# of epochs ect for each optimizer. warmup_tokens and final_tokens are parameters\n",
        "# used to setup a warm-up and decay learning rate scheduler.\n",
        "  training_configs[name] = TrainerConfig(max_epochs=5, batch_size=256, learning_rate=6e-4, optimizer=opt,\n",
        "                        lr_decay=True, warmup_tokens=512*20, final_tokens=200*len(train_dataset)*block_size,\n",
        "                        num_workers=2)\n",
        "torch.cuda.empty_cache()"
      ]
    },
    {
      "cell_type": "code",
      "execution_count": 41,
      "metadata": {
        "id": "_gSApvJa_zte"
      },
      "outputs": [],
      "source": [
        "import gc"
      ]
    },
    {
      "cell_type": "code",
      "execution_count": 42,
      "metadata": {
        "id": "faU9I2fR_0-K",
        "colab": {
          "base_uri": "https://localhost:8080/"
        },
        "outputId": "d71784df-a924-491a-f9e4-6fe6d201e93b"
      },
      "outputs": [
        {
          "output_type": "execute_result",
          "data": {
            "text/plain": [
              "48703"
            ]
          },
          "metadata": {},
          "execution_count": 42
        }
      ],
      "source": [
        "gc.collect()"
      ]
    },
    {
      "cell_type": "code",
      "execution_count": 43,
      "metadata": {
        "id": "GxFY3AXTPvLf",
        "colab": {
          "base_uri": "https://localhost:8080/"
        },
        "outputId": "4d8661a0-4b9c-4317-b846-33e8d21749f4"
      },
      "outputs": [
        {
          "output_type": "stream",
          "name": "stdout",
          "text": [
            "training new model with optimizer: adam\n"
          ]
        },
        {
          "output_type": "stream",
          "name": "stderr",
          "text": [
            "epoch 1 iter 80: train loss 2.67844. lr 5.999633e-04: 100%|██████████| 81/81 [00:25<00:00,  3.19it/s]\n",
            "epoch 2 iter 80: train loss 2.65131. lr 5.998525e-04: 100%|██████████| 81/81 [00:25<00:00,  3.16it/s]\n",
            "epoch 3 iter 80: train loss 2.63565. lr 5.996678e-04: 100%|██████████| 81/81 [00:25<00:00,  3.23it/s]\n",
            "epoch 4 iter 80: train loss 2.61410. lr 5.994091e-04: 100%|██████████| 81/81 [00:24<00:00,  3.27it/s]\n",
            "epoch 5 iter 80: train loss 2.60610. lr 5.990766e-04: 100%|██████████| 81/81 [00:24<00:00,  3.28it/s]\n"
          ]
        },
        {
          "output_type": "stream",
          "name": "stdout",
          "text": [
            "data has 2652652 characters, 91 unique.\n",
            "final epoch train loss: 2.616985176816398\n",
            "training new model with optimizer: adamw\n"
          ]
        },
        {
          "output_type": "stream",
          "name": "stderr",
          "text": [
            "epoch 1 iter 80: train loss 2.57104. lr 5.999633e-04: 100%|██████████| 81/81 [00:24<00:00,  3.28it/s]\n",
            "epoch 2 iter 80: train loss 2.39520. lr 5.998525e-04: 100%|██████████| 81/81 [00:24<00:00,  3.27it/s]\n",
            "epoch 3 iter 80: train loss 2.25049. lr 5.996678e-04: 100%|██████████| 81/81 [00:24<00:00,  3.28it/s]\n",
            "epoch 4 iter 80: train loss 2.09800. lr 5.994091e-04: 100%|██████████| 81/81 [00:24<00:00,  3.28it/s]\n",
            "epoch 5 iter 80: train loss 1.93795. lr 5.990766e-04: 100%|██████████| 81/81 [00:24<00:00,  3.27it/s]\n"
          ]
        },
        {
          "output_type": "stream",
          "name": "stdout",
          "text": [
            "data has 2652652 characters, 91 unique.\n",
            "final epoch train loss: 2.015321930249532\n",
            "training new model with optimizer: adamw_bias\n"
          ]
        },
        {
          "output_type": "stream",
          "name": "stderr",
          "text": [
            "epoch 1 iter 80: train loss 2.54588. lr 5.999633e-04: 100%|██████████| 81/81 [00:26<00:00,  3.10it/s]\n",
            "epoch 2 iter 80: train loss 2.39047. lr 5.998525e-04: 100%|██████████| 81/81 [00:26<00:00,  3.10it/s]\n",
            "epoch 3 iter 80: train loss 2.26173. lr 5.996678e-04: 100%|██████████| 81/81 [00:26<00:00,  3.09it/s]\n",
            "epoch 4 iter 80: train loss 2.09329. lr 5.994091e-04: 100%|██████████| 81/81 [00:26<00:00,  3.07it/s]\n",
            "epoch 5 iter 80: train loss 1.94761. lr 5.990766e-04: 100%|██████████| 81/81 [00:26<00:00,  3.09it/s]\n"
          ]
        },
        {
          "output_type": "stream",
          "name": "stdout",
          "text": [
            "data has 2652652 characters, 91 unique.\n",
            "final epoch train loss: 2.022463493876987\n",
            "training new model with optimizer: adamw_bias_norm_scaling\n"
          ]
        },
        {
          "output_type": "stream",
          "name": "stderr",
          "text": [
            "epoch 1 iter 80: train loss 2.47479. lr 5.999633e-04: 100%|██████████| 81/81 [00:26<00:00,  3.05it/s]\n",
            "epoch 2 iter 80: train loss 2.37285. lr 5.998525e-04: 100%|██████████| 81/81 [00:26<00:00,  3.05it/s]\n",
            "epoch 3 iter 80: train loss 2.20910. lr 5.996678e-04: 100%|██████████| 81/81 [00:26<00:00,  3.04it/s]\n",
            "epoch 4 iter 80: train loss 1.97949. lr 5.994091e-04: 100%|██████████| 81/81 [00:26<00:00,  3.05it/s]\n",
            "epoch 5 iter 80: train loss 1.76808. lr 5.990766e-04: 100%|██████████| 81/81 [00:26<00:00,  3.06it/s]\n"
          ]
        },
        {
          "output_type": "stream",
          "name": "stdout",
          "text": [
            "data has 2652652 characters, 91 unique.\n",
            "final epoch train loss: 1.866174850934818\n",
            "best optimizer: adamw_bias_norm_scaling with loss: inf\n"
          ]
        }
      ],
      "source": [
        "# train a model on each optimizer, keeping track of the best-performing one.\n",
        "# each epoch should take less than 1 minute to train, for a total of at most\n",
        "# 4 algorithms * 5 epochs / algorithm * 1 minutes / epoch = 20 minutes training time\n",
        "# More likely, each epoch will take closer to 30 seconds.\n",
        "losses = {}\n",
        "min_loss = float('inf')\n",
        "best_model = None\n",
        "best_optimizer = None\n",
        "for name, tconf in training_configs.items():\n",
        "  print(\"training new model with optimizer: {}\".format(name))\n",
        "  model = GPT(mconf)\n",
        "  trainer = Trainer(model, train_dataset, None, tconf)\n",
        "  train_loss = trainer.train()\n",
        "  losses[name] = train_loss\n",
        "  train_dataset = CharDataset(text, block_size)\n",
        "  print(\"final epoch train loss: {}\".format(train_loss))\n",
        "  if train_loss < min_loss:\n",
        "    best_optimizer = name\n",
        "    # min_loss = train_loss\n",
        "\n",
        "print(\"best optimizer: {} with loss: {}\".format(best_optimizer, min_loss))"
      ]
    },
    {
      "cell_type": "code",
      "execution_count": 44,
      "metadata": {
        "id": "J1pDN13SGxf9",
        "colab": {
          "base_uri": "https://localhost:8080/"
        },
        "outputId": "c058e961-609f-4836-97b1-0a95691d2289"
      },
      "outputs": [
        {
          "output_type": "stream",
          "name": "stdout",
          "text": [
            "training new model with optimizer: adamw_bias_norm_scaling\n",
            "data has 2652652 characters, 91 unique.\n"
          ]
        },
        {
          "output_type": "stream",
          "name": "stderr",
          "text": [
            "epoch 1 iter 80: train loss 2.53070. lr 5.999633e-04: 100%|██████████| 81/81 [00:27<00:00,  2.99it/s]\n",
            "epoch 2 iter 80: train loss 2.37370. lr 5.998525e-04: 100%|██████████| 81/81 [00:26<00:00,  3.05it/s]\n",
            "epoch 3 iter 80: train loss 2.30660. lr 5.996678e-04: 100%|██████████| 81/81 [00:26<00:00,  3.06it/s]\n",
            "epoch 4 iter 80: train loss 2.09615. lr 5.994091e-04: 100%|██████████| 81/81 [00:26<00:00,  3.05it/s]\n",
            "epoch 5 iter 80: train loss 1.86592. lr 5.990766e-04: 100%|██████████| 81/81 [00:26<00:00,  3.06it/s]\n",
            "epoch 6 iter 80: train loss 1.72127. lr 5.986703e-04: 100%|██████████| 81/81 [00:26<00:00,  3.06it/s]\n",
            "epoch 7 iter 80: train loss 1.60901. lr 5.981902e-04: 100%|██████████| 81/81 [00:26<00:00,  3.05it/s]\n",
            "epoch 8 iter 80: train loss 1.57879. lr 5.976366e-04: 100%|██████████| 81/81 [00:26<00:00,  3.05it/s]\n",
            "epoch 9 iter 80: train loss 1.52129. lr 5.970096e-04: 100%|██████████| 81/81 [00:26<00:00,  3.05it/s]\n",
            "epoch 10 iter 80: train loss 1.53020. lr 5.963092e-04: 100%|██████████| 81/81 [00:26<00:00,  3.07it/s]\n",
            "epoch 11 iter 80: train loss 1.45522. lr 5.955358e-04: 100%|██████████| 81/81 [00:26<00:00,  3.07it/s]\n",
            "epoch 12 iter 80: train loss 1.47339. lr 5.946894e-04: 100%|██████████| 81/81 [00:26<00:00,  3.07it/s]\n",
            "epoch 13 iter 80: train loss 1.41962. lr 5.937703e-04: 100%|██████████| 81/81 [00:26<00:00,  3.08it/s]\n",
            "epoch 14 iter 80: train loss 1.44630. lr 5.927787e-04: 100%|██████████| 81/81 [00:26<00:00,  3.07it/s]\n",
            "epoch 15 iter 80: train loss 1.42591. lr 5.917149e-04: 100%|██████████| 81/81 [00:26<00:00,  3.08it/s]\n",
            "epoch 16 iter 80: train loss 1.42263. lr 5.905791e-04: 100%|██████████| 81/81 [00:26<00:00,  3.05it/s]\n",
            "epoch 17 iter 80: train loss 1.40651. lr 5.893717e-04: 100%|██████████| 81/81 [00:26<00:00,  3.06it/s]\n",
            "epoch 18 iter 80: train loss 1.37856. lr 5.880928e-04: 100%|██████████| 81/81 [00:26<00:00,  3.07it/s]\n",
            "epoch 19 iter 80: train loss 1.37372. lr 5.867428e-04: 100%|██████████| 81/81 [00:26<00:00,  3.06it/s]\n",
            "epoch 20 iter 80: train loss 1.38403. lr 5.853221e-04: 100%|██████████| 81/81 [00:26<00:00,  3.07it/s]"
          ]
        },
        {
          "output_type": "stream",
          "name": "stdout",
          "text": [
            "final epoch train loss: 1.3878515502552926\n"
          ]
        },
        {
          "output_type": "stream",
          "name": "stderr",
          "text": [
            "\n"
          ]
        }
      ],
      "source": [
        "## Now that we have identified a best optimizer, let us train for a longer amount of time (another 40 minutes):\n",
        "long_train_conf = TrainerConfig(max_epochs=20,\n",
        "                                batch_size=256,\n",
        "                                learning_rate=6e-4,\n",
        "                                optimizer=optimizers[best_optimizer],\n",
        "                                lr_decay=True,\n",
        "                                warmup_tokens=512*20,\n",
        "                                final_tokens=200*len(train_dataset)*block_size,\n",
        "                                num_workers=2)\n",
        "print(\"training new model with optimizer: {}\".format(name))\n",
        "best_model = GPT(mconf)\n",
        "train_dataset = CharDataset(text, block_size)\n",
        "trainer = Trainer(best_model, train_dataset, None, long_train_conf)\n",
        "train_loss = trainer.train()\n",
        "print(\"final epoch train loss: {}\".format(train_loss))"
      ]
    },
    {
      "cell_type": "code",
      "execution_count": 45,
      "metadata": {
        "id": "oE48jgJLPwvT",
        "colab": {
          "base_uri": "https://localhost:8080/"
        },
        "outputId": "4c6f2530-7132-4a6d-8fc1-6147f9dbfeba"
      },
      "outputs": [
        {
          "output_type": "stream",
          "name": "stdout",
          "text": [
            "Harry opened the door, and the lible car the color sat toward Harry.  He didn't be anything took that a last to something that the train was a last of a few trying to stone them. .  . . . the she seized in his self of the team as words on a moment half strient of the common room.   The thought it it had back tonight the foreheard the chair.  Then he had a seen to be as a creature and told them them to have been something been at the back and said a crossed to stand there on trying, \"I don't have get it to the champions and she\n",
            "could be all that you get there, and I had got out of himself\n",
            "to have a feel of the could stared at the crowd to the first and between to be them\n",
            "staring at the corner. Hold it and Ron and Ron had had had helped to him, and he's hearted a filt sort of here an ormoring, and\n",
            "saw the came with that the class was to suppose to hear a\n",
            "signate to stomach only the trees of the chattle same to have had her son that sharp to tell her,\n",
            "and her had stared at all.\n",
            "\n",
            "\"It's a lot of the champions and she was all an unplease,\" said Peter as he had some started the sight to be having\n",
            "already, and Ron at the family table to the tree and take trying to get the final senting her eye all she'd\n",
            "been trying. \"I think we're this, I'm the class\n",
            "of the trunk in his head of\n",
            "courses. You've the forest of threlling, but it was telling it, his face to say to her, but Hagrid, the forees\n",
            "table to be a car and as he can't seem to get to grow her. He walked away on the tournament.\n",
            "\n",
            "He had no shramble, was talking to to the stand toward it, where he hadn't get him. The stream was\n",
            "almost a corridor of their school trunk it, he saw the path of the letter of\n",
            "the truster was still so staring at his house.\n",
            "\n",
            "Harry and Hermione were asking he and Harry and Ron at all to Hermione's\n",
            "stort. The stead of him at our favor. The wrough of the counted\n",
            "to the stone of something of the tree, he drew the\n",
            "seemed to have him? The time trouble, as\n",
            "though were he staring to the potion of that the time to he was all as she ar\n"
          ]
        }
      ],
      "source": [
        "# Now we will generate text at the character level, starting from the seed\n",
        "# \"Harry opened the door, and\"\n",
        "# Note, this model is not advanced enough to learn how to actualy write sentences\n",
        "# that makes sense, but it CAN learn to write complete words and certain names.\n",
        "# With longer training times, bigger models, and more data, it is possible to\n",
        "# achieve truly amazing results!\n",
        "\n",
        "context = [ord(c) for c in \"Harry opened the door, and\"]\n",
        "x = torch.tensor([train_dataset.stoi[s] for s in context], dtype=torch.long)[None,...].to(trainer.device)\n",
        "y = sample(best_model, x, 2000, temperature=0.9, sample=True, top_k=5)[0]\n",
        "completion = ''.join([chr(train_dataset.itos[int(i)]) for i in y])\n",
        "print(completion)"
      ]
    },
    {
      "cell_type": "code",
      "execution_count": null,
      "metadata": {
        "id": "sGwWZ1Ppy0SW"
      },
      "outputs": [],
      "source": []
    }
  ],
  "metadata": {
    "accelerator": "GPU",
    "colab": {
      "provenance": []
    },
    "kernelspec": {
      "display_name": "Python 3 (ipykernel)",
      "language": "python",
      "name": "python3"
    },
    "language_info": {
      "codemirror_mode": {
        "name": "ipython",
        "version": 3
      },
      "file_extension": ".py",
      "mimetype": "text/x-python",
      "name": "python",
      "nbconvert_exporter": "python",
      "pygments_lexer": "ipython3",
      "version": "3.8.17"
    }
  },
  "nbformat": 4,
  "nbformat_minor": 0
}