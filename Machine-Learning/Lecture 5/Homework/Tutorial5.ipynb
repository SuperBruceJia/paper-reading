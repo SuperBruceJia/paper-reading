{
 "cells": [
  {
   "cell_type": "markdown",
   "metadata": {},
   "source": [
    "**Name:** \\_\\_\\_\\_\\_\n",
    "\n",
    "**EID:** \\_\\_\\_\\_\\_"
   ]
  },
  {
   "cell_type": "markdown",
   "metadata": {},
   "source": [
    "# CS5489 - Tutorial 5\n",
    "## Predicting Bike Sharing Usage\n",
    "\n",
    "In this tutorial you will train a regression function to predict the number people using bike sharing in each day.\n",
    "\n",
    "First we need to initialize Python.  Run the below cell."
   ]
  },
  {
   "cell_type": "code",
   "execution_count": null,
   "metadata": {},
   "outputs": [],
   "source": [
    "%matplotlib inline\n",
    "import IPython.core.display         \n",
    "# setup output image format (Chrome works best)\n",
    "\n",
    "IPython.core.display.set_matplotlib_formats(\"svg\")\n",
    "import matplotlib.pyplot as plt\n",
    "import matplotlib\n",
    "from numpy import *\n",
    "from sklearn import *\n",
    "import glob\n",
    "import os\n",
    "import csv\n",
    "import string\n",
    "random.seed(100)\n",
    "import pandas as pd\n",
    "import xgboost as xgb\n",
    "from scipy import stats"
   ]
  },
  {
   "cell_type": "markdown",
   "metadata": {},
   "source": [
    "## 1. Loading Data and Pre-processing\n",
    "Next we need to load the data.  Download `Bike-Sharing-Dataset.zip`, and **unzip** it in the same directory as this ipynb file.  Then run the following cell to load the data."
   ]
  },
  {
   "cell_type": "code",
   "execution_count": null,
   "metadata": {},
   "outputs": [],
   "source": [
    "# read the data\n",
    "filename = 'Bike-Sharing-Dataset/day.csv'\n",
    "df = pd.read_csv(filename)\n",
    "df"
   ]
  },
  {
   "cell_type": "markdown",
   "metadata": {},
   "source": [
    "Here are the columns in the dataset. The last 3 columns are the counts for the day."
   ]
  },
  {
   "cell_type": "code",
   "execution_count": null,
   "metadata": {
    "scrolled": true
   },
   "outputs": [],
   "source": [
    "df.columns"
   ]
  },
  {
   "cell_type": "markdown",
   "metadata": {},
   "source": [
    "Here is a description of the features:\n",
    "- `instant`: record index\n",
    "- `dteday`: date\n",
    "- `season`: season (1: winter, 2:spring, 3:summer, 4:fall)\n",
    "- `yr`: year (0: 2011, 1:2012)\n",
    "- `mnth`: month (1=Jan to 12=Dec)\n",
    "- `holiday`: weather day is holiday or not (extracted from http://dchr.dc.gov/page/holiday-schedule)\n",
    "- `weekday`: day of the week (1=Sunday to 7=Saturday)\n",
    "- `workingday`: if day is neither weekend nor holiday is 1, otherwise is 0.\n",
    "- `weathersit`: weather situation\n",
    "  - 1: Clear, Few clouds, Partly cloudy, Partly cloudy\n",
    "  - 2: Mist + Cloudy, Mist + Broken clouds, Mist + Few clouds, Mist\n",
    "  - 3: Light Snow, Light Rain + Thunderstorm + Scattered clouds, Light Rain + Scattered clouds\n",
    "  - 4: Heavy Rain + Ice Pallets + Thunderstorm + Mist, Snow + Fog \n",
    "- `temp`: Normalized temperature in Celsius. The values are divided to 41 (max)\n",
    "- `atemp`: Normalized feeling temperature in Celsius. The values are divided to 50 (max)\n",
    "- `hum`: Normalized humidity. The values are divided to 100 (max)\n",
    "- `windspeed`: Normalized wind speed. The values are divided to 67 (max)\n",
    "- `casual`: count of casual users\n",
    "- `registered`: count of registered users\n",
    "- `cnt`: count of total rental bikes including both casual and registered"
   ]
  },
  {
   "cell_type": "markdown",
   "metadata": {},
   "source": [
    "The first two columns are the instance number and date, which aren't useful, so we will remove them."
   ]
  },
  {
   "cell_type": "code",
   "execution_count": null,
   "metadata": {},
   "outputs": [],
   "source": [
    "# remove first 2 columns\n",
    "df.drop(columns=['instant', 'dteday'], inplace=True)"
   ]
  },
  {
   "cell_type": "markdown",
   "metadata": {},
   "source": [
    "Next we will examine the distribution of the features."
   ]
  },
  {
   "cell_type": "code",
   "execution_count": null,
   "metadata": {},
   "outputs": [],
   "source": [
    "# show the feature distributions\n",
    "foo = df.hist(layout=(14,5), figsize=(10,20), xlabelsize=5, ylabelsize=4)\n",
    "plt.tight_layout()"
   ]
  },
  {
   "cell_type": "markdown",
   "metadata": {},
   "source": [
    "And here are some simple statistics of the features."
   ]
  },
  {
   "cell_type": "code",
   "execution_count": null,
   "metadata": {
    "scrolled": false
   },
   "outputs": [],
   "source": [
    "df.describe()"
   ]
  },
  {
   "cell_type": "markdown",
   "metadata": {},
   "source": [
    "You may notice that a few of the features are discrete values, such as `season`, `mnth`, `weekday`, and `weathersit`.  If we directly use the month feature, it may not make too much sense since adding/subtracting/multipllying 2 month numbers doesn't really mean anything related to the output. Instead, it is important which month it is.\n",
    "\n",
    "Thus, we will convert these features into one-hot-encodings.  The original discrete features are removed, and the new features are appended to the end of the table."
   ]
  },
  {
   "cell_type": "code",
   "execution_count": null,
   "metadata": {},
   "outputs": [],
   "source": [
    "# use pandas to create one-hot-encodings of a few colummns\n",
    "dfd = pd.get_dummies(df, columns=['season', 'mnth', 'weekday', 'weathersit'])\n",
    "dfd"
   ]
  },
  {
   "cell_type": "markdown",
   "metadata": {},
   "source": [
    "Now we extract the data for running our regression algorithm. First we remove the counts to get the input features X."
   ]
  },
  {
   "cell_type": "code",
   "execution_count": null,
   "metadata": {},
   "outputs": [],
   "source": [
    "# extract the features\n",
    "dfX = dfd.drop(columns=['casual', 'registered', 'cnt'])\n",
    "dataX = array(dfX)\n",
    "dataX.shape"
   ]
  },
  {
   "cell_type": "code",
   "execution_count": null,
   "metadata": {},
   "outputs": [],
   "source": [
    "# get the feature names\n",
    "featnames = [x.strip() for x in dfX.columns]\n",
    "print(featnames)"
   ]
  },
  {
   "cell_type": "markdown",
   "metadata": {},
   "source": [
    "Next we use the total count as the target Y."
   ]
  },
  {
   "cell_type": "code",
   "execution_count": null,
   "metadata": {},
   "outputs": [],
   "source": [
    "# get the target count\n",
    "dataY = array(dfd['cnt'])\n",
    "dataY.shape"
   ]
  },
  {
   "cell_type": "markdown",
   "metadata": {},
   "source": [
    "Finally, we extract the year number, which we will use for setting up the training/testing data later."
   ]
  },
  {
   "cell_type": "code",
   "execution_count": null,
   "metadata": {},
   "outputs": [],
   "source": [
    "# get the year number (used for splitting the data into training/testing)\n",
    "dataYear = array(dfd['yr'])\n",
    "dataYear.shape"
   ]
  },
  {
   "cell_type": "markdown",
   "metadata": {},
   "source": [
    "Here is an example input/output for our problem."
   ]
  },
  {
   "cell_type": "code",
   "execution_count": null,
   "metadata": {},
   "outputs": [],
   "source": [
    "print(featnames)\n",
    "\n",
    "print(\"--- example features---\")\n",
    "print(dataX[0])\n",
    "print(\"--- example target count\")\n",
    "print(dataY[0])"
   ]
  },
  {
   "cell_type": "markdown",
   "metadata": {},
   "source": [
    "Now we separate the data into training and testing sets.  Since our data is collected over time, it is better to separate the training and test data so that they don't overlap in time. This way, we can ensure that our method generalizes to newly collected data.\n",
    "\n",
    "We will use the first year for training, and the second year for testing."
   ]
  },
  {
   "cell_type": "code",
   "execution_count": null,
   "metadata": {},
   "outputs": [],
   "source": [
    "# use 1st year as training data\n",
    "trainX = dataX[dataYear==0]\n",
    "trainY = dataY[dataYear==0]\n",
    "# use 2nd year as testing data\n",
    "testX  = dataX[dataYear==1]\n",
    "testY  = dataY[dataYear==1]\n",
    "\n",
    "print(trainX.shape)\n",
    "print(testX.shape)"
   ]
  },
  {
   "cell_type": "markdown",
   "metadata": {},
   "source": [
    "Note that the input features are already normalized between 0 and 1 (or are binary values), so we don't need to perform feature normalization."
   ]
  },
  {
   "cell_type": "markdown",
   "metadata": {},
   "source": [
    "### Dummy regressor\n",
    "We next test a \"dummy\" regressor that simply predicts the mean or median output value.  These are useful to evaluate the regression methods to see how much better they are than simply predicting the same value."
   ]
  },
  {
   "cell_type": "code",
   "execution_count": null,
   "metadata": {},
   "outputs": [],
   "source": [
    "# dummy regressors that predict constant values\n",
    "dummy_mean = dummy.DummyRegressor(strategy='mean')\n",
    "dummy_mean.fit(trainX, trainY)\n",
    "dummy_med  = dummy.DummyRegressor(strategy='median')\n",
    "dummy_med.fit(trainX, trainY)"
   ]
  },
  {
   "cell_type": "markdown",
   "metadata": {},
   "source": [
    "Next we evaluate the regressor using MSE and MAE."
   ]
  },
  {
   "cell_type": "code",
   "execution_count": null,
   "metadata": {},
   "outputs": [],
   "source": [
    "# function to evaluate root mean squared error (MSE) and mean absolute error (MAE)\n",
    "def eval_predict(trueY, predY):\n",
    "    MAE = metrics.mean_absolute_error(trueY, predY)\n",
    "    RMSE = sqrt(metrics.mean_squared_error(trueY, predY))\n",
    "    return RMSE, MAE\n",
    "\n",
    "# function to make a scatter plot\n",
    "def plot_scatter(testY, predY, titlestr):\n",
    "    plt.scatter(testY, predY, s=1)\n",
    "    plt.plot([min(testY),max(testY)], [min(testY),max(testY)], 'r-')\n",
    "    plt.xlabel('true')\n",
    "    plt.ylabel('prediction')\n",
    "    r1,r2 = eval_predict(testY, predY)\n",
    "    plt.title(titlestr + \"\\n(RMSE={:.3f}; MAE={:.3f})\".format(r1,r2))\n",
    "    plt.grid(True)"
   ]
  },
  {
   "cell_type": "code",
   "execution_count": null,
   "metadata": {},
   "outputs": [],
   "source": [
    "# place to store our regression results\n",
    "trainerr={}; testerr={}\n",
    "\n",
    "trainerr['dummy_mean'] = eval_predict(trainY, dummy_mean.predict(trainX))\n",
    "testerr['dummy_mean']  = eval_predict(testY, dummy_mean.predict(testX))\n",
    "trainerr['dummy_med']  = eval_predict(trainY, dummy_med.predict(trainX))\n",
    "testerr['dummy_med']   = eval_predict(testY, dummy_med.predict(testX))\n",
    "\n",
    "print(\"dummy-mean: train (RMSE,MAE)=\", trainerr['dummy_mean'] )\n",
    "print(\"dummy-mean: test  (RMSE,MAE)=\", testerr['dummy_mean']  )\n",
    "print(\"dummy-med:  train (RMSE,MAE)=\", trainerr['dummy_med']  )\n",
    "print(\"dummy-med:  test  (RMSE,MAE)=\", testerr['dummy_med']   )"
   ]
  },
  {
   "cell_type": "markdown",
   "metadata": {},
   "source": [
    "Finally, we can visualize the quality of the prediction result by using a scatter plot.  Since we are using a \"dummy\" predictor, the x-value predictions are constant.  The red line shows the ideal regressor where all the predictions are equal to the true values."
   ]
  },
  {
   "cell_type": "code",
   "execution_count": null,
   "metadata": {},
   "outputs": [],
   "source": [
    "plot_scatter(testY, dummy_med.predict(testX), 'dummy_med')"
   ]
  },
  {
   "cell_type": "markdown",
   "metadata": {},
   "source": [
    "## 2. Prediction with Linear Regression\n",
    "\n",
    "First we will look at predicting the count using simple linear regression models.  Use the training data to fit a linear model using Ordinary Least Squares and Ridge Regression.  Use cross-validation on the training set to select the optimal $\\alpha$ parameter for ridge regression."
   ]
  },
  {
   "cell_type": "code",
   "execution_count": null,
   "metadata": {},
   "outputs": [],
   "source": [
    "### INSERT YOUR CODE HERE"
   ]
  },
  {
   "cell_type": "code",
   "execution_count": null,
   "metadata": {},
   "outputs": [],
   "source": []
  },
  {
   "cell_type": "code",
   "execution_count": null,
   "metadata": {},
   "outputs": [],
   "source": []
  },
  {
   "cell_type": "code",
   "execution_count": null,
   "metadata": {},
   "outputs": [],
   "source": []
  },
  {
   "cell_type": "markdown",
   "metadata": {},
   "source": [
    "Compare the two models using the RMSE and MAE between the predictions and the true values.  Below is  code that will calculate evaluation for the training and test sets."
   ]
  },
  {
   "cell_type": "code",
   "execution_count": null,
   "metadata": {},
   "outputs": [],
   "source": [
    "# ols is the linear regression model\n",
    "trainerr['ols'] = eval_predict(trainY, ols.predict(trainX))\n",
    "testerr['ols']  = eval_predict(testY, ols.predict(testX))\n",
    "print(\"OLS: train MSE,MAE =\", trainerr['ols'])\n",
    "print(\"OLS: test  MSE,MAE =\", testerr['ols'])\n",
    "\n",
    "# rr is the ridge regression model\n",
    "trainerr['rr'] = eval_predict(trainY, rr.predict(trainX))\n",
    "testerr['rr']  = eval_predict(testY, rr.predict(testX))\n",
    "print(\"RR: train MSE,MAE =\", trainerr['rr'])\n",
    "print(\"RR: test  MSE,MAE =\", testerr['rr'])"
   ]
  },
  {
   "cell_type": "markdown",
   "metadata": {},
   "source": [
    "Which model has better prediction ability on the test set? Why?\n",
    "- **INSERT YOUR ANSWER HERE**"
   ]
  },
  {
   "cell_type": "markdown",
   "metadata": {},
   "source": [
    "Finally, we look at the scatter plot for ridge-regression."
   ]
  },
  {
   "cell_type": "code",
   "execution_count": null,
   "metadata": {},
   "outputs": [],
   "source": [
    "# rr is the ridge regression model\n",
    "plt.figure(figsize=(8,3.5))\n",
    "plt.subplot(1,2,1)\n",
    "plot_scatter(trainY, rr.predict(trainX), \"train RR\")\n",
    "plt.subplot(1,2,2)\n",
    "plot_scatter(testY, rr.predict(testX), \"test RR\")\n",
    "plt.tight_layout()"
   ]
  },
  {
   "cell_type": "markdown",
   "metadata": {},
   "source": [
    "Do you notice anything interesting about the test predictions?  We'll see how to solve this problem later."
   ]
  },
  {
   "cell_type": "markdown",
   "metadata": {},
   "source": [
    "- **INSERT YOUR ANSWER HERE**"
   ]
  },
  {
   "cell_type": "markdown",
   "metadata": {},
   "source": [
    "# 3. Which features are important?\n",
    "Next we will investigate which features are the most important for the prediction.  Use LASSO with cross-validation to learn the model."
   ]
  },
  {
   "cell_type": "code",
   "execution_count": null,
   "metadata": {},
   "outputs": [],
   "source": [
    "### INSERT YOUR CODE HERE"
   ]
  },
  {
   "cell_type": "code",
   "execution_count": null,
   "metadata": {},
   "outputs": [],
   "source": []
  },
  {
   "cell_type": "code",
   "execution_count": null,
   "metadata": {},
   "outputs": [],
   "source": []
  },
  {
   "cell_type": "markdown",
   "metadata": {},
   "source": [
    "Examine the LASSO coefficients by sorting them in descending order."
   ]
  },
  {
   "cell_type": "code",
   "execution_count": null,
   "metadata": {},
   "outputs": [],
   "source": [
    "# las is the trained LASSO model\n",
    "# sort coefficients from smallest to largest, then reverse it\n",
    "inds = argsort(abs(las.coef_))[::-1]\n",
    "# print out\n",
    "print(\"weight : feature description\")\n",
    "for i in inds:\n",
    "    print(\"{: .3f} : {}\".format(las.coef_[i], featnames[i]))\n",
    "print(\"bias = \", las.intercept_)"
   ]
  },
  {
   "cell_type": "markdown",
   "metadata": {},
   "source": [
    "_Which features have largest affect on the predicted bike share count, and what is the interpretation?_\n",
    "\n",
    "Note that the features are normalized between 0 and 1 (or are binary values), so the weights corresponding to increase/decrease of bike count.  The bias term corresponds to the typical number of bikes used, which is modified based on the features.\n",
    "- **INSERT YOUR ANSWER HERE**"
   ]
  },
  {
   "cell_type": "markdown",
   "metadata": {},
   "source": [
    "Now try feature selection using OMP.  You can try the top 10 features."
   ]
  },
  {
   "cell_type": "code",
   "execution_count": null,
   "metadata": {},
   "outputs": [],
   "source": [
    "### INSERT YOUR CODE HERE"
   ]
  },
  {
   "cell_type": "code",
   "execution_count": null,
   "metadata": {},
   "outputs": [],
   "source": []
  },
  {
   "cell_type": "code",
   "execution_count": null,
   "metadata": {},
   "outputs": [],
   "source": []
  },
  {
   "cell_type": "markdown",
   "metadata": {},
   "source": [
    "Do you get similar selected features? Why or why not?\n",
    "- **INSERT YOUR ANSWER HERE**"
   ]
  },
  {
   "cell_type": "markdown",
   "metadata": {},
   "source": [
    "# 4. Non-linear Regression\n",
    "Now use non-linear regression to try to improve the prediction accuracy.  Use cross-validation on the training set to select the parameters. "
   ]
  },
  {
   "cell_type": "code",
   "execution_count": null,
   "metadata": {},
   "outputs": [],
   "source": [
    "### INSERT YOUR CODE HERE"
   ]
  },
  {
   "cell_type": "code",
   "execution_count": null,
   "metadata": {},
   "outputs": [],
   "source": []
  },
  {
   "cell_type": "code",
   "execution_count": null,
   "metadata": {},
   "outputs": [],
   "source": []
  },
  {
   "cell_type": "code",
   "execution_count": null,
   "metadata": {},
   "outputs": [],
   "source": []
  },
  {
   "cell_type": "markdown",
   "metadata": {},
   "source": [
    "Make a scatter plot of the best regressor. Call it `bestr`."
   ]
  },
  {
   "cell_type": "code",
   "execution_count": null,
   "metadata": {},
   "outputs": [],
   "source": [
    "# scatter plot of the best regressor (bestr)\n",
    "plt.figure(figsize=(8,3.5))\n",
    "plt.subplot(1,2,1)\n",
    "plot_scatter(trainY, bestr.predict(trainX), \"train\")\n",
    "plt.subplot(1,2,2)\n",
    "plot_scatter(testY, bestr.predict(testX), \"test\")\n",
    "plt.tight_layout()"
   ]
  },
  {
   "cell_type": "markdown",
   "metadata": {
    "collapsed": true
   },
   "source": [
    "_Which regression method performs the best? Why do you think so?_\n",
    "- **INSERT YOUR ANSWER HERE**"
   ]
  },
  {
   "cell_type": "markdown",
   "metadata": {},
   "source": [
    "# 5. Test set bias"
   ]
  },
  {
   "cell_type": "markdown",
   "metadata": {},
   "source": [
    "In your scatter plot above, you may have noticed that the regressor is almost always under-predicting the count (the points are usually below the red line). This suggests that there is some bias in the test set.\n",
    "\n",
    "Let's look at the plot of the count over time.  The left side is the training data (1st year), and the right side is the testing data (2nd year)"
   ]
  },
  {
   "cell_type": "code",
   "execution_count": null,
   "metadata": {},
   "outputs": [],
   "source": [
    "plt.plot(dataY)\n",
    "plt.plot([365,365], [0,8500], 'r')\n",
    "plt.grid(True)\n",
    "plt.xlabel('day')\n",
    "plt.ylabel('count')\n",
    "plt.title('target values over time');"
   ]
  },
  {
   "cell_type": "markdown",
   "metadata": {},
   "source": [
    "Interestingly, it looks like bike sharing became more popular in the 2nd year, so the overall counts are higher (but the seasonal trend looks the same).\n",
    "\n",
    "Let's assume that we noticed this upward trend in the first 3 months of the year, and collected the data for training.  We will then use the remaining part of the 2nd year for testing."
   ]
  },
  {
   "cell_type": "code",
   "execution_count": null,
   "metadata": {},
   "outputs": [],
   "source": [
    "# get indices for month 1 to month 3\n",
    "print(featnames[11], featnames[12], featnames[13])\n",
    "inds = (testX[:,11].ravel()==1) + (testX[:,12].ravel()==1) + (testX[:,13].ravel()==1)\n",
    "\n",
    "# new training data from 2nd year (months 1-3)\n",
    "trainX2 = testX[inds]\n",
    "trainY2  = testY[inds]\n",
    "# new testing data from 2nd year (months 4-12)\n",
    "testX2  = testX[logical_not(inds)]\n",
    "testY2   = testY[logical_not(inds)]\n",
    "print(trainX2.shape)\n",
    "print(testX2.shape)"
   ]
  },
  {
   "cell_type": "markdown",
   "metadata": {},
   "source": [
    "There are several approaches for using the new data:\n",
    "1. use the new data to train the regressor, and ignore the old data.\n",
    "2. append the new data with the old data and train a regressor.  Note that we kept the \"year\" feature, so the regressor can distinguish the new and old training data.\n",
    "3. use the new data to train a regressor on the residual error of the old regressor.  The residual error is the difference between the predicted count and true count on the new training data.\n",
    "\n",
    "Using **one selected** regression method, try each of the approaches above to use the new data. You should compare the 3 approaches with the regressor trained on the original data and tested on the new test set (`testY2`)."
   ]
  },
  {
   "cell_type": "code",
   "execution_count": null,
   "metadata": {},
   "outputs": [],
   "source": [
    "# append new data with old data\n",
    "trainY2_append = concatenate((trainY, trainY2), axis=0)\n",
    "trainX2_append = concatenate((trainX, trainX2), axis=0)\n",
    "print(trainY2_append.shape)\n",
    "print(trainX2_append.shape)"
   ]
  },
  {
   "cell_type": "code",
   "execution_count": null,
   "metadata": {},
   "outputs": [],
   "source": [
    "### INSERT YOUR CODE HERE"
   ]
  },
  {
   "cell_type": "code",
   "execution_count": null,
   "metadata": {},
   "outputs": [],
   "source": []
  },
  {
   "cell_type": "code",
   "execution_count": null,
   "metadata": {},
   "outputs": [],
   "source": []
  },
  {
   "cell_type": "code",
   "execution_count": null,
   "metadata": {},
   "outputs": [],
   "source": []
  },
  {
   "cell_type": "markdown",
   "metadata": {},
   "source": [
    "_Which approach for using the new data is better? Explain why you think the other approaches don't work well._\n",
    "- **INSERT YOUR ANSWER HERE**"
   ]
  }
 ],
 "metadata": {
  "anaconda-cloud": {},
  "kernelspec": {
   "display_name": "Python 3",
   "language": "python",
   "name": "python3"
  },
  "language_info": {
   "codemirror_mode": {
    "name": "ipython",
    "version": 3
   },
   "file_extension": ".py",
   "mimetype": "text/x-python",
   "name": "python",
   "nbconvert_exporter": "python",
   "pygments_lexer": "ipython3",
   "version": "3.7.6"
  },
  "toc": {
   "base_numbering": 1,
   "nav_menu": {},
   "number_sections": true,
   "sideBar": true,
   "skip_h1_title": false,
   "title_cell": "Table of Contents",
   "title_sidebar": "Contents",
   "toc_cell": false,
   "toc_position": {},
   "toc_section_display": true,
   "toc_window_display": false
  }
 },
 "nbformat": 4,
 "nbformat_minor": 1
}
