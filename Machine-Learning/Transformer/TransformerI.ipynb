{
  "nbformat": 4,
  "nbformat_minor": 0,
  "metadata": {
    "colab": {
      "name": "TransformerI.ipynb",
      "provenance": [],
      "collapsed_sections": []
    },
    "kernelspec": {
      "name": "python3",
      "display_name": "Python 3"
    },
    "accelerator": "GPU"
  },
  "cells": [
    {
      "cell_type": "code",
      "metadata": {
        "id": "9Y8_IQ8ybFW-",
        "colab": {
          "base_uri": "https://localhost:8080/",
          "height": 221
        },
        "outputId": "bb63b8de-71aa-4e0d-e14b-4422e1bbedf5"
      },
      "source": [
        "!pip install sentencepiece\n",
        "!wget https://raw.githubusercontent.com/khvorostin/useful-english-phrases/master/07-literary-expressions.txt -O expressions.txt"
      ],
      "execution_count": null,
      "outputs": [
        {
          "output_type": "stream",
          "text": [
            "Requirement already satisfied: sentencepiece in /usr/local/lib/python3.6/dist-packages (0.1.83)\n",
            "--2019-10-24 21:51:41--  https://raw.githubusercontent.com/khvorostin/useful-english-phrases/master/07-literary-expressions.txt\n",
            "Resolving raw.githubusercontent.com (raw.githubusercontent.com)... 151.101.0.133, 151.101.64.133, 151.101.128.133, ...\n",
            "Connecting to raw.githubusercontent.com (raw.githubusercontent.com)|151.101.0.133|:443... connected.\n",
            "HTTP request sent, awaiting response... 200 OK\n",
            "Length: 57085 (56K) [text/plain]\n",
            "Saving to: ‘expressions.txt’\n",
            "\n",
            "expressions.txt     100%[===================>]  55.75K  --.-KB/s    in 0.02s   \n",
            "\n",
            "2019-10-24 21:51:41 (2.68 MB/s) - ‘expressions.txt’ saved [57085/57085]\n",
            "\n"
          ],
          "name": "stdout"
        }
      ]
    },
    {
      "cell_type": "code",
      "metadata": {
        "id": "l9VSOO9fh_Iz",
        "colab": {
          "base_uri": "https://localhost:8080/",
          "height": 34
        },
        "outputId": "e7eae186-69cf-42d7-a1d9-0731244cfe85"
      },
      "source": [
        "%tensorflow_version 2.x\n",
        "import tensorflow as tf\n",
        "import numpy as np\n",
        "import sentencepiece as spm\n",
        "import matplotlib.pyplot as plt"
      ],
      "execution_count": null,
      "outputs": [
        {
          "output_type": "stream",
          "text": [
            "TensorFlow 2.x selected.\n"
          ],
          "name": "stdout"
        }
      ]
    },
    {
      "cell_type": "markdown",
      "metadata": {
        "id": "iaxuWASijLzE"
      },
      "source": [
        "## Introduction \n",
        "\n",
        "Until 2017, natural language processing (NLP) was dependent on using recurrent neural networks (RNNs) which has many shortcomings: 1. no support for parallelization, 2. vanishing gradient for long sequences. For instance, in translation which is mostly seq2seq architectures, both the encoder and decoder consists of RNNs. In 2014, Bahdanau et al , suggested the use of a mechanism called \"attention\" to resolve the bottleneck of seq2seq models [1]. However, RNNs were still the main building blocks for such models and others like image captioning by Kelvin Xu et al [2]. The use of attention in [1, 2] gave a better visualization of such models. But, what if we get rid of all RNNs in the first place. Well, that is a big claim, but it worked really well in 2017. The paper was rightly called \"Attention is all you need\" by Vaswani et al. from Google AI. This is a breakthrough, since RNNs are very slow which makes parallel computations easy to implement. The model was called 'Transfomer model', in this notebook we will explain in details its main components. "
      ]
    },
    {
      "cell_type": "markdown",
      "metadata": {
        "id": "EkUl87Y5h2bl"
      },
      "source": [
        "## Transformer Encoder\n",
        "\n",
        "The transofmer, like other architectures for machine translation consists of encoder and decoder modules. In this notebook, we will only focus on the encoder, and in part II will focus on the decoder. \n",
        "\n",
        "![alt text](https://machinetalk.org/wp-content/uploads/2019/04/encoder.png)"
      ]
    },
    {
      "cell_type": "markdown",
      "metadata": {
        "id": "XmrbrXgsYEYH"
      },
      "source": [
        "## Tokenization\n",
        "\n",
        "Given a set of statements we would like to convert these statements to a set of integers. However, this will result in a huge vocabulary which makes training very difficult. Google offers [SentencePiece](https://github.com/google/sentencepiece) which is a model that could be trained to generate tokens for arbitrary languages. From the name, you could deduce that the model can generate pieces of words as well. In this example, we will train a model on a set of expressions from the English language. "
      ]
    },
    {
      "cell_type": "code",
      "metadata": {
        "id": "9UVgskFrbMaO",
        "colab": {
          "base_uri": "https://localhost:8080/",
          "height": 34
        },
        "outputId": "c10d2cf3-fd32-41c4-d854-c3ab814576a8"
      },
      "source": [
        "# train the model on the epxressions with a fixed vocabulary size, this will create a model named en.model \n",
        "spm.SentencePieceTrainer.Train('--input=expressions.txt --model_prefix=en --vocab_size=1000 --model_type=bpe')\n",
        "\n",
        "# create the process object then load the trained model\n",
        "sp = spm.SentencePieceProcessor()\n",
        "sp.load('en.model')"
      ],
      "execution_count": null,
      "outputs": [
        {
          "output_type": "execute_result",
          "data": {
            "text/plain": [
              "True"
            ]
          },
          "metadata": {
            "tags": []
          },
          "execution_count": 3
        }
      ]
    },
    {
      "cell_type": "markdown",
      "metadata": {
        "id": "Z32M7EQ8pOQG"
      },
      "source": [
        "Let us try the model on an arbitrary statement, note how the tokens can be pieces of words"
      ]
    },
    {
      "cell_type": "code",
      "metadata": {
        "id": "S_qFLO2CpSbU",
        "colab": {
          "base_uri": "https://localhost:8080/",
          "height": 34
        },
        "outputId": "71fd3c10-5f37-4d93-cdde-cbc0e2525ddf"
      },
      "source": [
        "sp.encode_as_pieces('A calmness settled on his spirit')"
      ],
      "execution_count": null,
      "outputs": [
        {
          "output_type": "execute_result",
          "data": {
            "text/plain": [
              "['▁A', '▁calm', 'ness', '▁s', 'et', 't', 'led', '▁on', '▁his', '▁spirit']"
            ]
          },
          "metadata": {
            "tags": []
          },
          "execution_count": 4
        }
      ]
    },
    {
      "cell_type": "markdown",
      "metadata": {
        "id": "N2pbXnG7pwhQ"
      },
      "source": [
        "Now, let us load our dataset and convert them to padded vectors"
      ]
    },
    {
      "cell_type": "code",
      "metadata": {
        "id": "Iac8SK5bbuI9"
      },
      "source": [
        "# load the expressions \n",
        "with open('expressions.txt', 'r') as f:\n",
        "  sentences = f.read().splitlines()\n",
        "\n",
        "# convert the vectors to ids \n",
        "sequences = []\n",
        "max_length = 0\n",
        "\n",
        "for sentence in sentences:\n",
        "  sequence = sp.encode_as_ids(sentence)\n",
        "  sequences.append(sequence)\n",
        "  max_length = max(max_length, len(sequence))\n",
        "\n",
        "# pad the vectors according to the longest sequence \n",
        "x = tf.keras.preprocessing.sequence.pad_sequences(sequences, maxlen = max_length)"
      ],
      "execution_count": null,
      "outputs": []
    },
    {
      "cell_type": "markdown",
      "metadata": {
        "id": "1JjjtCUqe9Zh"
      },
      "source": [
        "## Parameters\n",
        "A set of parameters that are taken from the original paper. Don't worry about them right now. "
      ]
    },
    {
      "cell_type": "code",
      "metadata": {
        "id": "fiSSscLYoxbt"
      },
      "source": [
        "# dimension of the vectors between consecutive modules layers \n",
        "dm = 512\n",
        "\n",
        "# number of heads in attention modules\n",
        "h = 8 \n",
        "\n",
        "# dimensnion of queries and keys \n",
        "dk = dm // 8\n",
        "\n",
        "# dimension of values \n",
        "dv = dm // 8 \n",
        "\n",
        "# sequence length \n",
        "n = max_length \n",
        "\n",
        "# size of vocabulary \n",
        "vocab_size = 1000\n",
        "\n",
        "# number of neurons in the feed forward network \n",
        "dff = 2048"
      ],
      "execution_count": null,
      "outputs": []
    },
    {
      "cell_type": "markdown",
      "metadata": {
        "id": "YSVKuZZfXz3H"
      },
      "source": [
        "## Encoding\n",
        "Since the transformer model has no meaning of sequences of operations (they are mostly parallel) for a set of words, it is important that we keep track of the order input words. To do that, we use positional encoding. Before doing that, we will first pass the vectors through an embedding layer"
      ]
    },
    {
      "cell_type": "code",
      "metadata": {
        "id": "FDFnZhaUgiC3"
      },
      "source": [
        "e = tf.keras.layers.Embedding(vocab_size, dm)(x)"
      ],
      "execution_count": null,
      "outputs": []
    },
    {
      "cell_type": "markdown",
      "metadata": {
        "id": "eZhKNkIhrH1C"
      },
      "source": [
        "To encode the position of each word within a sequence of models we use sines and cosines. These encodings are just added to the embedding layer output so no change in the shape of e: [None, dm]. \n",
        "\n",
        "Given pos as the position within the sequence which takes the values $0 \\cdots n-1$ and $i$ as the position within the embedding dimension which takes values $0 \\cdots d_m-1$. We evaluate the encoded position for even and odd values as "
      ]
    },
    {
      "cell_type": "markdown",
      "metadata": {
        "id": "m-mcPNbN1KsS"
      },
      "source": [
        "$$\\text{PE}(\\text{pos},2i)= \\sin\\left(\\frac{\\text{pos}}{10000^{2i/d_{model}}}\\right)$$\n",
        "\n",
        "$$\\text{PE}(\\text{pos},2i+1)= \\cos\\left(\\frac{\\text{pos}}{10000^{2i/d_{model}}}\\right)$$\n",
        "\n",
        "We can combine the two formulas as \n",
        "\n",
        "$$\\text{PE}(\\text{pos},i)= \\sin\\left(\\frac{\\text{pos}}{10000^{(i-g(i))/d_{model}}}+ g(i) \\times \\frac{\\pi}{2}\\right)$$\n",
        "\n",
        "Where $g(i) = i \\,\\% \\,2$ which takes 0 for even values and 1 for odd values. Note that $\\sin(x + \\pi/2) = \\cos(x)$"
      ]
    },
    {
      "cell_type": "code",
      "metadata": {
        "id": "ogeEJ19D1Hql"
      },
      "source": [
        "def g(ids):\n",
        "  return ids % 2\n",
        "\n",
        "def positional_encoding(x):\n",
        "\n",
        "  # 1. create positions within sequence and ids within dm \n",
        "  # out ids: [1, dm] pos: [n, 1]\n",
        "  ids = tf.expand_dims(tf.range(0, dm), 0)\n",
        "  pos = tf.expand_dims(tf.range(0, n), 1)\n",
        "\n",
        "  # 2. create numerator and denominator\n",
        "  # inp ids: [1, dm] pos: [n, 1] \n",
        "  # out den: [1, dm] num: [n, 1]\n",
        "  den = tf.pow(10000.0, tf.cast((ids - g(ids))/ dm, tf.float32))\n",
        "  num = tf.cast(pos, tf.float32)\n",
        "\n",
        "  # 3. division \n",
        "  # inp num: [n, 1] den: [1, dm] \n",
        "  # out encoding: [n, dm]\n",
        "  encoding = tf.sin(tf.divide(num, den)  + tf.cast(g(ids), tf.float32)* (np.pi/2))\n",
        "  return x + encoding\n",
        "  "
      ],
      "execution_count": null,
      "outputs": []
    },
    {
      "cell_type": "code",
      "metadata": {
        "id": "_-RkWoOeffxD"
      },
      "source": [
        "z = positional_encoding(e)"
      ],
      "execution_count": null,
      "outputs": []
    },
    {
      "cell_type": "markdown",
      "metadata": {
        "id": "A3RE5xk3veFD"
      },
      "source": [
        "Let us visualize the encoding for a specific sequence of words. As we see from the figure there is a unique pattern for the sequence position in the y-axis. "
      ]
    },
    {
      "cell_type": "code",
      "metadata": {
        "id": "socxYh9DXeLV",
        "colab": {
          "base_uri": "https://localhost:8080/",
          "height": 320
        },
        "outputId": "64e1c964-8780-46ce-829e-05f241e99864"
      },
      "source": [
        "plt.figure(figsize = (10, 5))\n",
        "plt.pcolormesh(z[0])\n",
        "plt.ylim((0, max_length))\n",
        "plt.colorbar()\n",
        "plt.show()"
      ],
      "execution_count": null,
      "outputs": [
        {
          "output_type": "display_data",
          "data": {
            "image/png": "[encoded data removed]",
            "text/plain": [
              "<Figure size 720x360 with 2 Axes>"
            ]
          },
          "metadata": {
            "tags": []
          }
        }
      ]
    },
    {
      "cell_type": "markdown",
      "metadata": {
        "id": "Npqxue4Ogyc_"
      },
      "source": [
        "## Multi-head Self-attention"
      ]
    },
    {
      "cell_type": "markdown",
      "metadata": {
        "id": "4qRm-ll7VxLR"
      },
      "source": [
        "![alt text](https://mchromiak.github.io/articles/2017/Sep/12/Transformer-Attention-is-all-you-need/img/MultiHead.png)"
      ]
    },
    {
      "cell_type": "markdown",
      "metadata": {
        "id": "dRqD7sWxXfsj"
      },
      "source": [
        "\n",
        "Let us start by the output of the positional encoding function $z \\in \\mathbb{R}^{n \\times d_m}$. Note that, for simplicity we assume that we just have one batch. From the value $z$ we extract three types of vectors by applying three dense layers. The types are $K \\in \\mathbb{R}^{n \\times d_k} Q \\in \\mathbb{R}^{n \\times d_k}$ and $V \\in \\mathbb{R}^{n \\times d_v}$ called keys, queries and values respectively. In simple terms, the keys are used by the query vector to search for values. In attention, we are trying to find the closest key-value pair to the given query vector. In other words, we are trying to search for words that are closer in meaning or may refer to in the current context. For instance, in the statement `John is smart and handsome` we expect that the query words `smart` and `handsome` to have an high attention value for the key word `John`. To evaluate closensess, we a scaled dot product \n",
        "\n",
        "$$\\text{Attention}(Q, K, V) = \\text{softmax}\\left( \\frac{QK^T}{\\sqrt{d_k}}\\right)V$$\n",
        "\n",
        "This function will result in a weight vector for each query word multiplied by the value vector. For instance, for the query word `smart` we expect something like `[0.3, 0.05, 0.1, 0.05, 0.55] x v`. Hence, smaller values of the attention weight vector will result in smaller values and hence lower gradient. The authors, realized that for larger values the dot product might grow large so they divide by $\\sqrt{d_k}$ as a normalizing factor inside the softmax function. In general, this is called additive attention which is usually preferred because is fast and space efficient because we can use highly optimized matrices product to compute it. Note that, in the definition we assume that $Q, K, V$ are matrices hence it can be computed really fast for a large sequence and even batch size. There exists another form of attention, which is called product attention which was used in [1, 2]. \n",
        "\n",
        "In general this approach is called self-attention because it uses the same input vector $z$ to generate the query, key and value vectors. In the paper, the authors suggest using self-attention multiple times i.e multiple head attention. This is done by repeating the same operation multiple times which in general gave more robust results. They use $h = 8$  and then concatenate the output at the end.  \n"
      ]
    },
    {
      "cell_type": "markdown",
      "metadata": {
        "id": "4UVzDMR69VXv"
      },
      "source": [
        "In the following function we will create a single head attention operation. The input vector has dimensions $z \\in \\mathbb{R}^{\\text{None} \\times n \\times d_m}$ and the output $H \\in \\mathbb{R}^{\\text{None} \\times n \\times d_m}$ note how we use $\\text{None}$ to represent the batch size which could be of variable size. To make the code clearer, for each operation I show the input and output dimension shapes. "
      ]
    },
    {
      "cell_type": "code",
      "metadata": {
        "id": "_RO6dc0biCk6"
      },
      "source": [
        "def single_head_attention(z):\n",
        "\n",
        "  # 1. projection \n",
        "  # inp z: [None, n, dm]  \n",
        "  # out Q: [None, n, dk]  K: [None, n, dk] V: [None, n, dv]\n",
        "  V = tf.keras.layers.Dense(units = dv)(z)\n",
        "  Q = tf.keras.layers.Dense(units = dk)(z)\n",
        "  K = tf.keras.layers.Dense(units = dk)(z)\n",
        "\n",
        "  # 2. scaled dot product \n",
        "  # inp Q:  [None, n, dk] K: [None, n, dk] \n",
        "  # out score : [None, n, n] \n",
        "  score = tf.matmul(Q, K, transpose_b=True)/ tf.sqrt(dk*1.0)\n",
        "\n",
        "  # 3. evaluate the weights \n",
        "  # inp score: [None, n, n]\n",
        "  # out W: [None, n, n]\n",
        "  W = tf.nn.softmax(score, axis = 1)\n",
        "\n",
        "  # 4. evaluate the context vector \n",
        "  # inp W: [None, n, n] V: [None, n, dv]\n",
        "  # out H: [None, n, dv]\n",
        "  H = tf.matmul(W, V)\n",
        "  return H"
      ],
      "execution_count": null,
      "outputs": []
    },
    {
      "cell_type": "markdown",
      "metadata": {
        "id": "RwwXX1sB96C2"
      },
      "source": [
        "After applying single attention we repeat the operation multiple times and then concatenate the output "
      ]
    },
    {
      "cell_type": "code",
      "metadata": {
        "id": "qRCgvC__NKDJ"
      },
      "source": [
        "def multi_head_attention(z):\n",
        "\n",
        "  # according to the paper \"We found it beneficial to linearly project the queries, keys \n",
        "  # and values h times with different, learned linear projections\n",
        "  # to dk, dk and dv dimensions, respectively\".\n",
        "\n",
        "  Hs = []\n",
        "\n",
        "  # 1. apply h times \n",
        "  # inp z : [None, n, dm]\n",
        "  # out Hs: [[None, n, dv], ..., [None, n, dv]]\n",
        "  for i in range(0, h):\n",
        "\n",
        "    # single head attention \n",
        "    # inp z: [None, n, dm]\n",
        "    # out H: [None, n, dv]\n",
        "    H = single_head_attention(z)\n",
        "\n",
        "    Hs.append(H)\n",
        "\n",
        "  # 2. concatenate \n",
        "  # inp Hs: [[None, n, dv], ..., [None, n, dv]] \n",
        "  # out z : [None, n, dv * 8] => [None, n , dm]\n",
        "  z = tf.concat(Hs, axis = -1)\n",
        "  return z "
      ],
      "execution_count": null,
      "outputs": []
    },
    {
      "cell_type": "markdown",
      "metadata": {
        "id": "FliBr-UZ-AOP"
      },
      "source": [
        "Finally, the encoder layer will be ready by applying fully connected layers. Note that the authors used residual connections $$\\text{LayerNorm}(x + \\text{Sublayer}(x))$$ "
      ]
    },
    {
      "cell_type": "code",
      "metadata": {
        "id": "r8Z4jQRLhD01"
      },
      "source": [
        "def EncoderLayer(z):\n",
        "\n",
        "  # 1. self-attention \n",
        "  # inp z : [None, n, dm]\n",
        "  # out dz: [None, n, dm]\n",
        "  dz = multi_head_attention(z)\n",
        "\n",
        "  # 2. normalization\n",
        "  # inp z: [None, n, dm] dz: [None, n, dm]\n",
        "  # out z: [None, n, dm]\n",
        "  z = tf.keras.layers.LayerNormalization()(z + dz)\n",
        "\n",
        "  # 3. feed forward \n",
        "  # inp z : [None, n, dm]\n",
        "  # out dz: [None, n, dm]\n",
        "  dz = tf.keras.layers.Dense(units = dff, activation = 'relu')(z)\n",
        "  dz = tf.keras.layers.Dense(units = dm)(dz)\n",
        "\n",
        "  # 4. normalization \n",
        "  # inp z: [None, n, dm] dz: [None, n, dm]\n",
        "  # out z: [None, n, dm]\n",
        "  z = tf.keras.layers.LayerNormalization()(z + dz)\n",
        "\n",
        "  return z "
      ],
      "execution_count": null,
      "outputs": []
    },
    {
      "cell_type": "code",
      "metadata": {
        "id": "VVRZJd5WnR_Y",
        "colab": {
          "base_uri": "https://localhost:8080/",
          "height": 34
        },
        "outputId": "c7d1b50c-1bd6-4ec4-bbba-2e24cd1634ba"
      },
      "source": [
        "EncoderLayer(z).shape"
      ],
      "execution_count": null,
      "outputs": [
        {
          "output_type": "execute_result",
          "data": {
            "text/plain": [
              "TensorShape([1423, 63, 512])"
            ]
          },
          "metadata": {
            "tags": []
          },
          "execution_count": 15
        }
      ]
    },
    {
      "cell_type": "markdown",
      "metadata": {
        "id": "6ecSrhheaNAM"
      },
      "source": [
        "## References\n",
        "\n",
        "1. [Neural Machine Translation by Jointly Learning to Align and Translate](https://arxiv.org/abs/1409.0473) \n",
        "2. [Show, Attend and Tell: Neural Image Caption Generation with Visual Attention\n",
        "](https://arxiv.org/abs/1502.03044)\n",
        "3.  [Attention is all you need](https://arxiv.org/abs/1706.03762)\n",
        "4. https://www.tensorflow.org/tutorials/text/transformer"
      ]
    }
  ]
}