{
 "cells": [
  {
   "cell_type": "markdown",
   "metadata": {
    "nbpresent": {
     "id": "3b271f3b-f892-4ff1-b869-f4cd3df068a8"
    },
    "slideshow": {
     "slide_type": "slide"
    }
   },
   "source": [
    "# CS 5489 Machine Learning\n",
    "# Lecture 1a: Python Tutorial\n",
    "## Dr. Antoni B. Chan\n",
    "### Dept. of Computer Science, City University of Hong Kong"
   ]
  },
  {
   "cell_type": "markdown",
   "metadata": {
    "nbpresent": {
     "id": "d71dad71-d878-4a3a-85c6-bad49734e8bf"
    },
    "slideshow": {
     "slide_type": "slide"
    }
   },
   "source": [
    "# Why Python?\n",
    "- General-purpose high-level programming language\n",
    "- Design philosophy emphasizes programmer productivity and code readability\n",
    "  - \"executable pseudo-code\"\n",
    "- Supports multiple programming paradigms\n",
    "  - object-oriented, imperative, functional\n",
    "- Dynamic typing and automatic memory management"
   ]
  },
  {
   "cell_type": "markdown",
   "metadata": {
    "nbpresent": {
     "id": "ea5d38fb-eb38-4eae-a728-3d5b8940c447"
    },
    "slideshow": {
     "slide_type": "slide"
    }
   },
   "source": [
    "# What is special about Python?\n",
    "- Object-oriented: everything is an object\n",
    "- Clean: usually one way to do something, not a dozen\n",
    "- Easy-to-learn: learn in 1-2 days\n",
    "- Easy-to-read\n",
    "- Powerful: full-fledged programming language"
   ]
  },
  {
   "cell_type": "markdown",
   "metadata": {
    "nbpresent": {
     "id": "5c8496e0-59c4-45d0-b653-50545337f1c4"
    },
    "slideshow": {
     "slide_type": "slide"
    }
   },
   "source": [
    "# Applications for Python\n",
    "- Scientific Computing\n",
    "  - numpy, scipy, ipython\n",
    "- Data Science, Deep Learning\n",
    "  - scikit-learn, matplotlib, pandas, keras, tensorflow\n",
    "- Web & Internet Development\n",
    "  - Django – complete web application framework\n",
    "  - model-view-controller design pattern\n",
    "  - templates, web server, object-relational mapper"
   ]
  },
  {
   "cell_type": "markdown",
   "metadata": {
    "nbpresent": {
     "id": "c2a0b197-fbd0-4b26-939d-164c2cab3050"
    },
    "slideshow": {
     "slide_type": "slide"
    }
   },
   "source": [
    "# Disadvantages of Python\n",
    "- Not as fast as Java or C\n",
    "- However, you can call C-compiled libraries from Python (e.g. Boost C++)\n",
    "- Alternatively, Python code can be compiled to improve speed\n",
    "  - Cython and PyPy\n",
    "  - requires type of variables to be declared"
   ]
  },
  {
   "cell_type": "markdown",
   "metadata": {
    "nbpresent": {
     "id": "fb621f44-f1c7-4481-adbe-ece14a1a5bc3"
    },
    "slideshow": {
     "slide_type": "slide"
    }
   },
   "source": [
    "# Installing Python\n",
    "- We will use Python 3\n",
    "  - Python 3 is not backwards compatible with Python 2.7\n",
    "- Anaconda (https://www.anaconda.com/download)\n",
    "  - single bundle includes most scientific computing packages.\n",
    "    - package manager for installing other libraries\n",
    "  - make sure to pick version for **Python 3**.\n",
    "  - easy install packages for Windows, Mac, Linux.\n",
    "    - (single directory install)"
   ]
  },
  {
   "cell_type": "markdown",
   "metadata": {
    "nbpresent": {
     "id": "6215c857-6edf-46a8-b5d2-cfc7fdde318a"
    },
    "slideshow": {
     "slide_type": "slide"
    }
   },
   "source": [
    "Running Python\n",
    "===============\n",
    "- Interactive shell (ipython)\n",
    "  - good for learning the language, experimenting with code, testing modules\n",
    "\n",
    "***\n",
    "```\n",
    "Nori:CS5489 abc$ ipython\n",
    "Python 3.5.4 |Anaconda, Inc.| (default, Oct  5 2017, 02:58:14) \n",
    "Type \"copyright\", \"credits\" or \"license\" for more information.\n",
    "\n",
    "IPython 4.2.0 -- An enhanced Interactive Python.\n",
    "?         -> Introduction and overview of IPython's features.\n",
    "%quickref -> Quick reference.\n",
    "help      -> Python's own help system.\n",
    "object?   -> Details about 'object', use 'object??' for extra details.\n",
    "\n",
    "In [1]: print(\"Hello, World\")\n",
    "Hello, World\n",
    "\n",
    "In [2]: \n",
    "Do you really want to exit ([y]/n)? y\n",
    "Nori:CS5489 abc$ \n",
    "\n",
    "```"
   ]
  },
  {
   "cell_type": "markdown",
   "metadata": {
    "nbpresent": {
     "id": "5f06f212-6d6f-4bd4-95e4-96017c7f650f"
    },
    "slideshow": {
     "slide_type": "subslide"
    }
   },
   "source": [
    "- Script file (hello.py)\n",
    "```python\n",
    "#!/usr/bin/python\n",
    "print(\"Hello, World\")\n",
    "```\n",
    "\n",
    "- Standalone script\n",
    "  - explicitly using python interpreter\n",
    "```\n",
    "Nori:~ abc$ python hello.py\n",
    "Hello, World\n",
    "```\n",
    "\n",
    "  - using magic shebang (Linux, Mac OS X)\n",
    "```\n",
    "Nori:~ abc$ ./hello.py \n",
    "Hello, World\n",
    "```"
   ]
  },
  {
   "cell_type": "markdown",
   "metadata": {
    "nbpresent": {
     "id": "e4ea873a-2f24-45e1-bec1-eaa66c42313a"
    },
    "slideshow": {
     "slide_type": "slide"
    }
   },
   "source": [
    "# Jupyter (ipython notebooks)\n",
    "- Launch from _Anaconda Navigator_\n",
    "- browser-based interactive computing environment\n",
    "  - development, documenting, executing code, viewing results (inline images)\n",
    "  - whole session stored in notebook document (.ipynb)\n",
    "  - (also made and presented these slides!)"
   ]
  },
  {
   "cell_type": "markdown",
   "metadata": {
    "slideshow": {
     "slide_type": "subslide"
    }
   },
   "source": [
    "![ipynb](imgs/ipynb-demo.png)"
   ]
  },
  {
   "cell_type": "markdown",
   "metadata": {
    "nbpresent": {
     "id": "bbf2392e-c673-435d-8f7d-567bfd9300aa"
    },
    "slideshow": {
     "slide_type": "subslide"
    }
   },
   "source": [
    "# Jupyter tips\n",
    "- Keyboard shortcuts\n",
    "  - there are a lot of keyboard shortcuts for moving between cells, running cells, deleting and inserting cells.\n",
    "- Starting directory\n",
    "  - use the `--notebook-dir=mydir` option to start the notebook in a particular directory.\n",
    "  - Windows: create a shortcut to run `jupyter-notebook.exe --notebook-dir=%userprofile%`."
   ]
  },
  {
   "cell_type": "markdown",
   "metadata": {
    "slideshow": {
     "slide_type": "subslide"
    }
   },
   "source": [
    "- Problems viewing SVG images in ipynb\n",
    "  - SVG images may not display due to the serurity model of Jupyter. \n",
    "  - select \"Trust Notebook\" from the \"File\" menu to show the SVG images.\n",
    "- View ipynb in slideshow mode in a web browser (like this presentation!)\n",
    "```\n",
    "jupyter-nbconvert --to slides file.ipynb --post serve\n",
    "```\n",
    "- Convert to HTML to view statically in web browser\n",
    "```\n",
    "jupyter-nbconvert file.ipynb\n",
    "```"
   ]
  },
  {
   "cell_type": "markdown",
   "metadata": {
    "slideshow": {
     "slide_type": "subslide"
    }
   },
   "source": [
    "- ValueError when using matplotlib in Jupyter\n",
    "  - This mainly affects Mac where the OS locale is set to a non-English language.  Open \"Terminal\" app and go to Preferences -> Profiles -> Terminal -> Enviornment. Deselect the option \"Set locale variables automatically\".\n",
    "  - more info: http://stackoverflow.com/questions/15526996/ipython-notebook-locale-error\n",
    "- MacOS and Anaconda\n",
    "  - MacOS has a builtin python distribution. If you are using anaconda, make sure that you use the correct command-line commands. You can add \"/anaconda3/bin/\" in front of the command to make sure you are using the anaconda version (or the appropriate base direcotry for anaconda3).  Otherwise, it may default to the builtin python.\n",
    "\n"
   ]
  },
  {
   "cell_type": "markdown",
   "metadata": {
    "slideshow": {
     "slide_type": "subslide"
    }
   },
   "source": [
    "# CS Lab Resources\n",
    "- JupyterHub\n",
    "  - Jupyter notebooks run on a central server - shared CPU and GPU\n",
    "  - Jupyter notebooks: https://jh5489.cs.cityu.edu.hk\n",
    "  - JupyterLab (IDE): https://jh5489.cs.cityu.edu.hk/user-redirect/lab\n",
    "- Linux machines\n",
    "  - there are several computing clusters in CS.\n",
    "  - [High Throughput GPU Cluster 1 (HTGC1)](https://cslab.cs.cityu.edu.hk/services/high-throughput-gpu-cluster-htgc)\n",
    "  - [High Throughput GPU Cluster 2 (HTGC2)](https://cslab.cs.cityu.edu.hk/services/high-throughput-gpu-cluster-htgc2)\n",
    "  - [High Throughput GPU Cluster 3 (HTGC3)](https://cslab.cs.cityu.edu.hk/services/high-throughput-gpu-cluster-htgc3)\n",
    "- Windows machines\n",
    "  - MMW2462 in CS lab contains GPU workstations.\n",
    "- Google colab: https://colab.research.google.com/\n",
    "  - provided by Google. Some limitations on running time (12 hours) and memory usage.\n",
    "- More details are on Canvas."
   ]
  },
  {
   "cell_type": "markdown",
   "metadata": {
    "nbpresent": {
     "id": "8406e68c-d240-4c1f-9a3e-891642f80eaf"
    },
    "slideshow": {
     "slide_type": "slide"
    }
   },
   "source": [
    "# Outline\n",
    "1. Python Intro\n",
    "2. **Python Basics (identifiers, types, operators)**\n",
    "3. Control structures (conditional and loops)\n",
    "4. Functions, Classes\n",
    "5. File IO, Pickle, pandas\n",
    "6. NumPy\n",
    "7. matplotlib\n",
    "8. probability review"
   ]
  },
  {
   "cell_type": "markdown",
   "metadata": {
    "nbpresent": {
     "id": "4a050f56-8194-4cfa-8ce8-c644b036305d"
    },
    "slideshow": {
     "slide_type": "slide"
    }
   },
   "source": [
    "# Python Basics\n",
    "- Formatting\n",
    "  - case-sensitive\n",
    "  - statements end in **newline** (not semicolon)\n",
    "    - use semicolon for multiple statements in one line.\n",
    "  - **indentation** for code blocks (after a colon)."
   ]
  },
  {
   "cell_type": "code",
   "execution_count": 1,
   "metadata": {
    "nbpresent": {
     "id": "0d31570d-88da-4f5d-98f4-1edd2d2d2d5b"
    },
    "slideshow": {
     "slide_type": "-"
    }
   },
   "outputs": [
    {
     "name": "stdout",
     "output_type": "stream",
     "text": [
      "Hello\n",
      "Hello\n",
      "World\n",
      "Who are you?\n"
     ]
    }
   ],
   "source": [
    "print(\"Hello\")\n",
    "print(\"Hello\"); print(\"World\")\n",
    "name = \"Bob\"\n",
    "if name == \"George\":\n",
    "    print(\"Hi George\")\n",
    "else:\n",
    "    print(\"Who are you?\")"
   ]
  },
  {
   "cell_type": "markdown",
   "metadata": {
    "nbpresent": {
     "id": "96434c92-189b-424b-87aa-66b8cd803560"
    },
    "slideshow": {
     "slide_type": "subslide"
    }
   },
   "source": [
    "- single-line comments with `#`\n",
    "- multi-line statements continued with backslash (`\\`)\n",
    "  - not required inside `{}`, `()`, or `[]` for data types"
   ]
  },
  {
   "cell_type": "code",
   "execution_count": 2,
   "metadata": {
    "nbpresent": {
     "id": "c877fdcc-02d6-490d-8ed3-89ffb2ec2510"
    }
   },
   "outputs": [],
   "source": [
    "# this is a comment\n",
    "a=1       # comments also can go after statements\n",
    "b=2; c=3  # here too\n",
    "\n",
    "# multiple line statement\n",
    "x = a + \\\n",
    "    b + c\n",
    "\n",
    "# backslash not needed when listing multi-line data\n",
    "y = [1, 2, \n",
    "     3, 4]"
   ]
  },
  {
   "cell_type": "markdown",
   "metadata": {
    "nbpresent": {
     "id": "2ca0e659-7160-4f94-a814-fb638f8d15c1"
    },
    "slideshow": {
     "slide_type": "slide"
    }
   },
   "source": [
    "# Identifiers and Variables\n",
    "- Identifiers\n",
    "  - same as in C\n",
    "- Naming convention:\n",
    "  - `ClassName` -- a class name\n",
    "  - `varName` -- other identifier\n",
    "  - `_privateVar` -- private identifier\n",
    "  - `__veryPrivate` -- strongly private identifier\n",
    "  - `__special__` -- language-defined special name"
   ]
  },
  {
   "cell_type": "markdown",
   "metadata": {
    "nbpresent": {
     "id": "fe0c9816-4173-4fcc-963f-8a54d7a6444b"
    },
    "slideshow": {
     "slide_type": "subslide"
    }
   },
   "source": [
    "- Variables\n",
    "  - no declaration needed\n",
    "  - no need for declaring data type (automatic type)\n",
    "  - need to assign to initialize\n",
    "    - use of uninitialized variable raises exception\n",
    "  - automatic garbage collection (reference counts)"
   ]
  },
  {
   "cell_type": "markdown",
   "metadata": {
    "nbpresent": {
     "id": "0803acdf-7416-47e1-9934-deca530c5f83"
    },
    "slideshow": {
     "slide_type": "slide"
    }
   },
   "source": [
    "# Basic Types\n",
    "- Integer number"
   ]
  },
  {
   "cell_type": "code",
   "execution_count": 3,
   "metadata": {
    "nbpresent": {
     "id": "f1e4d5e1-4d9c-4f6a-88fd-634ddc2705d9"
    }
   },
   "outputs": [
    {
     "data": {
      "text/plain": [
       "4"
      ]
     },
     "execution_count": 3,
     "metadata": {},
     "output_type": "execute_result"
    }
   ],
   "source": [
    "4\n",
    "int(4)"
   ]
  },
  {
   "cell_type": "markdown",
   "metadata": {
    "nbpresent": {
     "id": "8d9de2eb-62c0-4cae-9ff3-62228cb30ce4"
    }
   },
   "source": [
    "- Real number (float)"
   ]
  },
  {
   "cell_type": "code",
   "execution_count": 4,
   "metadata": {
    "nbpresent": {
     "id": "c878c0e8-2877-49a5-ae92-2018bab785b4"
    }
   },
   "outputs": [
    {
     "data": {
      "text/plain": [
       "4.0"
      ]
     },
     "execution_count": 4,
     "metadata": {},
     "output_type": "execute_result"
    }
   ],
   "source": [
    "4.0\n",
    "float(4)"
   ]
  },
  {
   "cell_type": "markdown",
   "metadata": {
    "nbpresent": {
     "id": "21bfb010-c1fb-431e-9e4e-61e776266cc7"
    },
    "slideshow": {
     "slide_type": "subslide"
    }
   },
   "source": [
    "- Boolean"
   ]
  },
  {
   "cell_type": "code",
   "execution_count": 5,
   "metadata": {
    "nbpresent": {
     "id": "b0db2453-6d64-45cb-9fb1-958f2198a1f8"
    }
   },
   "outputs": [
    {
     "data": {
      "text/plain": [
       "False"
      ]
     },
     "execution_count": 5,
     "metadata": {},
     "output_type": "execute_result"
    }
   ],
   "source": [
    "True\n",
    "False"
   ]
  },
  {
   "cell_type": "markdown",
   "metadata": {
    "nbpresent": {
     "id": "77f6a112-14b3-4d73-bbbc-86f12951d70f"
    },
    "slideshow": {
     "slide_type": "-"
    }
   },
   "source": [
    "- String literal"
   ]
  },
  {
   "cell_type": "code",
   "execution_count": 6,
   "metadata": {
    "nbpresent": {
     "id": "8388d2ae-4cd6-4604-affa-eaece86f105b"
    },
    "slideshow": {
     "slide_type": "-"
    }
   },
   "outputs": [
    {
     "data": {
      "text/plain": [
       "'raw string\\\\no escape chars'"
      ]
     },
     "execution_count": 6,
     "metadata": {},
     "output_type": "execute_result"
    }
   ],
   "source": [
    "\"a string\"\n",
    "'a string'\n",
    "\"concatenate \" \"two string literals\"\n",
    "\"\"\"this is a multi-line string.\n",
    "it keeps the newline.\"\"\"\n",
    "r'raw string\\no escape chars'"
   ]
  },
  {
   "cell_type": "markdown",
   "metadata": {
    "nbpresent": {
     "id": "f5b35869-7151-4c37-a794-bae65a7772d3"
    },
    "slideshow": {
     "slide_type": "slide"
    }
   },
   "source": [
    "# Lists\n",
    "- Lists can hold anything (even other lists)"
   ]
  },
  {
   "cell_type": "code",
   "execution_count": 7,
   "metadata": {
    "nbpresent": {
     "id": "e296d968-a1bc-4918-bd27-54bc95abb60c"
    }
   },
   "outputs": [
    {
     "name": "stdout",
     "output_type": "stream",
     "text": [
      "['abcd', 786, 2.23]\n"
     ]
    }
   ],
   "source": [
    "myList = ['abcd', 786, 2.23]\n",
    "print(myList)     # print the list"
   ]
  },
  {
   "cell_type": "code",
   "execution_count": 8,
   "metadata": {
    "nbpresent": {
     "id": "e0ec4b5d-2ef2-43b1-abce-c74c5b5b85cf"
    }
   },
   "outputs": [
    {
     "name": "stdout",
     "output_type": "stream",
     "text": [
      "abcd\n"
     ]
    }
   ],
   "source": [
    "print(myList[0])  # print the first element (0-indexed)"
   ]
  },
  {
   "cell_type": "markdown",
   "metadata": {
    "nbpresent": {
     "id": "3b37eaf2-0259-401b-9f70-e35b02584d02"
    },
    "slideshow": {
     "slide_type": "subslide"
    }
   },
   "source": [
    "- Creating lists of numbers"
   ]
  },
  {
   "cell_type": "code",
   "execution_count": 9,
   "metadata": {
    "nbpresent": {
     "id": "ced351c5-e975-4dc4-baf1-0f2797b10bda"
    }
   },
   "outputs": [
    {
     "name": "stdout",
     "output_type": "stream",
     "text": [
      "range(0, 5)\n",
      "[0, 1, 2, 3, 4]\n"
     ]
    }
   ],
   "source": [
    "a = range(5)   # list of numbers from 0 to 4\n",
    "print(a)\n",
    "print(list(a))"
   ]
  },
  {
   "cell_type": "code",
   "execution_count": 10,
   "metadata": {
    "nbpresent": {
     "id": "e6ab0834-8a60-45e1-a7eb-82883ef2dc21"
    }
   },
   "outputs": [
    {
     "name": "stdout",
     "output_type": "stream",
     "text": [
      "range(2, 12, 3)\n",
      "[2, 5, 8, 11]\n"
     ]
    }
   ],
   "source": [
    "b = range(2,12,3)  # numbers from 2 to 11, count by 3 \n",
    "print(b)\n",
    "print(list(b))"
   ]
  },
  {
   "cell_type": "markdown",
   "metadata": {
    "nbpresent": {
     "id": "e16edb24-8fc0-428a-b375-e8da2924f1e4"
    },
    "slideshow": {
     "slide_type": "subslide"
    }
   },
   "source": [
    "- append and pop "
   ]
  },
  {
   "cell_type": "code",
   "execution_count": 11,
   "metadata": {
    "nbpresent": {
     "id": "55935c8e-2f15-4988-a9af-fad692d86fed"
    }
   },
   "outputs": [
    {
     "name": "stdout",
     "output_type": "stream",
     "text": [
      "[0, 1, 2, 3, 4, 'blah']\n"
     ]
    }
   ],
   "source": [
    "a = list(range(0,5))\n",
    "a.append('blah')  # add item to end\n",
    "print(a)"
   ]
  },
  {
   "cell_type": "code",
   "execution_count": 12,
   "metadata": {
    "nbpresent": {
     "id": "2c0177ae-ddba-4d89-b811-28660cb67fb1"
    }
   },
   "outputs": [
    {
     "data": {
      "text/plain": [
       "'blah'"
      ]
     },
     "execution_count": 12,
     "metadata": {},
     "output_type": "execute_result"
    }
   ],
   "source": [
    "a.pop()  # remove last item and return it"
   ]
  },
  {
   "cell_type": "markdown",
   "metadata": {
    "nbpresent": {
     "id": "928c9baf-e028-4c40-bda6-52f0c81da497"
    },
    "slideshow": {
     "slide_type": "subslide"
    }
   },
   "source": [
    "- insert and delete"
   ]
  },
  {
   "cell_type": "code",
   "execution_count": 13,
   "metadata": {
    "nbpresent": {
     "id": "ae3bd829-e2f0-4fb6-a9cf-2cc75f405182"
    }
   },
   "outputs": [
    {
     "name": "stdout",
     "output_type": "stream",
     "text": [
      "[42, 0, 1, 2, 3, 4]\n"
     ]
    }
   ],
   "source": [
    "a.insert(0,42)  # insert 42 at index 0\n",
    "print(a)"
   ]
  },
  {
   "cell_type": "code",
   "execution_count": 14,
   "metadata": {
    "nbpresent": {
     "id": "b3e04302-4a5e-4534-a860-f11ba6f1bbdc"
    }
   },
   "outputs": [
    {
     "name": "stdout",
     "output_type": "stream",
     "text": [
      "[42, 0, 2, 3, 4]\n"
     ]
    }
   ],
   "source": [
    "del a[2]    # delete item 2\n",
    "print(a)"
   ]
  },
  {
   "cell_type": "markdown",
   "metadata": {
    "nbpresent": {
     "id": "4d11fa47-a4ca-43fb-ac9e-147afd2d031e"
    },
    "slideshow": {
     "slide_type": "subslide"
    }
   },
   "source": [
    "- more list operations"
   ]
  },
  {
   "cell_type": "code",
   "execution_count": 15,
   "metadata": {
    "nbpresent": {
     "id": "065b8795-67c0-4c0b-b3dd-e8ff6ad78f70"
    }
   },
   "outputs": [
    {
     "name": "stdout",
     "output_type": "stream",
     "text": [
      "[4, 3, 2, 0, 42]\n"
     ]
    }
   ],
   "source": [
    "a.reverse()   # reverse the entries\n",
    "print(a)"
   ]
  },
  {
   "cell_type": "code",
   "execution_count": 16,
   "metadata": {
    "nbpresent": {
     "id": "9e5fb161-71ae-4aa5-890d-fe2df3889554"
    }
   },
   "outputs": [
    {
     "name": "stdout",
     "output_type": "stream",
     "text": [
      "[0, 2, 3, 4, 42]\n"
     ]
    }
   ],
   "source": [
    "a.sort()     # sort the entries\n",
    "print(a)"
   ]
  },
  {
   "cell_type": "markdown",
   "metadata": {
    "nbpresent": {
     "id": "5fb3c8e7-8551-4e54-9536-990f7412de2b"
    },
    "slideshow": {
     "slide_type": "slide"
    }
   },
   "source": [
    "# Tuples\n",
    "- Similar to a list\n",
    "  - but immutable (read-only)\n",
    "  - cannot change the contents (like a string constant)"
   ]
  },
  {
   "cell_type": "code",
   "execution_count": 17,
   "metadata": {
    "nbpresent": {
     "id": "fac591d3-1a84-4749-8d5f-ff1b7a0b0c8e"
    }
   },
   "outputs": [
    {
     "name": "stdout",
     "output_type": "stream",
     "text": [
      "(1, 2, 'three')\n"
     ]
    }
   ],
   "source": [
    "# make some tuples\n",
    "x = (1,2,'three')\n",
    "print(x)"
   ]
  },
  {
   "cell_type": "code",
   "execution_count": 18,
   "metadata": {
    "nbpresent": {
     "id": "ce10d8c2-1b9f-4677-86ac-8991ff630066"
    }
   },
   "outputs": [
    {
     "name": "stdout",
     "output_type": "stream",
     "text": [
      "(4, 5, 6)\n"
     ]
    }
   ],
   "source": [
    "y = 4,5,6           # parentheses not needed!\n",
    "print(y)"
   ]
  },
  {
   "cell_type": "code",
   "execution_count": 19,
   "metadata": {
    "nbpresent": {
     "id": "6c9e7535-3603-46b7-9004-623df479bbd2"
    }
   },
   "outputs": [
    {
     "name": "stdout",
     "output_type": "stream",
     "text": [
      "(1,)\n"
     ]
    }
   ],
   "source": [
    "z = (1,)   # tuple with 1 element (the trailing comma is required)\n",
    "print(z)"
   ]
  },
  {
   "cell_type": "markdown",
   "metadata": {
    "nbpresent": {
     "id": "c2e311e1-256b-4ce9-9ea3-8f2551c27b88"
    },
    "slideshow": {
     "slide_type": "slide"
    }
   },
   "source": [
    "# Operators on sequences\n",
    "- _Same operators_ for strings, lists, and tuples\n",
    "- Slice a sublist with colon (`:`)\n",
    "  - **Note**: the 2nd argument is not inclusive!"
   ]
  },
  {
   "cell_type": "code",
   "execution_count": 20,
   "metadata": {
    "nbpresent": {
     "id": "7ea3ee9d-e1b6-4357-a913-8fdbfabe84c8"
    }
   },
   "outputs": [
    {
     "data": {
      "text/plain": [
       "'h'"
      ]
     },
     "execution_count": 20,
     "metadata": {},
     "output_type": "execute_result"
    }
   ],
   "source": [
    "\"hello\"[0]    # the first element"
   ]
  },
  {
   "cell_type": "code",
   "execution_count": 21,
   "metadata": {
    "nbpresent": {
     "id": "f53262d7-756f-495a-a690-872d0bc37276"
    }
   },
   "outputs": [
    {
     "data": {
      "text/plain": [
       "'o'"
      ]
     },
     "execution_count": 21,
     "metadata": {},
     "output_type": "execute_result"
    }
   ],
   "source": [
    "\"hello\"[-1]   # the last element (index from end)"
   ]
  },
  {
   "cell_type": "code",
   "execution_count": 22,
   "metadata": {
    "nbpresent": {
     "id": "84fe9242-fafc-4c1a-9653-4b9cd2c63a3b"
    },
    "slideshow": {
     "slide_type": "subslide"
    }
   },
   "outputs": [
    {
     "data": {
      "text/plain": [
       "'ell'"
      ]
     },
     "execution_count": 22,
     "metadata": {},
     "output_type": "execute_result"
    }
   ],
   "source": [
    "\"hello\"[1:4]  # the 2nd through 4th elements"
   ]
  },
  {
   "cell_type": "code",
   "execution_count": 23,
   "metadata": {
    "nbpresent": {
     "id": "0e916fd8-6d6d-467d-aeb1-de921150c693"
    }
   },
   "outputs": [
    {
     "data": {
      "text/plain": [
       "'llo'"
      ]
     },
     "execution_count": 23,
     "metadata": {},
     "output_type": "execute_result"
    }
   ],
   "source": [
    "\"hello\"[2:]   # the 3rd through last elements"
   ]
  },
  {
   "cell_type": "code",
   "execution_count": 24,
   "metadata": {
    "nbpresent": {
     "id": "b62add9e-91a0-45a7-94d6-d3e0c77abcf2"
    }
   },
   "outputs": [
    {
     "data": {
      "text/plain": [
       "'hlo'"
      ]
     },
     "execution_count": 24,
     "metadata": {},
     "output_type": "execute_result"
    }
   ],
   "source": [
    "\"hello\"[0:5:2] # indices 0,2,4 (by 2)"
   ]
  },
  {
   "cell_type": "markdown",
   "metadata": {
    "nbpresent": {
     "id": "606e1104-656a-472a-9438-1a018bf68315"
    },
    "slideshow": {
     "slide_type": "subslide"
    }
   },
   "source": [
    "- Other operators on string, list, tuple"
   ]
  },
  {
   "cell_type": "code",
   "execution_count": 25,
   "metadata": {
    "nbpresent": {
     "id": "1aef0205-be93-4fd1-a828-c3b0aa469ba7"
    }
   },
   "outputs": [
    {
     "data": {
      "text/plain": [
       "5"
      ]
     },
     "execution_count": 25,
     "metadata": {},
     "output_type": "execute_result"
    }
   ],
   "source": [
    "len(\"hello\")   # length"
   ]
  },
  {
   "cell_type": "code",
   "execution_count": 26,
   "metadata": {
    "nbpresent": {
     "id": "91dd829a-5ea2-4dcc-a2d2-b9b83e516c19"
    }
   },
   "outputs": [
    {
     "data": {
      "text/plain": [
       "'hello'"
      ]
     },
     "execution_count": 26,
     "metadata": {},
     "output_type": "execute_result"
    }
   ],
   "source": [
    "\"he\" + \"llo\"   # concatenation"
   ]
  },
  {
   "cell_type": "code",
   "execution_count": 27,
   "metadata": {
    "nbpresent": {
     "id": "c0f4d22c-02c2-4e7e-ac35-b48accc3499a"
    }
   },
   "outputs": [
    {
     "data": {
      "text/plain": [
       "'hellohellohello'"
      ]
     },
     "execution_count": 27,
     "metadata": {},
     "output_type": "execute_result"
    }
   ],
   "source": [
    "\"hello\"*3      # repetition"
   ]
  },
  {
   "cell_type": "markdown",
   "metadata": {
    "nbpresent": {
     "id": "a2c3e874-64ba-4261-a74e-568e3a973789"
    },
    "slideshow": {
     "slide_type": "slide"
    }
   },
   "source": [
    "# String methods\n",
    "- Useful methods"
   ]
  },
  {
   "cell_type": "code",
   "execution_count": 28,
   "metadata": {
    "nbpresent": {
     "id": "e99ac701-3677-49c4-ab8f-8b237bf269ef"
    }
   },
   "outputs": [
    {
     "data": {
      "text/plain": [
       "'abc'"
      ]
     },
     "execution_count": 28,
     "metadata": {},
     "output_type": "execute_result"
    }
   ],
   "source": [
    "\"112211\".count(\"11\")         # 2\n",
    "\"this.com\".endswith(\".com\")  # True\n",
    "\"wxyz\".startswith(\"wx\")      # True\n",
    "\"abc\".find(\"c\")              # finds first: 2\n",
    "\",\".join(['a', 'b', 'c'])    # join list: 'a,b,c'\n",
    "\"aba\".replace(\"a\", \"d\")      # replace all: \"dbd\"\n",
    "\"a,b,c\".split(',')           # make list: ['a', 'b', 'c']\n",
    "\"  abc    \".strip()          # \"abc\",  also rstrip(), lstrip()"
   ]
  },
  {
   "cell_type": "markdown",
   "metadata": {
    "nbpresent": {
     "id": "00953d64-06c3-4911-93d6-498dbdd13c3b"
    },
    "slideshow": {
     "slide_type": "subslide"
    }
   },
   "source": [
    "- String formatting: automatically fill in type"
   ]
  },
  {
   "cell_type": "code",
   "execution_count": 29,
   "metadata": {
    "nbpresent": {
     "id": "0d0372bd-eca2-48f1-9228-214c535835ef"
    }
   },
   "outputs": [
    {
     "data": {
      "text/plain": [
       "'string and 123 and 1.6789'"
      ]
     },
     "execution_count": 29,
     "metadata": {},
     "output_type": "execute_result"
    }
   ],
   "source": [
    "\"{} and {} and {}\".format('string', 123, 1.6789)"
   ]
  },
  {
   "cell_type": "markdown",
   "metadata": {
    "slideshow": {
     "slide_type": "-"
    }
   },
   "source": [
    "- String formatting: specify type (similar to C)"
   ]
  },
  {
   "cell_type": "code",
   "execution_count": 30,
   "metadata": {
    "slideshow": {
     "slide_type": "-"
    }
   },
   "outputs": [
    {
     "data": {
      "text/plain": [
       "'0 and 3.000000 and 1.23'"
      ]
     },
     "execution_count": 30,
     "metadata": {},
     "output_type": "execute_result"
    }
   ],
   "source": [
    "\"{:d} and {:f} and {:0.2f}\".format(False, 3, 1.234)"
   ]
  },
  {
   "cell_type": "markdown",
   "metadata": {
    "nbpresent": {
     "id": "e29517bb-755a-4fe3-9329-22993ecc2703"
    },
    "slideshow": {
     "slide_type": "slide"
    }
   },
   "source": [
    "# Dictionaries\n",
    "- Stores key-value pairs (associative array or hash table)\n",
    "  - key can be a string, number, or tuple"
   ]
  },
  {
   "cell_type": "code",
   "execution_count": 31,
   "metadata": {
    "nbpresent": {
     "id": "eb7d9d58-1488-4d38-b56d-b63ca1e96cd0"
    }
   },
   "outputs": [
    {
     "name": "stdout",
     "output_type": "stream",
     "text": [
      "{'name': 'john', 42: 'sales', ('hello', 'world'): 6734}\n"
     ]
    }
   ],
   "source": [
    "mydict = {'name': 'john', 42: 'sales', ('hello', 'world'): 6734}\n",
    "print(mydict)"
   ]
  },
  {
   "cell_type": "markdown",
   "metadata": {
    "nbpresent": {
     "id": "35bacbea-7299-4811-a5e4-7c903ec051e1"
    },
    "slideshow": {
     "slide_type": "subslide"
    }
   },
   "source": [
    "- Access"
   ]
  },
  {
   "cell_type": "code",
   "execution_count": 32,
   "metadata": {
    "nbpresent": {
     "id": "8283f155-53bc-4a56-ab2b-4087281ab4d1"
    }
   },
   "outputs": [
    {
     "name": "stdout",
     "output_type": "stream",
     "text": [
      "john\n"
     ]
    }
   ],
   "source": [
    "print(mydict['name'])         # get value for key 'name'"
   ]
  },
  {
   "cell_type": "code",
   "execution_count": 33,
   "metadata": {
    "nbpresent": {
     "id": "da122c7b-14b7-4465-979f-0baefe74cb39"
    }
   },
   "outputs": [
    {
     "name": "stdout",
     "output_type": "stream",
     "text": [
      "{'name': 'jon', 42: 'sales', ('hello', 'world'): 6734, 2: 5}\n"
     ]
    }
   ],
   "source": [
    "mydict['name'] = 'jon' # change value for key 'name'\n",
    "mydict[2] = 5          # insert a new key-value pair\n",
    "print(mydict)"
   ]
  },
  {
   "cell_type": "code",
   "execution_count": 34,
   "metadata": {
    "nbpresent": {
     "id": "abf0d9b1-9294-45f6-aa2c-3fe948755c00"
    }
   },
   "outputs": [
    {
     "name": "stdout",
     "output_type": "stream",
     "text": [
      "{'name': 'jon', 42: 'sales', ('hello', 'world'): 6734}\n"
     ]
    }
   ],
   "source": [
    "del mydict[2]          # delete entry for key 2\n",
    "print(mydict)"
   ]
  },
  {
   "cell_type": "markdown",
   "metadata": {
    "nbpresent": {
     "id": "81311521-a719-4e71-af61-08464e51383d"
    },
    "slideshow": {
     "slide_type": "subslide"
    }
   },
   "source": [
    "- Other operations:"
   ]
  },
  {
   "cell_type": "code",
   "execution_count": 35,
   "metadata": {
    "nbpresent": {
     "id": "eec89f16-852a-44d0-9e96-5d1ca8bad0a9"
    }
   },
   "outputs": [
    {
     "data": {
      "text/plain": [
       "dict_keys(['name', 42, ('hello', 'world')])"
      ]
     },
     "execution_count": 35,
     "metadata": {},
     "output_type": "execute_result"
    }
   ],
   "source": [
    "mydict.keys()           # iterator of all keys (no random access)"
   ]
  },
  {
   "cell_type": "code",
   "execution_count": 36,
   "metadata": {},
   "outputs": [
    {
     "data": {
      "text/plain": [
       "['name', 42, ('hello', 'world')]"
      ]
     },
     "execution_count": 36,
     "metadata": {},
     "output_type": "execute_result"
    }
   ],
   "source": [
    "list(mydict.keys())     # convert to a list for random access"
   ]
  },
  {
   "cell_type": "code",
   "execution_count": 37,
   "metadata": {
    "nbpresent": {
     "id": "1d1c960b-d13a-432b-9a06-b62da02e953d"
    }
   },
   "outputs": [
    {
     "data": {
      "text/plain": [
       "dict_values(['jon', 'sales', 6734])"
      ]
     },
     "execution_count": 37,
     "metadata": {},
     "output_type": "execute_result"
    }
   ],
   "source": [
    "mydict.values()         # iterator of all values"
   ]
  },
  {
   "cell_type": "code",
   "execution_count": 38,
   "metadata": {
    "nbpresent": {
     "id": "42df7608-e475-456e-adad-d464bf8282f4"
    }
   },
   "outputs": [
    {
     "data": {
      "text/plain": [
       "dict_items([('name', 'jon'), (42, 'sales'), (('hello', 'world'), 6734)])"
      ]
     },
     "execution_count": 38,
     "metadata": {},
     "output_type": "execute_result"
    }
   ],
   "source": [
    "mydict.items()          # iterator of tuples (key, value)"
   ]
  },
  {
   "cell_type": "code",
   "execution_count": 39,
   "metadata": {
    "nbpresent": {
     "id": "795054d6-e2a9-424d-b173-335e5eee3759"
    }
   },
   "outputs": [
    {
     "data": {
      "text/plain": [
       "True"
      ]
     },
     "execution_count": 39,
     "metadata": {},
     "output_type": "execute_result"
    }
   ],
   "source": [
    "'name' in mydict  # check the presence of a key  "
   ]
  },
  {
   "cell_type": "markdown",
   "metadata": {
    "nbpresent": {
     "id": "c6ec3bfd-d375-4a24-84c0-59463e5f99ad"
    },
    "slideshow": {
     "slide_type": "slide"
    }
   },
   "source": [
    "# Operators\n",
    "- Arithmetic: `+`, `-`, `*`, `/`, `%`, `**` (exponent), `//` (floor division)"
   ]
  },
  {
   "cell_type": "code",
   "execution_count": 40,
   "metadata": {
    "nbpresent": {
     "id": "d012aad1-1331-492d-ad0f-6e66c84d22c1"
    }
   },
   "outputs": [
    {
     "name": "stdout",
     "output_type": "stream",
     "text": [
      "1.5\n"
     ]
    }
   ],
   "source": [
    "print(6/4)     # float division"
   ]
  },
  {
   "cell_type": "code",
   "execution_count": 41,
   "metadata": {
    "nbpresent": {
     "id": "ef3be3a1-6a59-4982-8c67-5fa0302ce1c8"
    }
   },
   "outputs": [
    {
     "name": "stdout",
     "output_type": "stream",
     "text": [
      "1\n"
     ]
    }
   ],
   "source": [
    "print(6//4)   # integer division"
   ]
  },
  {
   "cell_type": "code",
   "execution_count": 42,
   "metadata": {
    "nbpresent": {
     "id": "bba2c329-7a88-4847-be0a-d77bde30eabe"
    }
   },
   "outputs": [
    {
     "name": "stdout",
     "output_type": "stream",
     "text": [
      "1.0\n"
     ]
    }
   ],
   "source": [
    "print(6//4.0)  # floor division"
   ]
  },
  {
   "cell_type": "markdown",
   "metadata": {
    "nbpresent": {
     "id": "fbdd4220-a3d6-435e-86a9-b7221d44b2c8"
    },
    "slideshow": {
     "slide_type": "subslide"
    }
   },
   "source": [
    "- Assignment: `=`, `+=`, `-=`, `/=`, `%=`, `**=`, `//=`\n",
    "- Equality: `==`, `!=`\n",
    "- Compare: `>`, `>=`, `<`, `<=`\n",
    "- Logical: `and`, `or`, `not`"
   ]
  },
  {
   "cell_type": "markdown",
   "metadata": {
    "nbpresent": {
     "id": "df9bc4cb-37a7-4287-9c52-e403769775f2"
    },
    "slideshow": {
     "slide_type": "subslide"
    }
   },
   "source": [
    "- Membership: `in`, `not in`"
   ]
  },
  {
   "cell_type": "code",
   "execution_count": 43,
   "metadata": {
    "nbpresent": {
     "id": "5afa3da2-0b4d-42cd-ba91-42780da781d2"
    }
   },
   "outputs": [
    {
     "data": {
      "text/plain": [
       "True"
      ]
     },
     "execution_count": 43,
     "metadata": {},
     "output_type": "execute_result"
    }
   ],
   "source": [
    "2 in [2, 3, 4]"
   ]
  },
  {
   "cell_type": "markdown",
   "metadata": {
    "nbpresent": {
     "id": "b49472d7-0b7e-47b6-b821-ce15a19504c3"
    },
    "slideshow": {
     "slide_type": "-"
    }
   },
   "source": [
    "- Identity: `is`, `is not`\n",
    "  - checks reference to the same object"
   ]
  },
  {
   "cell_type": "code",
   "execution_count": 44,
   "metadata": {
    "nbpresent": {
     "id": "6732a479-0a3c-493f-9d39-4df06dc9e064"
    }
   },
   "outputs": [
    {
     "data": {
      "text/plain": [
       "True"
      ]
     },
     "execution_count": 44,
     "metadata": {},
     "output_type": "execute_result"
    }
   ],
   "source": [
    "x = [1,2,3]\n",
    "y = x\n",
    "x is y    # same variable?"
   ]
  },
  {
   "cell_type": "code",
   "execution_count": 45,
   "metadata": {
    "nbpresent": {
     "id": "e3800180-4797-4e3d-87c2-9b0eb4aa6c3a"
    }
   },
   "outputs": [],
   "source": [
    "z = x[:]  # create a copy"
   ]
  },
  {
   "cell_type": "code",
   "execution_count": 46,
   "metadata": {
    "nbpresent": {
     "id": "11798825-1681-48bb-9211-955cb3d6f4ee"
    }
   },
   "outputs": [
    {
     "data": {
      "text/plain": [
       "False"
      ]
     },
     "execution_count": 46,
     "metadata": {},
     "output_type": "execute_result"
    }
   ],
   "source": [
    "z is x    # same variable?"
   ]
  },
  {
   "cell_type": "markdown",
   "metadata": {
    "nbpresent": {
     "id": "59aab903-507c-454e-8b1b-093ac8438c67"
    },
    "slideshow": {
     "slide_type": "subslide"
    }
   },
   "source": [
    "- Tuple packing and unpacking"
   ]
  },
  {
   "cell_type": "code",
   "execution_count": 47,
   "metadata": {
    "nbpresent": {
     "id": "e280d514-7299-41b9-b77d-0f3f021487c5"
    }
   },
   "outputs": [
    {
     "name": "stdout",
     "output_type": "stream",
     "text": [
      "1\n",
      "2\n",
      "3\n"
     ]
    }
   ],
   "source": [
    "point = (1,2,3)\n",
    "(x,y,z) = point\n",
    "print(x)\n",
    "print(y)\n",
    "print(z)"
   ]
  },
  {
   "cell_type": "markdown",
   "metadata": {
    "nbpresent": {
     "id": "c3a03a54-da14-4734-a0c8-b801073c279e"
    },
    "slideshow": {
     "slide_type": "slide"
    }
   },
   "source": [
    "# Sets\n",
    "- a set is a collection of unique items"
   ]
  },
  {
   "cell_type": "code",
   "execution_count": 48,
   "metadata": {
    "nbpresent": {
     "id": "76e968bd-af1a-46ac-abe1-c9acd878b5d9"
    }
   },
   "outputs": [
    {
     "data": {
      "text/plain": [
       "{1, 2, 4, 5}"
      ]
     },
     "execution_count": 48,
     "metadata": {},
     "output_type": "execute_result"
    }
   ],
   "source": [
    "a=[1, 2, 2, 2, 4, 5, 5]\n",
    "sA = set(a)\n",
    "sA"
   ]
  },
  {
   "cell_type": "markdown",
   "metadata": {
    "nbpresent": {
     "id": "041ad8ea-d699-441f-b764-2e985171905e"
    },
    "slideshow": {
     "slide_type": "subslide"
    }
   },
   "source": [
    "- set operations"
   ]
  },
  {
   "cell_type": "code",
   "execution_count": 49,
   "metadata": {
    "nbpresent": {
     "id": "f95c7406-5072-4dc9-ae3e-044b7b6c3816"
    }
   },
   "outputs": [
    {
     "name": "stdout",
     "output_type": "stream",
     "text": [
      "{1, 2}\n"
     ]
    }
   ],
   "source": [
    "sB = {4, 5, 6, 7}\n",
    "print(sA - sB)    # set difference"
   ]
  },
  {
   "cell_type": "code",
   "execution_count": 50,
   "metadata": {
    "nbpresent": {
     "id": "accb8dd0-e7f5-459d-93fd-dc59e0a28b66"
    }
   },
   "outputs": [
    {
     "name": "stdout",
     "output_type": "stream",
     "text": [
      "{1, 2, 4, 5, 6, 7}\n"
     ]
    }
   ],
   "source": [
    "print (sA | sB)    # set union"
   ]
  },
  {
   "cell_type": "code",
   "execution_count": 51,
   "metadata": {
    "nbpresent": {
     "id": "339cf0f4-028a-44bb-92f6-a3c879b0b440"
    }
   },
   "outputs": [
    {
     "name": "stdout",
     "output_type": "stream",
     "text": [
      "{4, 5}\n"
     ]
    }
   ],
   "source": [
    "print (sA & sB)    # set intersect"
   ]
  },
  {
   "cell_type": "markdown",
   "metadata": {
    "nbpresent": {
     "id": "4866fc0d-58c3-425a-a14d-47685de3d814"
    },
    "slideshow": {
     "slide_type": "slide"
    }
   },
   "source": [
    "# Outline\n",
    "1. Python Intro\n",
    "2. Python Basics (identifiers, types, operators)\n",
    "3. **Control structures (conditional and loops)**\n",
    "4. Functions, Classes\n",
    "5. File IO, Pickle, pandas\n",
    "6. NumPy\n",
    "7. matplotlib\n",
    "8. probability review"
   ]
  },
  {
   "cell_type": "markdown",
   "metadata": {
    "nbpresent": {
     "id": "60205f62-58b5-4cdd-b0d8-fc03bee76c5c"
    },
    "slideshow": {
     "slide_type": "slide"
    }
   },
   "source": [
    "# Conditional Statements\n",
    "- indentation used for code blocks after colon (:)\n",
    "- if-elif-else statement"
   ]
  },
  {
   "cell_type": "code",
   "execution_count": 52,
   "metadata": {
    "nbpresent": {
     "id": "ff2ac899-c2e0-4136-9966-db105d250c6e"
    }
   },
   "outputs": [
    {
     "name": "stdout",
     "output_type": "stream",
     "text": [
      "baz\n"
     ]
    }
   ],
   "source": [
    "if x==2:\n",
    "    print(\"foo\")\n",
    "elif x==3:\n",
    "    print(\"bar\")\n",
    "else:\n",
    "    print(\"baz\")"
   ]
  },
  {
   "cell_type": "markdown",
   "metadata": {
    "nbpresent": {
     "id": "8a8cff6d-4838-461e-848f-01faba087468"
    },
    "slideshow": {
     "slide_type": "subslide"
    }
   },
   "source": [
    "- nested if"
   ]
  },
  {
   "cell_type": "code",
   "execution_count": 53,
   "metadata": {
    "nbpresent": {
     "id": "1fbe4e6b-a364-43dc-8cf6-73cb751b53e9"
    }
   },
   "outputs": [
    {
     "name": "stdout",
     "output_type": "stream",
     "text": [
      "baz\n"
     ]
    }
   ],
   "source": [
    "if x>1:\n",
    "    if x==2:\n",
    "        print(\"foo\")\n",
    "    else:\n",
    "        print(\"bar\")\n",
    "else:\n",
    "    print(\"baz\")"
   ]
  },
  {
   "cell_type": "markdown",
   "metadata": {
    "nbpresent": {
     "id": "fbed81e7-b6a0-47ff-a51f-1a6ff05aedfa"
    }
   },
   "source": [
    "- single-line"
   ]
  },
  {
   "cell_type": "code",
   "execution_count": 54,
   "metadata": {
    "nbpresent": {
     "id": "cde5f1b8-e900-49b5-a9b7-d04452f46a86"
    }
   },
   "outputs": [
    {
     "name": "stdout",
     "output_type": "stream",
     "text": [
      "blah\n"
     ]
    }
   ],
   "source": [
    "if x==1: print(\"blah\")"
   ]
  },
  {
   "cell_type": "markdown",
   "metadata": {
    "slideshow": {
     "slide_type": "subslide"
    }
   },
   "source": [
    "- check existence using \"if in\""
   ]
  },
  {
   "cell_type": "code",
   "execution_count": 55,
   "metadata": {},
   "outputs": [
    {
     "name": "stdout",
     "output_type": "stream",
     "text": [
      "mydict has name field\n"
     ]
    }
   ],
   "source": [
    "mydict = {'name': 'john', 42: 'sales'}\n",
    "if 'name' in mydict:\n",
    "    print(\"mydict has name field\")"
   ]
  },
  {
   "cell_type": "code",
   "execution_count": 56,
   "metadata": {},
   "outputs": [
    {
     "name": "stdout",
     "output_type": "stream",
     "text": [
      "str is inside\n"
     ]
    }
   ],
   "source": [
    "if 'str' in 'this is a long string':\n",
    "    print('str is inside')"
   ]
  },
  {
   "cell_type": "markdown",
   "metadata": {
    "nbpresent": {
     "id": "802fd791-7865-4e41-93b7-eb89d99a44e7"
    },
    "slideshow": {
     "slide_type": "slide"
    }
   },
   "source": [
    "# Loops\n",
    "- \"for-in\" loop over values in a list"
   ]
  },
  {
   "cell_type": "code",
   "execution_count": 57,
   "metadata": {
    "nbpresent": {
     "id": "05678006-0507-4e22-ada5-2c57cab03306"
    }
   },
   "outputs": [
    {
     "name": "stdout",
     "output_type": "stream",
     "text": [
      "1\n",
      "3\n",
      "5\n"
     ]
    }
   ],
   "source": [
    "ns = range(1,6,2)    # list of numbers from 1 to 6, by 2\n",
    "for n in ns:\n",
    "    print(n)"
   ]
  },
  {
   "cell_type": "markdown",
   "metadata": {
    "nbpresent": {
     "id": "6ce2902b-c882-4dea-8287-04d8dddd3d34"
    }
   },
   "source": [
    "- loop over index-value pairs"
   ]
  },
  {
   "cell_type": "code",
   "execution_count": 58,
   "metadata": {
    "nbpresent": {
     "id": "d69c9914-f150-4a42-8cd0-4fc1cc211775"
    }
   },
   "outputs": [
    {
     "name": "stdout",
     "output_type": "stream",
     "text": [
      "0 a\n",
      "1 b\n",
      "2 c\n"
     ]
    }
   ],
   "source": [
    "x = ['a', 'b', 'c']\n",
    "for i,n in enumerate(x):\n",
    "    print(i, n)"
   ]
  },
  {
   "cell_type": "markdown",
   "metadata": {
    "slideshow": {
     "slide_type": "subslide"
    }
   },
   "source": [
    "- looping over two lists at the same time"
   ]
  },
  {
   "cell_type": "code",
   "execution_count": 59,
   "metadata": {},
   "outputs": [
    {
     "name": "stdout",
     "output_type": "stream",
     "text": [
      "a A\n",
      "b B\n",
      "c C\n"
     ]
    }
   ],
   "source": [
    "x = ['a', 'b', 'c']\n",
    "y = ['A', 'B', 'C']\n",
    "for i,j in zip(x,y):\n",
    "    print(i,j)"
   ]
  },
  {
   "cell_type": "markdown",
   "metadata": {},
   "source": [
    "- `zip` creates pairs of items between the two lists\n",
    "  - (actually creates an iterator over them)"
   ]
  },
  {
   "cell_type": "code",
   "execution_count": 60,
   "metadata": {},
   "outputs": [
    {
     "data": {
      "text/plain": [
       "[('a', 'A'), ('b', 'B'), ('c', 'C')]"
      ]
     },
     "execution_count": 60,
     "metadata": {},
     "output_type": "execute_result"
    }
   ],
   "source": [
    "list(zip(x,y))    # convert to a list (for random access)"
   ]
  },
  {
   "cell_type": "markdown",
   "metadata": {
    "nbpresent": {
     "id": "8dd93e19-e37f-4fa5-8165-c5c004366dc1"
    },
    "slideshow": {
     "slide_type": "subslide"
    }
   },
   "source": [
    "- looping over dictionary"
   ]
  },
  {
   "cell_type": "code",
   "execution_count": 61,
   "metadata": {
    "nbpresent": {
     "id": "3b1d1626-b19e-4f66-8718-873ab8b62ea2"
    },
    "slideshow": {
     "slide_type": "-"
    }
   },
   "outputs": [
    {
     "name": "stdout",
     "output_type": "stream",
     "text": [
      "a 1\n",
      "b 2\n",
      "c 3\n"
     ]
    }
   ],
   "source": [
    "x = {'a':1, 'b':2, 'c':3}\n",
    "for (key,val) in x.items():\n",
    "    print(key, val)"
   ]
  },
  {
   "cell_type": "markdown",
   "metadata": {
    "nbpresent": {
     "id": "e4e9ce49-4bf7-4639-8a6c-58b310d79ee3"
    },
    "slideshow": {
     "slide_type": "subslide"
    }
   },
   "source": [
    "- while loop"
   ]
  },
  {
   "cell_type": "code",
   "execution_count": 62,
   "metadata": {
    "nbpresent": {
     "id": "d4f7fdcb-6bf5-4111-8691-6f31f91397ce"
    }
   },
   "outputs": [
    {
     "name": "stdout",
     "output_type": "stream",
     "text": [
      "5\n"
     ]
    }
   ],
   "source": [
    "x=0\n",
    "while x<5:\n",
    "    x += 1\n",
    "print(x)"
   ]
  },
  {
   "cell_type": "code",
   "execution_count": 63,
   "metadata": {
    "nbpresent": {
     "id": "9c88e0f8-a3ea-4978-88de-310f288823bb"
    }
   },
   "outputs": [
    {
     "name": "stdout",
     "output_type": "stream",
     "text": [
      "10\n"
     ]
    }
   ],
   "source": [
    "# single line\n",
    "while x<10: x += 1\n",
    "print(x)"
   ]
  },
  {
   "cell_type": "markdown",
   "metadata": {
    "nbpresent": {
     "id": "a8cdd230-b34c-4e92-bf62-c33c512f1d5a"
    },
    "slideshow": {
     "slide_type": "subslide"
    }
   },
   "source": [
    "- loop control (same as C)\n",
    "  - `break`, `continue`  \n",
    "- else clause\n",
    "  - runs after list is exhausted\n",
    "  - does _not_ run if loop break"
   ]
  },
  {
   "cell_type": "code",
   "execution_count": 64,
   "metadata": {
    "nbpresent": {
     "id": "64b3d61f-b518-45e6-a568-576700f86b83"
    }
   },
   "outputs": [
    {
     "name": "stdout",
     "output_type": "stream",
     "text": [
      "0\n",
      "1\n",
      "6\n",
      "end of list reached!\n"
     ]
    }
   ],
   "source": [
    "for i in [0, 1, 6]:\n",
    "    print(i)\n",
    "else:\n",
    "    print(\"end of list reached!\")"
   ]
  },
  {
   "cell_type": "markdown",
   "metadata": {
    "nbpresent": {
     "id": "2d69f784-daa1-405d-8b5c-346b312c96a6"
    },
    "slideshow": {
     "slide_type": "slide"
    }
   },
   "source": [
    "# List Comprehension\n",
    "- build a new list with a \"for\" loop"
   ]
  },
  {
   "cell_type": "code",
   "execution_count": 65,
   "metadata": {
    "nbpresent": {
     "id": "c085d931-fe08-4050-baf7-2b7f9db345df"
    }
   },
   "outputs": [
    {
     "data": {
      "text/plain": [
       "[4, 8, 8, 8, 16, 20, 20]"
      ]
     },
     "execution_count": 65,
     "metadata": {},
     "output_type": "execute_result"
    }
   ],
   "source": [
    "myList = [1, 2, 2, 2, 4, 5, 5]\n",
    "myList4 = [4*item for item in myList]   # multiply each item by 4\n",
    "myList4"
   ]
  },
  {
   "cell_type": "code",
   "execution_count": 66,
   "metadata": {
    "nbpresent": {
     "id": "ba9197f3-4db7-4cad-b510-4d4e5645ff2c"
    }
   },
   "outputs": [
    {
     "data": {
      "text/plain": [
       "[4, 8, 8, 8, 16, 20, 20]"
      ]
     },
     "execution_count": 66,
     "metadata": {},
     "output_type": "execute_result"
    }
   ],
   "source": [
    "# equivalent code\n",
    "myList4=[]\n",
    "for item in myList:\n",
    "    myList4.append(4*item)\n",
    "myList4"
   ]
  },
  {
   "cell_type": "code",
   "execution_count": 67,
   "metadata": {
    "nbpresent": {
     "id": "701eebde-f3a6-4a33-93eb-e85fb41d5e27"
    }
   },
   "outputs": [
    {
     "data": {
      "text/plain": [
       "[64, 80, 80]"
      ]
     },
     "execution_count": 67,
     "metadata": {},
     "output_type": "execute_result"
    }
   ],
   "source": [
    "# can also use conditional to select items\n",
    "[4*item*4 for item in myList if item>2]"
   ]
  },
  {
   "cell_type": "markdown",
   "metadata": {
    "nbpresent": {
     "id": "2a8d351c-7714-44e6-ad1d-6ac617656511"
    },
    "slideshow": {
     "slide_type": "slide"
    }
   },
   "source": [
    "# Outline\n",
    "1. Python Intro\n",
    "2. Python Basics (identifiers, types, operators)\n",
    "3. Control structures (conditional and loops)\n",
    "4. **Functions, Classes**\n",
    "5. File IO, Pickle, pandas\n",
    "6. NumPy\n",
    "7. matplotlib\n",
    "8. probability review"
   ]
  },
  {
   "cell_type": "markdown",
   "metadata": {
    "nbpresent": {
     "id": "90c043d8-86a2-43bc-a0f3-ca4488b32b7b"
    },
    "slideshow": {
     "slide_type": "slide"
    }
   },
   "source": [
    "# Functions\n",
    "- Defining a function\n",
    "  - _required_ and _optional_ inputs (similar to C++)\n",
    "  - \"docstring\" for optional documentation"
   ]
  },
  {
   "cell_type": "code",
   "execution_count": 68,
   "metadata": {
    "nbpresent": {
     "id": "08ed0fc3-df45-4b92-ae12-192fd0003038"
    }
   },
   "outputs": [],
   "source": [
    "def sum3(a, b=1, c=2):\n",
    "    \"sum a few values\"\n",
    "    mysum = a+b+c\n",
    "    return mysum"
   ]
  },
  {
   "cell_type": "markdown",
   "metadata": {
    "nbpresent": {
     "id": "a990e3de-031a-4b7e-9a39-fd1b8e5feff4"
    },
    "slideshow": {
     "slide_type": "subslide"
    }
   },
   "source": [
    "- Calling a function"
   ]
  },
  {
   "cell_type": "code",
   "execution_count": 69,
   "metadata": {
    "nbpresent": {
     "id": "dd80d0d4-cc4c-4715-bd59-1ae0c2a90e10"
    }
   },
   "outputs": [
    {
     "data": {
      "text/plain": [
       "9"
      ]
     },
     "execution_count": 69,
     "metadata": {},
     "output_type": "execute_result"
    }
   ],
   "source": [
    "sum3(2,3,4)   # call function: 2+3+4"
   ]
  },
  {
   "cell_type": "code",
   "execution_count": 70,
   "metadata": {
    "nbpresent": {
     "id": "346dff29-a9c0-4621-91d6-5b6e2207cbac"
    }
   },
   "outputs": [
    {
     "data": {
      "text/plain": [
       "3"
      ]
     },
     "execution_count": 70,
     "metadata": {},
     "output_type": "execute_result"
    }
   ],
   "source": [
    "sum3(0)    # use default inputs: 0+1+2"
   ]
  },
  {
   "cell_type": "code",
   "execution_count": 71,
   "metadata": {
    "nbpresent": {
     "id": "02d5c175-32e2-4f03-a094-4246ce20d58c"
    },
    "slideshow": {
     "slide_type": "-"
    }
   },
   "outputs": [
    {
     "data": {
      "text/plain": [
       "8"
      ]
     },
     "execution_count": 71,
     "metadata": {},
     "output_type": "execute_result"
    }
   ],
   "source": [
    "sum3(b=1, a=5, c=2)  # use keyword arguments: 5+1+2"
   ]
  },
  {
   "cell_type": "code",
   "execution_count": 72,
   "metadata": {
    "nbpresent": {
     "id": "9c7b703f-881b-49f4-8962-8c6198e20f97"
    },
    "slideshow": {
     "slide_type": "subslide"
    }
   },
   "outputs": [
    {
     "name": "stdout",
     "output_type": "stream",
     "text": [
      "Help on function sum3 in module __main__:\n",
      "\n",
      "sum3(a, b=1, c=2)\n",
      "    sum a few values\n",
      "\n"
     ]
    }
   ],
   "source": [
    "help(sum3)   # show documentation"
   ]
  },
  {
   "cell_type": "code",
   "execution_count": 73,
   "metadata": {
    "nbpresent": {
     "id": "e3bd2f31-7256-4d16-80a8-7e81b556ce68"
    }
   },
   "outputs": [],
   "source": [
    "# ipython magic -- shows a help window about the function\n",
    "? sum3        "
   ]
  },
  {
   "cell_type": "markdown",
   "metadata": {
    "nbpresent": {
     "id": "b7b5a998-fcee-41cb-8e1d-88b178b4ed0a"
    },
    "slideshow": {
     "slide_type": "slide"
    }
   },
   "source": [
    "# Classes\n",
    "- Defining a class\n",
    "  - `self` is a reference to the object instance (passed _implicitly_)"
   ]
  },
  {
   "cell_type": "code",
   "execution_count": 74,
   "metadata": {
    "nbpresent": {
     "id": "1d462833-a66b-476d-8511-497fa8b21e8d"
    }
   },
   "outputs": [],
   "source": [
    "class MyList:\n",
    "    \"class documentation string\"\n",
    "    num = 0                  # a class variable\n",
    "    def  __init__(self, b):  # constructor\n",
    "        self.x = [b]         # an instance variable\n",
    "        MyList.num += 1      # modify class variable\n",
    "    def appendx(self, b):    # a class method\n",
    "        self.x.append(b)     # modify an instance variable\n",
    "        self.app = 1         # create new instance variable"
   ]
  },
  {
   "cell_type": "markdown",
   "metadata": {
    "nbpresent": {
     "id": "8db5101a-aa47-4fa1-a686-30bd1a162fe2"
    },
    "slideshow": {
     "slide_type": "subslide"
    }
   },
   "source": [
    "- Using the class"
   ]
  },
  {
   "cell_type": "code",
   "execution_count": 75,
   "metadata": {
    "nbpresent": {
     "id": "d181a874-0d4d-4ca1-ad8b-191357500812"
    }
   },
   "outputs": [
    {
     "name": "stdout",
     "output_type": "stream",
     "text": [
      "[0]\n"
     ]
    }
   ],
   "source": [
    "c = MyList(0)         # create an instance of MyList\n",
    "print(c.x)"
   ]
  },
  {
   "cell_type": "code",
   "execution_count": 76,
   "metadata": {
    "nbpresent": {
     "id": "5b986a72-cd37-449e-b93a-32aea4d64783"
    }
   },
   "outputs": [
    {
     "name": "stdout",
     "output_type": "stream",
     "text": [
      "[0, 1]\n"
     ]
    }
   ],
   "source": [
    "c.appendx(1)          # c.x = [0, 1]\n",
    "print(c.x)"
   ]
  },
  {
   "cell_type": "code",
   "execution_count": 77,
   "metadata": {
    "nbpresent": {
     "id": "ed9b3533-4c05-42d0-9080-7abe3e0ef8c4"
    }
   },
   "outputs": [
    {
     "name": "stdout",
     "output_type": "stream",
     "text": [
      "[0, 1, 2]\n"
     ]
    }
   ],
   "source": [
    "c.appendx(2)          # c.x = [0, 1, 2]\n",
    "print(c.x)"
   ]
  },
  {
   "cell_type": "code",
   "execution_count": 78,
   "metadata": {
    "nbpresent": {
     "id": "76fce247-bf95-43ee-9a84-77b7af99baa1"
    }
   },
   "outputs": [
    {
     "name": "stdout",
     "output_type": "stream",
     "text": [
      "1\n"
     ]
    }
   ],
   "source": [
    "print(MyList.num)      # access class variable (same as c.num)"
   ]
  },
  {
   "cell_type": "markdown",
   "metadata": {
    "nbpresent": {
     "id": "4b2c2b21-908b-4064-80f4-9b9e39ccd4ee"
    },
    "slideshow": {
     "slide_type": "slide"
    }
   },
   "source": [
    "# More on Classes\n",
    "- There are _no_ \"private\" members\n",
    "  - everything is accessible\n",
    "  - convention to indicate _private_:\n",
    "    - `_variable` means private method or variable (but still accessible)\n",
    "  - convention for _very private_:\n",
    "    - `__variable` is not directly visible\n",
    "    - actually it is renamed to `_classname__variable`"
   ]
  },
  {
   "cell_type": "markdown",
   "metadata": {
    "nbpresent": {
     "id": "a3421974-478a-4dce-81d8-09bc3a94616a"
    },
    "slideshow": {
     "slide_type": "subslide"
    }
   },
   "source": [
    "- Instance variable rules\n",
    "  - On _use_ via instance (`self.x`), scope search order is:\n",
    "    - (1) instance, (2) class, (3) base classes\n",
    "    - also the same for method lookup\n",
    "  - On _assignment_ via instance (`self.x=...`):\n",
    "    - always makes an instance variable\n",
    "  - Class variables \"default\" for instance variables\n",
    "    - _class_ variable: one copy _shared_ by all\n",
    "    - _instance_ variable: each instance has its own"
   ]
  },
  {
   "cell_type": "markdown",
   "metadata": {
    "nbpresent": {
     "id": "abf31b03-8887-47a4-a129-a1285ecdf276"
    },
    "slideshow": {
     "slide_type": "slide"
    }
   },
   "source": [
    "# Inheritence\n",
    "- Child class inherits attributes from parents"
   ]
  },
  {
   "cell_type": "code",
   "execution_count": 79,
   "metadata": {
    "nbpresent": {
     "id": "42e06087-bde9-45de-88d7-18df4e5752ac"
    }
   },
   "outputs": [],
   "source": [
    "class MyListAll(MyList): \n",
    "    def __init__(self, a):   # overrides MyList\n",
    "        self.allx = [a]\n",
    "        MyList.__init__(self, a)   # call base class constructor\n",
    "    def popx(self):\n",
    "        return self.x.pop()\n",
    "    def appendx(self, a):          # overrides MyList\n",
    "        self.allx.append(a)\n",
    "        MyList.appendx(self, a)    # \"super\" method call"
   ]
  },
  {
   "cell_type": "markdown",
   "metadata": {
    "nbpresent": {
     "id": "3fe8a0a2-ace2-4f27-bf36-312fc135551c"
    }
   },
   "source": [
    "- Multiple inheritence\n",
    "  - `class ChildClass(Parent1, Parent2, ...)`\n",
    "  - calling method in parent\n",
    "    - `super(ChildClass, self).method(args)`"
   ]
  },
  {
   "cell_type": "markdown",
   "metadata": {
    "nbpresent": {
     "id": "b78a4fe9-83d8-4fbf-9218-dba268bd0bf7"
    },
    "slideshow": {
     "slide_type": "slide"
    }
   },
   "source": [
    "# Class methods & Built-in Attributes\n",
    "- Useful methods to override in class"
   ]
  },
  {
   "cell_type": "code",
   "execution_count": 80,
   "metadata": {
    "nbpresent": {
     "id": "5db964f2-6c49-4df1-b4fb-0e3bea7c9259"
    }
   },
   "outputs": [],
   "source": [
    "class MyList2:\n",
    "    ...\n",
    "    def __str__(self):     # string representation\n",
    "        ...\n",
    "    def __cmp__(self, x):  # object comparison\n",
    "        ...\n",
    "    def __del__(self):     # destructor\n",
    "        ..."
   ]
  },
  {
   "cell_type": "markdown",
   "metadata": {
    "nbpresent": {
     "id": "ce0755ef-ac6f-4d93-bafa-2ec883c8f079"
    },
    "slideshow": {
     "slide_type": "subslide"
    }
   },
   "source": [
    "- Built-in attributes"
   ]
  },
  {
   "cell_type": "code",
   "execution_count": 81,
   "metadata": {
    "nbpresent": {
     "id": "64eed74a-f8b9-4707-89c6-39f5ab65849d"
    }
   },
   "outputs": [
    {
     "name": "stdout",
     "output_type": "stream",
     "text": [
      "{'x': [0, 1, 2], 'app': 1}\n",
      "class documentation string\n",
      "__main__\n"
     ]
    }
   ],
   "source": [
    "print(c.__dict__)    # Dictionary with the namespace.\n",
    "print(c.__doc__)     # Class documentation string\n",
    "print(c.__module__)  # Module which defines the class"
   ]
  },
  {
   "cell_type": "code",
   "execution_count": 82,
   "metadata": {
    "nbpresent": {
     "id": "22ac56bb-dde6-44c3-a351-0f9bbf9c1dc1"
    }
   },
   "outputs": [
    {
     "name": "stdout",
     "output_type": "stream",
     "text": [
      "MyList\n",
      "(<class 'object'>,)\n"
     ]
    }
   ],
   "source": [
    "print(MyList.__name__)    # Class name\n",
    "print(MyList.__bases__)   # tuple of base classes"
   ]
  },
  {
   "cell_type": "markdown",
   "metadata": {
    "nbpresent": {
     "id": "4033808f-0270-4333-97d8-4d0b4c724760"
    },
    "slideshow": {
     "slide_type": "slide"
    }
   },
   "source": [
    "# Outline\n",
    "1. Python Intro\n",
    "2. Python Basics (identifiers, types, operators)\n",
    "3. Control structures (conditional and loops)\n",
    "4. Functions, Classes\n",
    "5. **File IO, Pickle, pandas**\n",
    "6. NumPy\n",
    "7. matplotlib\n",
    "8. probability review"
   ]
  },
  {
   "cell_type": "markdown",
   "metadata": {
    "nbpresent": {
     "id": "247ac64c-3ab3-4207-93a5-76e0c0e786cb"
    },
    "slideshow": {
     "slide_type": "slide"
    }
   },
   "source": [
    "# File I/O\n",
    "- Write a file"
   ]
  },
  {
   "cell_type": "code",
   "execution_count": 83,
   "metadata": {
    "nbpresent": {
     "id": "02dc9815-1da6-4ca4-9c0b-76fdccedbaae"
    }
   },
   "outputs": [],
   "source": [
    "with open(\"myfile.txt\", \"w\") as f:\n",
    "    f.write(\"blah\\n\")\n",
    "    f.writelines(['line1\\n', 'line2\\n', 'line3\\n'])\n",
    "\n",
    "# NOTE: using \"with\" will automatically close the file"
   ]
  },
  {
   "cell_type": "markdown",
   "metadata": {
    "nbpresent": {
     "id": "3c866bee-7f96-4e8f-bcc9-2094bbe7c4af"
    }
   },
   "source": [
    "- Read a whole file"
   ]
  },
  {
   "cell_type": "code",
   "execution_count": 84,
   "metadata": {
    "nbpresent": {
     "id": "ea500475-cef5-480a-b977-156c377f5541"
    }
   },
   "outputs": [
    {
     "name": "stdout",
     "output_type": "stream",
     "text": [
      "blah\n",
      "line1\n",
      "line2\n",
      "line3\n",
      "\n"
     ]
    }
   ],
   "source": [
    "with open(\"myfile.txt\", \"r\") as f:\n",
    "    contents = f.read()   # read the whole file as a string\n",
    "    print(contents)"
   ]
  },
  {
   "cell_type": "markdown",
   "metadata": {
    "nbpresent": {
     "id": "fc49911f-7af9-4580-9c63-3e51995be887"
    },
    "slideshow": {
     "slide_type": "subslide"
    }
   },
   "source": [
    "- Read line or remaining lines"
   ]
  },
  {
   "cell_type": "code",
   "execution_count": 85,
   "metadata": {
    "nbpresent": {
     "id": "1e508f8b-ce81-40a7-8644-6faeaaccf1e5"
    }
   },
   "outputs": [
    {
     "name": "stdout",
     "output_type": "stream",
     "text": [
      "blah\n",
      "\n"
     ]
    }
   ],
   "source": [
    "f = open(\"myfile.txt\", 'r')\n",
    "print(f.readline())    # read a single line."
   ]
  },
  {
   "cell_type": "code",
   "execution_count": 86,
   "metadata": {
    "nbpresent": {
     "id": "1b0f3427-a01c-49e8-800f-ee5bf31b6136"
    }
   },
   "outputs": [
    {
     "name": "stdout",
     "output_type": "stream",
     "text": [
      "['line1\\n', 'line2\\n', 'line3\\n']\n"
     ]
    }
   ],
   "source": [
    "print(f.readlines())   # read remaining lines in a list.\n",
    "f.close()"
   ]
  },
  {
   "cell_type": "markdown",
   "metadata": {
    "slideshow": {
     "slide_type": "subslide"
    }
   },
   "source": [
    "- Read line by line with a loop"
   ]
  },
  {
   "cell_type": "code",
   "execution_count": 87,
   "metadata": {},
   "outputs": [
    {
     "name": "stdout",
     "output_type": "stream",
     "text": [
      "blah\n",
      "\n",
      "line1\n",
      "\n",
      "line2\n",
      "\n",
      "line3\n",
      "\n"
     ]
    }
   ],
   "source": [
    "with open(\"myfile.txt\", 'r') as f:\n",
    "    for line in f:\n",
    "        print(line)    # still contains newline char"
   ]
  },
  {
   "cell_type": "markdown",
   "metadata": {
    "nbpresent": {
     "id": "32a3f3f8-c733-4a10-a369-d629e6663ec2"
    },
    "slideshow": {
     "slide_type": "slide"
    }
   },
   "source": [
    "# Saving Objects with Pickle\n",
    "- Turns almost **any** Python **object** into a string representation for saving into a file."
   ]
  },
  {
   "cell_type": "code",
   "execution_count": 88,
   "metadata": {
    "nbpresent": {
     "id": "f364c721-c4f1-43e1-8fdf-e388d0f46f8c"
    }
   },
   "outputs": [],
   "source": [
    "import pickle                     # load the pickle library\n",
    "mylist = MyList(0)                # an object\n",
    "# open file to save object (write bytes)\n",
    "with open('alist.pickle', 'wb') as file: \n",
    "    pickle.dump(mylist, file)         # save the object using pickle"
   ]
  },
  {
   "cell_type": "markdown",
   "metadata": {
    "nbpresent": {
     "id": "6bb1a4e8-c26c-4670-bd51-0cd4a5f5e8f7"
    },
    "slideshow": {
     "slide_type": "subslide"
    }
   },
   "source": [
    "- Load object from file"
   ]
  },
  {
   "cell_type": "code",
   "execution_count": 89,
   "metadata": {
    "nbpresent": {
     "id": "a0876574-d217-434b-8429-b54a63f77244"
    }
   },
   "outputs": [
    {
     "name": "stdout",
     "output_type": "stream",
     "text": [
      "<__main__.MyList object at 0x7fbcc81fa8d0>\n",
      "[0]\n"
     ]
    }
   ],
   "source": [
    "with open('alist.pickle', 'rb') as file:  # (read bytes)\n",
    "    mylist2 = pickle.load(file)       # load pickled object from file\n",
    "print(mylist2)\n",
    "print(mylist2.x)"
   ]
  },
  {
   "cell_type": "markdown",
   "metadata": {
    "nbpresent": {
     "id": "4a8a91c8-835a-4a9d-a662-4f20cc24d88d"
    }
   },
   "source": [
    "- cPickle is a faster version (1,000 times faster!)"
   ]
  },
  {
   "cell_type": "markdown",
   "metadata": {
    "nbpresent": {
     "id": "28320f1f-753a-411b-a552-3a859b77589c"
    },
    "slideshow": {
     "slide_type": "slide"
    }
   },
   "source": [
    "# Exception Handling\n",
    "- Catching an exception\n",
    "  - `except` block catches exceptions\n",
    "  - `else` block executes if no exception occurs\n",
    "  - `finally` block always executes at end"
   ]
  },
  {
   "cell_type": "code",
   "execution_count": 90,
   "metadata": {
    "nbpresent": {
     "id": "8002ea8c-9cd3-4542-8d5f-05ff5b644709"
    }
   },
   "outputs": [
    {
     "name": "stdout",
     "output_type": "stream",
     "text": [
      "No file!\n",
      "Bye!\n"
     ]
    }
   ],
   "source": [
    "try:\n",
    "    file = open('blah.pickle', 'r')\n",
    "    blah = pickle.load(file)\n",
    "    file.close()\n",
    "except:               # catch everything\n",
    "    print(\"No file!\")\n",
    "else:                 # executes if no exception occurred\n",
    "    print(\"No exception!\")\n",
    "finally:\n",
    "    print(\"Bye!\")      # always executes"
   ]
  },
  {
   "cell_type": "markdown",
   "metadata": {
    "slideshow": {
     "slide_type": "slide"
    }
   },
   "source": [
    "# pandas\n",
    "- pandas is a Python library for data wrangling and analysis.\n",
    "- `Dataframe` is a table of entries (like an Excel spreadsheet).\n",
    "  - each column does not need to be the same type\n",
    "  - operations to modify and operate on the table"
   ]
  },
  {
   "cell_type": "code",
   "execution_count": 91,
   "metadata": {},
   "outputs": [],
   "source": [
    "# setup pandas and display\n",
    "import pandas as pd"
   ]
  },
  {
   "cell_type": "code",
   "execution_count": 92,
   "metadata": {
    "slideshow": {
     "slide_type": "subslide"
    }
   },
   "outputs": [
    {
     "data": {
      "text/html": [
       "<div>\n",
       "<style scoped>\n",
       "    .dataframe tbody tr th:only-of-type {\n",
       "        vertical-align: middle;\n",
       "    }\n",
       "\n",
       "    .dataframe tbody tr th {\n",
       "        vertical-align: top;\n",
       "    }\n",
       "\n",
       "    .dataframe thead th {\n",
       "        text-align: right;\n",
       "    }\n",
       "</style>\n",
       "<table border=\"1\" class=\"dataframe\">\n",
       "  <thead>\n",
       "    <tr style=\"text-align: right;\">\n",
       "      <th></th>\n",
       "      <th>Name</th>\n",
       "      <th>Location</th>\n",
       "      <th>Age</th>\n",
       "    </tr>\n",
       "  </thead>\n",
       "  <tbody>\n",
       "    <tr>\n",
       "      <th>0</th>\n",
       "      <td>John</td>\n",
       "      <td>New York</td>\n",
       "      <td>24</td>\n",
       "    </tr>\n",
       "    <tr>\n",
       "      <th>1</th>\n",
       "      <td>Anna</td>\n",
       "      <td>Paris</td>\n",
       "      <td>13</td>\n",
       "    </tr>\n",
       "    <tr>\n",
       "      <th>2</th>\n",
       "      <td>Peter</td>\n",
       "      <td>Berlin</td>\n",
       "      <td>53</td>\n",
       "    </tr>\n",
       "    <tr>\n",
       "      <th>3</th>\n",
       "      <td>Linda</td>\n",
       "      <td>London</td>\n",
       "      <td>33</td>\n",
       "    </tr>\n",
       "  </tbody>\n",
       "</table>\n",
       "</div>"
      ],
      "text/plain": [
       "    Name  Location  Age\n",
       "0   John  New York   24\n",
       "1   Anna     Paris   13\n",
       "2  Peter    Berlin   53\n",
       "3  Linda    London   33"
      ]
     },
     "execution_count": 92,
     "metadata": {},
     "output_type": "execute_result"
    }
   ],
   "source": [
    "# read CSV file\n",
    "df = pd.read_csv('mycsv.csv')\n",
    "\n",
    "# print the dataframe\n",
    "df"
   ]
  },
  {
   "cell_type": "markdown",
   "metadata": {
    "slideshow": {
     "slide_type": "subslide"
    }
   },
   "source": [
    "- select a column"
   ]
  },
  {
   "cell_type": "code",
   "execution_count": 93,
   "metadata": {},
   "outputs": [
    {
     "data": {
      "text/plain": [
       "0     John\n",
       "1     Anna\n",
       "2    Peter\n",
       "3    Linda\n",
       "Name: Name, dtype: object"
      ]
     },
     "execution_count": 93,
     "metadata": {},
     "output_type": "execute_result"
    }
   ],
   "source": [
    "df['Name']"
   ]
  },
  {
   "cell_type": "markdown",
   "metadata": {
    "slideshow": {
     "slide_type": "subslide"
    }
   },
   "source": [
    "- query the table"
   ]
  },
  {
   "cell_type": "code",
   "execution_count": 94,
   "metadata": {
    "scrolled": false
   },
   "outputs": [
    {
     "data": {
      "text/html": [
       "<div>\n",
       "<style scoped>\n",
       "    .dataframe tbody tr th:only-of-type {\n",
       "        vertical-align: middle;\n",
       "    }\n",
       "\n",
       "    .dataframe tbody tr th {\n",
       "        vertical-align: top;\n",
       "    }\n",
       "\n",
       "    .dataframe thead th {\n",
       "        text-align: right;\n",
       "    }\n",
       "</style>\n",
       "<table border=\"1\" class=\"dataframe\">\n",
       "  <thead>\n",
       "    <tr style=\"text-align: right;\">\n",
       "      <th></th>\n",
       "      <th>Name</th>\n",
       "      <th>Location</th>\n",
       "      <th>Age</th>\n",
       "    </tr>\n",
       "  </thead>\n",
       "  <tbody>\n",
       "    <tr>\n",
       "      <th>2</th>\n",
       "      <td>Peter</td>\n",
       "      <td>Berlin</td>\n",
       "      <td>53</td>\n",
       "    </tr>\n",
       "    <tr>\n",
       "      <th>3</th>\n",
       "      <td>Linda</td>\n",
       "      <td>London</td>\n",
       "      <td>33</td>\n",
       "    </tr>\n",
       "  </tbody>\n",
       "</table>\n",
       "</div>"
      ],
      "text/plain": [
       "    Name Location  Age\n",
       "2  Peter   Berlin   53\n",
       "3  Linda   London   33"
      ]
     },
     "execution_count": 94,
     "metadata": {},
     "output_type": "execute_result"
    }
   ],
   "source": [
    "# select Age greater than 30\n",
    "df[df.Age > 30]"
   ]
  },
  {
   "cell_type": "markdown",
   "metadata": {},
   "source": [
    "- compute statistics "
   ]
  },
  {
   "cell_type": "code",
   "execution_count": 95,
   "metadata": {},
   "outputs": [
    {
     "data": {
      "text/plain": [
       "Age    30.75\n",
       "dtype: float64"
      ]
     },
     "execution_count": 95,
     "metadata": {},
     "output_type": "execute_result"
    }
   ],
   "source": [
    "df.mean()"
   ]
  }
 ],
 "metadata": {
  "anaconda-cloud": {},
  "celltoolbar": "Slideshow",
  "kernelspec": {
   "display_name": "Python 3",
   "language": "python",
   "name": "python3"
  },
  "language_info": {
   "codemirror_mode": {
    "name": "ipython",
    "version": 3
   },
   "file_extension": ".py",
   "mimetype": "text/x-python",
   "name": "python",
   "nbconvert_exporter": "python",
   "pygments_lexer": "ipython3",
   "version": "3.7.6"
  },
  "toc": {
   "base_numbering": 1,
   "nav_menu": {},
   "number_sections": false,
   "sideBar": true,
   "skip_h1_title": false,
   "title_cell": "Table of Contents",
   "title_sidebar": "Contents",
   "toc_cell": false,
   "toc_position": {},
   "toc_section_display": true,
   "toc_window_display": true
  }
 },
 "nbformat": 4,
 "nbformat_minor": 1
}
