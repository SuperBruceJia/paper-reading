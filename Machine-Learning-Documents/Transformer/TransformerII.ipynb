{
  "nbformat": 4,
  "nbformat_minor": 0,
  "metadata": {
    "colab": {
      "name": "TransformerII.ipynb",
      "provenance": [],
      "collapsed_sections": [],
      "machine_shape": "hm"
    },
    "kernelspec": {
      "name": "python3",
      "display_name": "Python 3"
    },
    "accelerator": "GPU"
  },
  "cells": [
    {
      "cell_type": "code",
      "metadata": {
        "id": "9Y8_IQ8ybFW-"
      },
      "source": [
        "!pip install sentencepiece\n",
        "!wget http://data.mxnet.io/data/fra-eng.zip\n",
        "!unzip fra-eng.zip"
      ],
      "execution_count": null,
      "outputs": []
    },
    {
      "cell_type": "code",
      "metadata": {
        "id": "jOpL_MbL0Fog"
      },
      "source": [
        "with open('fra.txt', 'r') as f:\n",
        "  sentences = f.read().splitlines()\n",
        "  en = [sentence.split('\\t')[0] for sentence in sentences]\n",
        "  fr = [sentence.split('\\t')[0] for sentence in sentences]\n",
        "\n",
        "with open('en.txt', 'w') as f:\n",
        "  f.write(('\\n'.join(en)))\n",
        "\n",
        "with open('fr.txt', 'w') as f:\n",
        "  f.write(('\\n'.join(fr)))"
      ],
      "execution_count": null,
      "outputs": []
    },
    {
      "cell_type": "code",
      "metadata": {
        "id": "l9VSOO9fh_Iz",
        "colab": {
          "base_uri": "https://localhost:8080/",
          "height": 34
        },
        "outputId": "0f874a30-cdfb-4c3c-f35e-290f6cece3d5"
      },
      "source": [
        "%tensorflow_version 2.x\n",
        "import tensorflow as tf\n",
        "import numpy as np\n",
        "import sentencepiece as spm\n",
        "import matplotlib.pyplot as plt"
      ],
      "execution_count": null,
      "outputs": [
        {
          "output_type": "stream",
          "text": [
            "TensorFlow 2.x selected.\n"
          ],
          "name": "stdout"
        }
      ]
    },
    {
      "cell_type": "markdown",
      "metadata": {
        "id": "iaxuWASijLzE"
      },
      "source": [
        "## Introduction \n",
        "\n",
        "Until 2017, natural language processing (NLP) was dependent on using recurrent neural networks (RNNs) which has many shortcomings: 1. no support for parallelization, 2. vanishing gradient for long sequences. For instance, in translation which is mostly seq2seq architectures, both the encoder and decoder consists of RNNs. In 2014, Bahdanau et al , suggested the use of a mechanism called \"attention\" to resolve the bottleneck of seq2seq models [1]. However, RNNs were still the main building blocks for such models and others like image captioning by Kelvin Xu et al [2]. The use of attention in [1, 2] gave a better visualization of such models. But, what if we get rid of all RNNs in the first place. Well, that is a big claim, but it worked really well in 2017. The paper was rightly called \"Attention is all you need\" by Vaswani et al. from Google AI. This is a breakthrough, since RNNs are very slow which makes parallel computations easy to implement. The model was called 'Transfomer model', in this notebook we will explain in details its main components. "
      ]
    },
    {
      "cell_type": "markdown",
      "metadata": {
        "id": "EkUl87Y5h2bl"
      },
      "source": [
        "## Transformer Decoder\n",
        "\n",
        "The transofmer, like other architectures for machine translation consists of encoder and decoder modules. In this notebook, we will only focus on the decoder, check the first part that discusses the [encoder](https://colab.research.google.com/github/zaidalyafeai/AttentioNN/blob/master/TransformerI.ipynb).\n",
        "\n",
        "![alt text](https://miro.medium.com/max/2880/1*BHzGVskWGS_3jEcYYi6miQ.png)"
      ]
    },
    {
      "cell_type": "markdown",
      "metadata": {
        "id": "XmrbrXgsYEYH"
      },
      "source": [
        "## Tokenization\n",
        "\n",
        "Given a set of statements we would like to convert these statements to a set of integers. However, this will result in a huge vocabulary which makes training very difficult. Google offers [SentencePiece](https://github.com/google/sentencepiece) which is a model that could be trained to generate tokens for arbitrary languages. From the name, you could deduce that the model can generate pieces of words as well. In this example, we will train a model on a set of expressions from the English language. "
      ]
    },
    {
      "cell_type": "code",
      "metadata": {
        "id": "9UVgskFrbMaO",
        "colab": {
          "base_uri": "https://localhost:8080/",
          "height": 34
        },
        "outputId": "430cf61b-2402-4b9c-89eb-f04e6beb68a1"
      },
      "source": [
        "# train the model on the epxressions with a fixed vocabulary size, this will create a model named en.model \n",
        "spm.SentencePieceTrainer.Train('--input=en.txt --model_prefix=en --vocab_size=10000')\n",
        "\n",
        "# create the process object then load the trained model\n",
        "sp = spm.SentencePieceProcessor()\n",
        "sp.load('en.model')"
      ],
      "execution_count": null,
      "outputs": [
        {
          "output_type": "execute_result",
          "data": {
            "text/plain": [
              "True"
            ]
          },
          "metadata": {
            "tags": []
          },
          "execution_count": 3
        }
      ]
    },
    {
      "cell_type": "markdown",
      "metadata": {
        "id": "N2pbXnG7pwhQ"
      },
      "source": [
        "Now, let us load our dataset and convert them to padded vectors"
      ]
    },
    {
      "cell_type": "code",
      "metadata": {
        "id": "Iac8SK5bbuI9"
      },
      "source": [
        "# load the expressions \n",
        "with open('en.txt', 'r') as f:\n",
        "  sentences = f.read().splitlines()\n",
        "\n",
        "# convert the vectors to ids \n",
        "sequences = []\n",
        "max_length = 0\n",
        "\n",
        "for sentence in sentences[0:1000]:\n",
        "  sequence = sp.encode_as_ids(sentence)\n",
        "  sequences.append(sequence)\n",
        "  max_length = max(max_length, len(sequence))\n",
        "\n",
        "# pad the vectors according to the longest sequence \n",
        "x = tf.keras.preprocessing.sequence.pad_sequences(sequences, maxlen = max_length, padding = 'post')"
      ],
      "execution_count": null,
      "outputs": []
    },
    {
      "cell_type": "markdown",
      "metadata": {
        "id": "1JjjtCUqe9Zh"
      },
      "source": [
        "## Parameters\n",
        "A set of parameters that are taken from the original paper. Don't worry about them right now. "
      ]
    },
    {
      "cell_type": "code",
      "metadata": {
        "id": "fiSSscLYoxbt"
      },
      "source": [
        "# dimension of the vectors between consecutive modules layers \n",
        "dm = 512\n",
        "\n",
        "# number of heads in attention modules\n",
        "h = 8 \n",
        "\n",
        "# dimensnion of queries and keys \n",
        "dk = dm // 8\n",
        "\n",
        "# dimension of values \n",
        "dv = dm // 8 \n",
        "\n",
        "# sequence length \n",
        "n = max_length \n",
        "\n",
        "# size of vocabulary \n",
        "vocab_size = 10000\n",
        "\n",
        "# number of neurons in the feed forward network \n",
        "dff = 2048"
      ],
      "execution_count": null,
      "outputs": []
    },
    {
      "cell_type": "markdown",
      "metadata": {
        "id": "YSVKuZZfXz3H"
      },
      "source": [
        "## Encoding\n",
        "Since the transformer model has no meaning of sequences of operations (they are mostly parallel) for a set of words, it is important that we keep track of the order input words. To do that, we use positional encoding. Before doing that, we will first pass the vectors through an embedding layer"
      ]
    },
    {
      "cell_type": "code",
      "metadata": {
        "id": "FDFnZhaUgiC3"
      },
      "source": [
        "e = tf.keras.layers.Embedding(vocab_size, dm)(x)"
      ],
      "execution_count": null,
      "outputs": []
    },
    {
      "cell_type": "markdown",
      "metadata": {
        "id": "eZhKNkIhrH1C"
      },
      "source": [
        "To encode the position of each word within a sequence of models we use sines and cosines. These encodings are just added to the embedding layer output so no change in the shape of e: [None, dm]. \n",
        "\n",
        "Given pos as the position within the sequence which takes the values $0 \\cdots n-1$ and $i$ as the position within the embedding dimension which takes values $0 \\cdots d_m-1$. We evaluate the encoded position for even and odd values as "
      ]
    },
    {
      "cell_type": "markdown",
      "metadata": {
        "id": "m-mcPNbN1KsS"
      },
      "source": [
        "$$\\text{PE}(\\text{pos},2i)= \\sin\\left(\\frac{\\text{pos}}{10000^{2i/d_{model}}}\\right)$$\n",
        "\n",
        "$$\\text{PE}(\\text{pos},2i+1)= \\cos\\left(\\frac{\\text{pos}}{10000^{2i/d_{model}}}\\right)$$\n",
        "\n",
        "We can combine the two formulas as \n",
        "\n",
        "$$\\text{PE}(\\text{pos},i)= \\sin\\left(\\frac{\\text{pos}}{10000^{(i-g(i))/d_{model}}}+ g(i) \\times \\frac{\\pi}{2}\\right)$$\n",
        "\n",
        "Where $g(i) = i \\,\\% \\,2$ which takes 0 for even values and 1 for odd values. Note that $\\sin(x + \\pi/2) = \\cos(x)$"
      ]
    },
    {
      "cell_type": "code",
      "metadata": {
        "id": "ogeEJ19D1Hql"
      },
      "source": [
        "def g(ids):\n",
        "  return ids % 2\n",
        "\n",
        "def positional_encoding(x):\n",
        "\n",
        "  # 1. create positions within sequence and ids within dm \n",
        "  # out ids: [1, dm] pos: [n, 1]\n",
        "  ids = tf.expand_dims(tf.range(0, dm), 0)\n",
        "  pos = tf.expand_dims(tf.range(0, n), 1)\n",
        "\n",
        "  # 2. create numerator and denominator\n",
        "  # inp ids: [1, dm] pos: [n, 1] \n",
        "  # out den: [1, dm] num: [n, 1]\n",
        "  den = tf.pow(10000.0, tf.cast((ids - g(ids))/ dm, tf.float32))\n",
        "  num = tf.cast(pos, tf.float32)\n",
        "\n",
        "  # 3. division ahmed show\n",
        "  # inp num: [n, 1] den: [1, dm] \n",
        "  # out encoding: [n, dm]\n",
        "  encoding = tf.sin(tf.divide(num, den)  + tf.cast(g(ids), tf.float32)* (np.pi/2))\n",
        "  return x + encoding\n",
        "  "
      ],
      "execution_count": null,
      "outputs": []
    },
    {
      "cell_type": "code",
      "metadata": {
        "id": "_-RkWoOeffxD"
      },
      "source": [
        "z = positional_encoding(e)"
      ],
      "execution_count": null,
      "outputs": []
    },
    {
      "cell_type": "markdown",
      "metadata": {
        "id": "A3RE5xk3veFD"
      },
      "source": [
        "Let us visualize the encoding for a specific sequence of words. As we see from the figure there is a unique pattern for the sequence position in the y-axis. "
      ]
    },
    {
      "cell_type": "code",
      "metadata": {
        "id": "socxYh9DXeLV",
        "colab": {
          "base_uri": "https://localhost:8080/",
          "height": 324
        },
        "outputId": "6d927858-ee6d-4d41-8fe7-5ae6eab30f68"
      },
      "source": [
        "plt.figure(figsize = (10, 5))\n",
        "plt.pcolormesh(z[0])\n",
        "plt.ylim((0, max_length))\n",
        "plt.colorbar()\n",
        "plt.show()"
      ],
      "execution_count": null,
      "outputs": [
        {
          "output_type": "display_data",
          "data": {
            "image/png": "[encoded data removed]",
            "text/plain": [
              "<Figure size 720x360 with 2 Axes>"
            ]
          },
          "metadata": {
            "tags": []
          }
        }
      ]
    },
    {
      "cell_type": "markdown",
      "metadata": {
        "id": "Npqxue4Ogyc_"
      },
      "source": [
        "## Masked Multi-head Self-attention"
      ]
    },
    {
      "cell_type": "markdown",
      "metadata": {
        "id": "4qRm-ll7VxLR"
      },
      "source": [
        "![alt text](https://mchromiak.github.io/articles/2017/Sep/12/Transformer-Attention-is-all-you-need/img/MultiHead.png)"
      ]
    },
    {
      "cell_type": "markdown",
      "metadata": {
        "id": "dRqD7sWxXfsj"
      },
      "source": [
        "\n",
        "Let us start by the output of the positional encoding function $z \\in \\mathbb{R}^{n \\times d_m}$. Note that, for simplicity we assume that we just have one batch. From the value $z$ we extract three types of vectors by applying three dense layers. The types are $K \\in \\mathbb{R}^{n \\times d_k} Q \\in \\mathbb{R}^{n \\times d_k}$ and $V \\in \\mathbb{R}^{n \\times d_v}$ called keys, queries and values respectively. In simple terms, the keys are used by the query vector to search for values. In attention, we are trying to find the closest key-value pair to the given query vector. In other words, we are trying to search for words that are closer in meaning or may refer to in the current context. For instance, in the statement `John is smart and handsome` we expect that the query words `smart` and `handsome` to have an high attention value for the key word `John`. To evaluate closensess, we a scaled dot product \n",
        "\n",
        "$$\\text{Attention}(Q, K, V) = \\text{softmax}\\left( \\frac{QK^T}{\\sqrt{d_k}}\\right)V$$\n",
        "\n",
        "This function will result in a weight vector for each query word multiplied by the value vector. For instance, for the query word `smart` we expect something like `[0.3, 0.05, 0.1, 0.05, 0.55] x v`. Hence, smaller values of the attention weight vector will result in smaller values and hence lower gradient. The authors, realized that for larger values the dot product might grow large so they divide by $\\sqrt{d_k}$ as a normalizing factor inside the softmax function. In general, this is called additive attention which is usually preferred because is fast and space efficient because we can use highly optimized matrices product to compute it. Note that, in the definition we assume that $Q, K, V$ are matrices hence it can be computed really fast for a large sequence and even batch size. There exists another form of attention, which is called product attention which was used in [1, 2]. \n",
        "\n",
        "In general this approach is called self-attention because it uses the same input vector $z$ to generate the queue, key and value vectors. In the paper, the authors suggest using self-attention multiple times i.e multiple head attention. This is done by repeating the same operation multiple times which in general gave more robust results. They use $h = 8$  and then concatenate the output at the end. In the decocer the authors applied masked self-attention where the current token is only able to attent to all tokens proceeding it in position. Hence, they cannot see future values. Let us take an example, consider the following matirx \n",
        "\n",
        "$$\\begin{bmatrix}\n",
        "-1.37433722 &-0.53638396 & -0.36027966 \\\\\n",
        "-1.15409807 & -1.54633265 & 1.04451533 \\\\\n",
        " 1.25598085 & -0.52104727 & -1.08935325\n",
        "\\end{bmatrix}$$\n",
        "\n",
        "We apply a simple trick by replacing upper traingle by - infinity values as a masking value\n",
        "\n",
        "$$\\begin{bmatrix}\n",
        "-1.37433722 &-\\infty & -\\infty \\\\\n",
        "-1.15409807 & -1.54633265 & -\\infty \\\\\n",
        " 1.25598085 & -0.52104727 & -1.08935325\n",
        "\\end{bmatrix}$$\n",
        "\n",
        "By applying `softmax` function \n",
        "\n",
        "$$ \\begin{bmatrix}\n",
        "1.        & 0.    &     0. \\\\        \n",
        "0.5968205 & 0.40317947 & 0.  \\\\      \n",
        "0.79054177 & 0.13371228 & 0.07574591 \\\\\n",
        "\\end{bmatrix} $$"
      ]
    },
    {
      "cell_type": "markdown",
      "metadata": {
        "id": "4UVzDMR69VXv"
      },
      "source": [
        "In the following function we will create a multi head attention operation. The input vector has dimensions $z \\in \\mathbb{R}^{\\text{None} \\times n \\times d_m}$ and the output $H \\in \\mathbb{R}^{\\text{None} \\times n \\times d_m}$ note how we use $\\text{None}$ to represent the batch size which could be of variable size. To make the code clearer, for each operation I show the input and output dimension shapes. "
      ]
    },
    {
      "cell_type": "code",
      "metadata": {
        "id": "2R8HkG62tiaf"
      },
      "source": [
        "# mask previous tokens by replacing them with -inf th\n",
        "def mask(x):\n",
        "  # 1. scaled dot product \n",
        "  # inp x: [None, n, n]\n",
        "  # out y: [None, n, n] \n",
        "  mask = tf.linalg.band_part(tf.ones((n, n)), -1, 0)\n",
        "  y = x*mask+(mask-1)/mask\n",
        "  return y\n",
        "\n",
        "def h_linear(x, dout):\n",
        "  # inp x:[None, n, dm] \n",
        "  # out x:[None, h, n, dout] \n",
        "  x = tf.keras.layers.Dense(units = dm)(x)\n",
        "  x = tf.reshape(x, (-1, h, n, dout))\n",
        "  return x\n",
        "\n",
        "def multi_head_attention(Q, K, V, masked = False):\n",
        "\n",
        "  # 0. apply linear layers \n",
        "  # inp Q:[None, n, dm] K: [None, h, n, dm] V: [None, h, n, dm] \n",
        "  # out Q:[None, h, n, dk] K: [None, h, n, dk] V: [None, h, n, dv]   \n",
        "  Q = h_linear(Q, dk)\n",
        "  K = h_linear(K, dk)\n",
        "  V = h_linear(V, dv)\n",
        "\n",
        "  # 1. scaled dot product \n",
        "  # inp Q:  [None, h, n, dk] K: [None, h, n, dk] \n",
        "  # out score : [None, h, n, n] \n",
        "  score = tf.matmul(Q, K, transpose_b=True)/ tf.sqrt(dk*1.0)\n",
        "\n",
        "  # 3. evaluate the mask \n",
        "  # inp score: [None, h, n, n]\n",
        "  # out score: [None, h, n, n]\n",
        "  if masked:\n",
        "    score = mask(score)\n",
        "\n",
        "  # 3. evaluate the weights \n",
        "  # inp score: [None, h, n, n]\n",
        "  # out W: [None, h, n, n]\n",
        "  W = tf.nn.softmax(score, axis = -1)\n",
        "\n",
        "  # 4. evaluate the context vector \n",
        "  # inp W: [None, h, n, n] V: [None, h, n, dv]\n",
        "  # out H: [None, h, n, dv]\n",
        "  H = tf.matmul(W, V)\n",
        "\n",
        "  # 5. concatenate all heads\n",
        "  # inp H: [None, h, n, dv]\n",
        "  # out H: [None, n, dv*h]\n",
        "  H = tf.reshape(H, (-1, n, dv * h))\n",
        "\n",
        "  # 6. linear layer\n",
        "  # inp H: [None, h, n, dv]\n",
        "  # out H: [None, n, dm]\n",
        "  out = tf.keras.layers.Dense(units = dm)(H)\n",
        "  \n",
        "  return out"
      ],
      "execution_count": null,
      "outputs": []
    },
    {
      "cell_type": "markdown",
      "metadata": {
        "id": "FliBr-UZ-AOP"
      },
      "source": [
        "Finally, the decoder layer will be ready by applying fully connected layers and normalizations. Note that the authors used residual connections $$\\text{LayerNorm}(x + \\text{Sublayer}(x))$$ "
      ]
    },
    {
      "cell_type": "code",
      "metadata": {
        "id": "r8Z4jQRLhD01"
      },
      "source": [
        "def DecoderLayer(z, z_encoder):\n",
        "\n",
        "  # 1. masked multi-head attention\n",
        "  # inp z : [None, n, dm]\n",
        "  # out dz: [None, n, dm]\n",
        "  dz = multi_head_attention(z, z, z, masked = True)\n",
        "\n",
        "  # 2. normalization\n",
        "  # inp z: [None, n, dm] dz: [None, n, dm]\n",
        "  # out z: [None, n, dm]\n",
        "  z = tf.keras.layers.LayerNormalization()(z + dz)\n",
        "\n",
        "  # 3. unmasked multi-head attention\n",
        "  # inp z : [None, n, dm]\n",
        "  # out dz: [None, n, dm]\n",
        "  dz = multi_head_attention(z, z_encoder, z_encoder, masked = False)\n",
        "\n",
        "  # 5. normalization\n",
        "  # inp z: [None, n, dm] dz: [None, n, dm]\n",
        "  # out z: [None, n, dm]\n",
        "  z = tf.keras.layers.LayerNormalization()(z + dz)\n",
        "\n",
        "  # 6. feed forward \n",
        "  # inp z : [None, n, dm]\n",
        "  # out dz: [None, n, dm]\n",
        "  dz = tf.keras.layers.Dense(units = dff, activation = 'relu')(z)\n",
        "  dz = tf.keras.layers.Dense(units = dm)(dz)\n",
        "\n",
        "  # 7. normalization \n",
        "  # inp z: [None, n, dm] dz: [None, n, dm]\n",
        "  # out z: [None, n, dm]\n",
        "  z = tf.keras.layers.LayerNormalization()(z + dz)\n",
        "\n",
        "  return z "
      ],
      "execution_count": null,
      "outputs": []
    },
    {
      "cell_type": "code",
      "metadata": {
        "id": "VVRZJd5WnR_Y",
        "colab": {
          "base_uri": "https://localhost:8080/",
          "height": 34
        },
        "outputId": "11c04412-5dbd-4d65-da6f-2c395710ca67"
      },
      "source": [
        "DecoderLayer(z, z).shape"
      ],
      "execution_count": null,
      "outputs": [
        {
          "output_type": "execute_result",
          "data": {
            "text/plain": [
              "TensorShape([1000, 7, 512])"
            ]
          },
          "metadata": {
            "tags": []
          },
          "execution_count": 20
        }
      ]
    },
    {
      "cell_type": "markdown",
      "metadata": {
        "id": "6ecSrhheaNAM"
      },
      "source": [
        "## References\n",
        "\n",
        "1. [Neural Machine Translation by Jointly Learning to Align and Translate](https://arxiv.org/abs/1409.0473) \n",
        "2. [Show, Attend and Tell: Neural Image Caption Generation with Visual Attention\n",
        "](https://arxiv.org/abs/1502.03044)\n",
        "3.  [Attention is all you need](https://arxiv.org/abs/1706.03762)\n",
        "4. https://www.tensorflow.org/tutorials/text/transformer\n",
        "5. [The Illustrated GPT-2](http://jalammar.github.io/illustrated-gpt2/)"
      ]
    }
  ]
}