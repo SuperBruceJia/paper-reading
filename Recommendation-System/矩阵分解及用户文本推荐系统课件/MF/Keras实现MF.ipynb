{
 "cells": [
  {
   "cell_type": "markdown",
   "metadata": {},
   "source": [
    "## 训练"
   ]
  },
  {
   "cell_type": "code",
   "execution_count": 37,
   "metadata": {
    "ExecuteTime": {
     "end_time": "2020-08-23T11:16:41.915123Z",
     "start_time": "2020-08-23T11:13:25.882168Z"
    }
   },
   "outputs": [
    {
     "name": "stderr",
     "output_type": "stream",
     "text": [
      "/Users/jiang/anaconda3/lib/python3.7/site-packages/ipykernel_launcher.py:49: ParserWarning: Falling back to the 'python' engine because the 'c' engine does not support regex separators (separators > 1 char and different from '\\s+' are interpreted as regex); you can avoid this warning by specifying engine='python'.\n",
      "/Users/jiang/anaconda3/lib/python3.7/site-packages/ipykernel_launcher.py:40: SettingWithCopyWarning: \n",
      "A value is trying to be set on a copy of a slice from a DataFrame\n",
      "\n",
      "See the caveats in the documentation: https://pandas.pydata.org/pandas-docs/stable/user_guide/indexing.html#returning-a-view-versus-a-copy\n",
      "/Users/jiang/anaconda3/lib/python3.7/site-packages/ipykernel_launcher.py:42: SettingWithCopyWarning: \n",
      "A value is trying to be set on a copy of a slice from a DataFrame\n",
      "\n",
      "See the caveats in the documentation: https://pandas.pydata.org/pandas-docs/stable/user_guide/indexing.html#returning-a-view-versus-a-copy\n"
     ]
    },
    {
     "name": "stdout",
     "output_type": "stream",
     "text": [
      "num_user: 6040 num_movie: 3952\n",
      "train: 900188 test: 100021\n",
      "__________________________________________________________________________________________________\n",
      "Layer (type)                    Output Shape         Param #     Connected to                     \n",
      "==================================================================================================\n",
      "input_1 (InputLayer)            (None, None)         0                                            \n",
      "__________________________________________________________________________________________________\n",
      "input_2 (InputLayer)            (None, None)         0                                            \n",
      "__________________________________________________________________________________________________\n",
      "embedding_1 (Embedding)         (None, 1, 100)       604100      input_1[0][0]                    \n",
      "__________________________________________________________________________________________________\n",
      "embedding_2 (Embedding)         (None, 1, 100)       395300      input_2[0][0]                    \n",
      "__________________________________________________________________________________________________\n",
      "reshape_1 (Reshape)             (None, 100)          0           embedding_1[0][0]                \n",
      "__________________________________________________________________________________________________\n",
      "reshape_2 (Reshape)             (None, 100)          0           embedding_2[0][0]                \n",
      "__________________________________________________________________________________________________\n",
      "dot_1 (Dot)                     (None, 1)            0           reshape_1[0][0]                  \n",
      "                                                                 reshape_2[0][0]                  \n",
      "==================================================================================================\n",
      "Total params: 999,400\n",
      "Trainable params: 999,400\n",
      "Non-trainable params: 0\n",
      "__________________________________________________________________________________________________\n",
      "Epoch 1/5\n",
      "900188/900188 [==============================] - 39s 43us/step - loss: 2.9982 - acc: 0.3219\n",
      "Epoch 2/5\n",
      "900188/900188 [==============================] - 39s 43us/step - loss: 0.8104 - acc: 0.4329\n",
      "Epoch 3/5\n",
      "900188/900188 [==============================] - 40s 44us/step - loss: 0.7127 - acc: 0.4617\n",
      "Epoch 4/5\n",
      "900188/900188 [==============================] - 37s 41us/step - loss: 0.6158 - acc: 0.4947\n",
      "Epoch 5/5\n",
      "900188/900188 [==============================] - 37s 41us/step - loss: 0.5177 - acc: 0.5339\n"
     ]
    }
   ],
   "source": [
    "import pandas as pd\n",
    "import numpy as np\n",
    "from keras import Model, regularizers\n",
    "import keras.backend as K\n",
    "from keras.layers import Embedding, Reshape, Input, Dense, Dot\n",
    "from keras.models import load_model\n",
    "from keras import initializers\n",
    "from sklearn.utils import shuffle\n",
    "\n",
    "K.clear_session()\n",
    "\n",
    "\n",
    "def Recmand_model(num_user, num_movie, embedding_size):\n",
    "    # 输入层\n",
    "    input_uer = Input(shape=[None, ], dtype=\"int32\")\n",
    "    input_movie = Input(shape=[None, ], dtype=\"int32\")\n",
    "    \n",
    "    # 嵌入层\n",
    "    # input_dim: int > 0。词汇表大小， 即，最大整数 index + 1。\n",
    "    # 看keras常见API那个文件，里面介绍了这个Embedding这个的详细参数\n",
    "    user_embedding = Embedding(num_user + 1, embedding_size, input_length=1)(input_uer)\n",
    "    # 加正则\n",
    "    # user_embedding = Embedding(num_user + 1, embedding_size, input_length=1, embeddings_initializer=initializers.random_normal(stddev=0.01), embeddings_regularizer=regularizers.l2(0.01))(input_uer)    \n",
    "    user_embedding = Reshape((embedding_size,))(user_embedding)\n",
    "    \n",
    "    movie_embedding = Embedding(num_movie + 1, embedding_size, input_length=1)(input_movie)\n",
    "    movie_embedding = Reshape((embedding_size,))(movie_embedding)\n",
    "    \n",
    "    # 输出层\n",
    "    out = Dot(1)([user_embedding, movie_embedding])\n",
    "    \n",
    "    model = Model(inputs=[input_uer, input_movie], outputs=out)\n",
    "    model.compile(loss='mse', optimizer='Adam', metrics=['accuracy'])\n",
    "    model.summary()\n",
    "    return model\n",
    "\n",
    "\n",
    "def split_data(df):\n",
    "    df.sort_values(by=['time'], inplace=True)  # 按时间排序\n",
    "    boundary = df['time'].quantile(.9)  # 按时间划分 分界线\n",
    "    train = df[df['time'] < boundary]\n",
    "    train.sort_values(by=['user', 'time'], axis=0, inplace=True)\n",
    "    test = df[df['time'] >= boundary]\n",
    "    test.sort_values(by=['user', 'time'], axis=0, inplace=True)\n",
    "    # shuffle 数据集\n",
    "    return shuffle(train), shuffle(test)\n",
    "\n",
    "\n",
    "def load_data(path):\n",
    "    dformat = ['user', 'item', 'rating', 'time']\n",
    "    rating = pd.read_csv(path, sep=\"::\", header=None, names=dformat)\n",
    "    train_rating, test_rating = split_data(rating)\n",
    "    num_user = np.max(train_rating[\"user\"])\n",
    "    num_movie = np.max(train_rating[\"item\"])\n",
    "    print(\"num_user: {} num_movie: {}\".format(num_user, num_movie))\n",
    "    print(\"train: {} test: {}\".format(len(train_rating), len(test_rating)))\n",
    "\n",
    "    train_user, train_movie = train_rating['user'].values, train_rating['item'].values\n",
    "    test_user, test_movie = test_rating['user'].values, test_rating['item'].values\n",
    "\n",
    "    train_x = [train_user, train_movie]\n",
    "    train_y = train_rating['rating'].values\n",
    "    test_x = [test_user, test_movie]\n",
    "    test_y = test_rating['rating'].values\n",
    "    return num_user, num_movie, train_x, train_y, test_x, test_y\n",
    "\n",
    "\n",
    "def train(num_user, num_movie, train_x, train_y, model_save_path, batch_size=128, epochs=5, embedding_size=100):\n",
    "    model = Recmand_model(num_user, num_movie, embedding_size)\n",
    "    model.fit(train_x, train_y, batch_size=batch_size, epochs=epochs)\n",
    "    model.save(model_save_path)\n",
    "    return model\n",
    "\n",
    "\n",
    "def evaluate(model, test_x, test_y):\n",
    "    eval_ = model.evaluate(test_x, test_y, verbose=0)\n",
    "    print(\"Evaluation on test data: loss = %0.6f accuracy = %0.2f%%\" % (eval_[0], eval_[1] * 100))\n",
    "\n",
    "\n",
    "def predict(model, input_x):\n",
    "    pred = model.predict(input_x)\n",
    "    print(\"pred = {}\".format(pred))\n",
    "\n",
    "\n",
    "if __name__ == '__main__':\n",
    "    data_path = \"./data/ratings.dat\"\n",
    "    model_save_path = './model/mf_model.h5'\n",
    "\n",
    "    num_user, num_movie, train_x, train_y, test_x, test_y = load_data(data_path)\n",
    "\n",
    "    model = train(num_user, num_movie, train_x, train_y, model_save_path)"
   ]
  },
  {
   "cell_type": "markdown",
   "metadata": {},
   "source": [
    "## 验证"
   ]
  },
  {
   "cell_type": "code",
   "execution_count": 36,
   "metadata": {
    "ExecuteTime": {
     "end_time": "2020-08-23T11:13:06.085270Z",
     "start_time": "2020-08-23T11:13:04.509692Z"
    }
   },
   "outputs": [
    {
     "name": "stdout",
     "output_type": "stream",
     "text": [
      "Evaluation on test data: loss = 1.560601 accuracy = 37.72%\n"
     ]
    }
   ],
   "source": [
    "evaluate(model, test_x, test_y)"
   ]
  },
  {
   "cell_type": "markdown",
   "metadata": {},
   "source": [
    "## 加载模型"
   ]
  },
  {
   "cell_type": "code",
   "execution_count": 26,
   "metadata": {
    "ExecuteTime": {
     "end_time": "2020-08-23T10:05:38.148759Z",
     "start_time": "2020-08-23T10:05:37.641417Z"
    }
   },
   "outputs": [],
   "source": [
    "model = load_model(model_save_path)"
   ]
  },
  {
   "cell_type": "markdown",
   "metadata": {},
   "source": [
    "## 预测"
   ]
  },
  {
   "cell_type": "code",
   "execution_count": 27,
   "metadata": {
    "ExecuteTime": {
     "end_time": "2020-08-23T10:05:39.865348Z",
     "start_time": "2020-08-23T10:05:39.856793Z"
    }
   },
   "outputs": [
    {
     "data": {
      "text/plain": [
       "[array([   1,    1,    1, ..., 6040, 6040, 6040]),\n",
       " array([3186, 1721, 1270, ..., 1784,  161, 1221])]"
      ]
     },
     "execution_count": 27,
     "metadata": {},
     "output_type": "execute_result"
    }
   ],
   "source": [
    "test_x"
   ]
  },
  {
   "cell_type": "code",
   "execution_count": 28,
   "metadata": {
    "ExecuteTime": {
     "end_time": "2020-08-23T10:05:40.788430Z",
     "start_time": "2020-08-23T10:05:40.782967Z"
    }
   },
   "outputs": [
    {
     "data": {
      "text/plain": [
       "4"
      ]
     },
     "execution_count": 28,
     "metadata": {},
     "output_type": "execute_result"
    }
   ],
   "source": [
    "test_y[-1]"
   ]
  },
  {
   "cell_type": "code",
   "execution_count": 29,
   "metadata": {
    "ExecuteTime": {
     "end_time": "2020-08-23T10:05:41.880114Z",
     "start_time": "2020-08-23T10:05:41.873859Z"
    }
   },
   "outputs": [
    {
     "data": {
      "text/plain": [
       "3"
      ]
     },
     "execution_count": 29,
     "metadata": {},
     "output_type": "execute_result"
    }
   ],
   "source": [
    "test_y[-2]"
   ]
  },
  {
   "cell_type": "code",
   "execution_count": 21,
   "metadata": {
    "ExecuteTime": {
     "end_time": "2020-08-23T02:34:11.143251Z",
     "start_time": "2020-08-23T02:34:11.138074Z"
    }
   },
   "outputs": [
    {
     "name": "stdout",
     "output_type": "stream",
     "text": [
      "pred = [[4.366831]]\n"
     ]
    }
   ],
   "source": [
    "input_x = [np.array([6040]), np.array([1221])]\n",
    "predict(model, input_x)"
   ]
  },
  {
   "cell_type": "code",
   "execution_count": 22,
   "metadata": {
    "ExecuteTime": {
     "end_time": "2020-08-23T02:34:36.012906Z",
     "start_time": "2020-08-23T02:34:36.008214Z"
    }
   },
   "outputs": [
    {
     "name": "stdout",
     "output_type": "stream",
     "text": [
      "pred = [[3.1422122]]\n"
     ]
    }
   ],
   "source": [
    "input_x = [np.array([6040]), np.array([161])]\n",
    "predict(model, input_x)"
   ]
  }
 ],
 "metadata": {
  "kernelspec": {
   "display_name": "Python 3",
   "language": "python",
   "name": "python3"
  },
  "language_info": {
   "codemirror_mode": {
    "name": "ipython",
    "version": 3
   },
   "file_extension": ".py",
   "mimetype": "text/x-python",
   "name": "python",
   "nbconvert_exporter": "python",
   "pygments_lexer": "ipython3",
   "version": "3.7.0"
  },
  "toc": {
   "base_numbering": 1,
   "nav_menu": {},
   "number_sections": true,
   "sideBar": true,
   "skip_h1_title": false,
   "title_cell": "Table of Contents",
   "title_sidebar": "Contents",
   "toc_cell": false,
   "toc_position": {},
   "toc_section_display": true,
   "toc_window_display": false
  }
 },
 "nbformat": 4,
 "nbformat_minor": 2
}
